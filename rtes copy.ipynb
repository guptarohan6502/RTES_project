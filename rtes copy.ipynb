{
 "cells": [
  {
   "cell_type": "code",
   "execution_count": 804,
   "metadata": {},
   "outputs": [],
   "source": [
    "import numpy as np\n",
    "import random\n",
    "import math\n",
    "from matplotlib import pyplot as plt\n",
    "import warnings\n",
    "\n",
    "warnings.filterwarnings('ignore')\n"
   ]
  },
  {
   "cell_type": "code",
   "execution_count": 805,
   "metadata": {},
   "outputs": [],
   "source": [
    "# la bound\n",
    "# lb bound\n",
    "# ht bound\n"
   ]
  },
  {
   "cell_type": "code",
   "execution_count": null,
   "metadata": {},
   "outputs": [],
   "source": []
  },
  {
   "cell_type": "code",
   "execution_count": 806,
   "metadata": {},
   "outputs": [],
   "source": [
    "def gen_deadline(exec_time, period):\n",
    "    # [a,b]\n",
    "    b = 1.2 * period\n",
    "    if(exec_time < 10):\n",
    "        a = exec_time\n",
    "    elif(exec_time < 100 and exec_time >= 10):\n",
    "        a = 2*exec_time\n",
    "    elif(exec_time < 1000 and exec_time >= 100):\n",
    "        a = 3*exec_time\n",
    "    else:\n",
    "        a = 4*exec_time\n",
    "\n",
    "    return a+random.random()*(b-a)\n",
    "\n",
    "\n",
    "def gen_tasksets(utilizations, periods):\n",
    "    \"\"\"\n",
    "    Take a list of task utilization sets and a list of task period sets and\n",
    "    return a list of couples (c, p) sets. The computation times are truncated\n",
    "    at a precision of 10^-10 to avoid floating point precision errors.\n",
    "    Args:\n",
    "        - `utilization`: The list of task utilization sets. For example::\n",
    "            [[0.3, 0.4, 0.8], [0.1, 0.9, 0.5]]\n",
    "        - `periods`: The list of task period sets. For examples::\n",
    "            [[100, 50, 1000], [200, 500, 10]]\n",
    "    Returns:\n",
    "        For the above example, it returns::\n",
    "            [[(30.0, 100), (20.0, 50), (800.0, 1000)],\n",
    "             [(20.0, 200), (450.0, 500), (5.0, 10)]]\n",
    "    \"\"\"\n",
    "    def trunc(x, p):\n",
    "        return int(x * 10 ** p) / float(10 ** p)\n",
    "    # [[print(ui) for ui, pi in zip(us, ps)]\n",
    "    #         for us, ps in zip(utilizations, periods)]\n",
    "    return np.array([[[trunc(ui * pi, 6), trunc(pi, 6), trunc(gen_deadline(trunc(ui * pi, 6), trunc(pi, 6)), 6)] for ui, pi in zip(us, ps)]\n",
    "            for us, ps in zip(utilizations, periods)])\n"
   ]
  },
  {
   "cell_type": "code",
   "execution_count": 807,
   "metadata": {},
   "outputs": [],
   "source": [
    "def custom_period(n, nsets,max_,min_=0):\n",
    "\tmax_power = np.log(max_)\n",
    "\n",
    "\n",
    "\tintervals = np.arange(0,np.floor(max_power)+1)\n",
    "\tintervals = np.append(intervals, max_power)\n",
    "\t#print(intervals)\n",
    "\ttask_pp = ((n-1)//(len(intervals)-1))\n",
    "\t\n",
    "\ttask_lf = np.mod(n-1, len(intervals)-1).astype(int)\n",
    "\t#print(task_lf,task_pp)\n",
    "\tperiods = np.zeros((nsets, n))\n",
    "\tfor i in range(nsets):\n",
    "\t\tfor j in range(len(intervals)-1):\n",
    "\t\t\tif(j<task_lf):\n",
    "\t\t\t\tperiods[i][j*task_pp+j:(j+1)*task_pp+j+1] = np.random.uniform(low=np.exp(intervals[j]), high=np.exp(intervals[j+1]), size=task_pp+1)\n",
    "\t\t\telse:\n",
    "\t\t\t\tperiods[i][j*task_pp+task_lf:(j+1)*task_pp+task_lf] = np.random.uniform(low=np.exp(intervals[j]), high=np.exp(intervals[j+1]), size=task_pp)\n",
    "\tperiods[0:nsets,-1] =max_ \n",
    "\treturn periods\n"
   ]
  },
  {
   "cell_type": "code",
   "execution_count": 808,
   "metadata": {},
   "outputs": [
    {
     "data": {
      "text/plain": [
       "array([[  1.69118469,   2.50405235,   2.14329864,   6.01999225,\n",
       "          3.8469321 ,   5.04954801,  18.44079229,  11.62036636,\n",
       "         18.57310838,  48.30773295,  44.54173887,  97.91894767,\n",
       "         82.22153597, 100.        ],\n",
       "       [  2.40718125,   1.2348009 ,   1.23409784,   5.279604  ,\n",
       "          3.25112872,   4.42378388,  11.14065946,  11.41513561,\n",
       "         19.40173756,  24.63179974,  28.982189  ,  58.615245  ,\n",
       "         72.72111359, 100.        ]])"
      ]
     },
     "execution_count": 808,
     "metadata": {},
     "output_type": "execute_result"
    }
   ],
   "source": [
    "custom_period(14,2,100)"
   ]
  },
  {
   "cell_type": "code",
   "execution_count": 809,
   "metadata": {},
   "outputs": [],
   "source": [
    "def UUniFastDiscard(n, u, nsets):\n",
    "    sets = []\n",
    "    while len(sets) < nsets:\n",
    "        # Classic UUniFast algorithm:\n",
    "        utilizations = []\n",
    "        sumU = u\n",
    "        for i in range(1, n):\n",
    "            nextSumU = sumU * random.random() ** (1.0 / (n - i))\n",
    "            utilizations.append(sumU - nextSumU)\n",
    "            sumU = nextSumU\n",
    "        utilizations.append(sumU)\n",
    "\n",
    "        # If no task utilization exceeds 1:\n",
    "        if all(ut <= 1 for ut in utilizations):\n",
    "            sets.append(utilizations)\n",
    "\n",
    "    return sets\n",
    "\n",
    "    \n",
    "def gen_uunifastdiscard(nsets, u, n):\n",
    "    \"\"\"\n",
    "    The UUniFast algorithm was proposed by Bini for generating task\n",
    "    utilizations on uniprocessor architectures.\n",
    "    The UUniFast-Discard algorithm extends it to multiprocessor by\n",
    "    discarding task sets containing any utilization that exceeds 1.\n",
    "    This algorithm is easy and widely used. However, it suffers from very\n",
    "    long computation times when n is close to u. Stafford's algorithm is\n",
    "    faster.\n",
    "    Args:\n",
    "        - `n`: The number of tasks in a task set.\n",
    "        - `u`: Total utilization of the task set.\n",
    "        - `nsets`: Number of sets to generate.\n",
    "    Returns `nsets` of `n` task utilizations.\n",
    "    \"\"\"\n",
    "    return UUniFastDiscard(n, u, nsets)"
   ]
  },
  {
   "cell_type": "code",
   "execution_count": 810,
   "metadata": {},
   "outputs": [],
   "source": [
    "def get_taskset(nsets, n):\n",
    "\tu = 0.9\n",
    "\t#n = 1000\n",
    "\tutilizations = gen_uunifastdiscard(nsets, u, n)\n",
    "\tperiods = custom_period(n, nsets, 1000, 10)\n",
    "\treturn gen_tasksets(utilizations, periods)\n",
    "\n",
    "\t"
   ]
  },
  {
   "cell_type": "markdown",
   "metadata": {},
   "source": []
  },
  {
   "cell_type": "code",
   "execution_count": 811,
   "metadata": {},
   "outputs": [],
   "source": [
    "taskset_paper = np.array([[6000, 18000, 31000], [2000, 9000, 9800], [1000, 12000, 17000], [\n",
    "                         90, 3000, 4200], [8, 78, 96], [2, 16, 12], [10, 120, 280], [26, 160, 660]])\n"
   ]
  },
  {
   "cell_type": "code",
   "execution_count": 812,
   "metadata": {},
   "outputs": [],
   "source": [
    "def procDemand_func(taskset,t):\n",
    "    deadlines = taskset[:,1]\n",
    "    periods = taskset[:,2]\n",
    "    wcet = taskset[:,0]\n",
    "    \n",
    "    #utilizations = wcet/periods #wcet/periods\n",
    "\t#print(deadlines, periods, utilizations)\n",
    "    #total_utilization = np.sum(utilizations)\n",
    "\n",
    "    #task_done = (1 + np.floor((t-deadlines)/(periods)))*taskset[:,0]#wcet\n",
    "    h_t = np.sum(np.maximum(0, 1 + np.floor((t-deadlines)/(periods)))*wcet)\n",
    "\n",
    "    # task_done[task_done<0] = 0\n",
    "    # print(task_done)\n",
    "\n",
    "    # h_t = np.sum(task_done)\n",
    "\n",
    "    return h_t"
   ]
  },
  {
   "cell_type": "code",
   "execution_count": 813,
   "metadata": {},
   "outputs": [],
   "source": [
    "t = 16974\n",
    "ht = procDemand_func(taskset_paper, t)\n",
    "#print(ht)"
   ]
  },
  {
   "cell_type": "code",
   "execution_count": 814,
   "metadata": {},
   "outputs": [],
   "source": [
    "# def get_La(taskset):\n",
    "#     deadlines = taskset[:,2]\n",
    "#     periods = taskset[:,1]\n",
    "#     utilizations = taskset[:,0]/taskset[:,1]\n",
    "# \t#print(deadlines, periods, utilizations)\n",
    "#     total_utilization = np.sum(utilizations)\n",
    "# \t#print(np.sum((periods-deadlines)*utilizations)/(1-total_utilization))\n",
    "#     La = np.max(np.max(deadlines),np.sum((periods-deadlines)*utilizations)/(1-total_utilization))\n",
    "#     return La"
   ]
  },
  {
   "cell_type": "code",
   "execution_count": 815,
   "metadata": {},
   "outputs": [],
   "source": [
    "taskset_paper = np.array([[6000, 18000, 31000], [2000, 9000, 9800], [1000, 12000, 17000], [90, 3000, 4200], [8, 78, 96], [2, 16, 12], [10, 120, 280], [26, 160, 660]])"
   ]
  },
  {
   "cell_type": "code",
   "execution_count": 816,
   "metadata": {},
   "outputs": [],
   "source": [
    "def La_bound(taskset):\n",
    "\t\"\"\"\n",
    "\tCompute La calculations for the La bound\n",
    "\t\n",
    "\t\"\"\"\n",
    "\twcet = taskset[:,0]\n",
    "\tdeadlines = taskset[:,1]\n",
    "\tperiods = taskset[:,2]\n",
    "\tutilizations = wcet/periods\n",
    "\t#print(\"deadlines\", deadlines, \"periods\", periods, \"utilizations\", utilizations)\n",
    "\t#print(deadlines, periods, utilizations)\n",
    "\ttotal_utilization = np.sum(utilizations)\n",
    "\t#print(\"total utilization : \" + str(total_utilization))\n",
    "\t#print(np.sum((periods-deadlines)*utilizations)/(1-total_utilization))\n",
    "\t#La = np.maximum(np.max(deadlines),np.max((periods-deadlines))*(total_utilization/(1-total_utilization)))\n",
    "\tprint(np.sum((periods-deadlines)*utilizations)/(1-total_utilization))\n",
    "\tLa = np.maximum(np.max(deadlines),np.sum((periods-deadlines)*utilizations)/(1-total_utilization))\n",
    "\treturn La\n"
   ]
  },
  {
   "cell_type": "code",
   "execution_count": 817,
   "metadata": {},
   "outputs": [
    {
     "name": "stdout",
     "output_type": "stream",
     "text": [
      "[[[2.81090000e-02 2.07914800e+00 1.25130800e+00]\n",
      "  [1.22832000e-01 2.45404100e+00 2.53828000e-01]\n",
      "  [9.51730000e-02 1.87139700e+00 2.24074700e+00]\n",
      "  [4.47089000e-01 6.46324900e+00 5.95776900e+00]\n",
      "  [1.45020000e-02 3.77241700e+00 6.02330000e-01]\n",
      "  [6.67310000e-02 6.80206800e+00 7.27825500e+00]\n",
      "  [3.21670000e-02 1.10356510e+01 8.32180500e+00]\n",
      "  [1.08439100e+00 1.14783450e+01 6.47223600e+00]\n",
      "  [4.40347000e-01 1.09120170e+01 1.52352600e+00]\n",
      "  [8.65953000e-01 2.98206030e+01 5.82018300e+00]\n",
      "  [1.05700810e+01 5.02976690e+01 5.87900200e+01]\n",
      "  [1.92923000e-01 7.30076940e+01 2.34416050e+01]\n",
      "  [3.50228000e+00 1.02764628e+02 8.01786190e+01]\n",
      "  [3.75693600e+00 2.20221866e+02 1.96827236e+02]\n",
      "  [1.20115720e+01 1.52538379e+02 3.65654580e+01]\n",
      "  [1.46463690e+01 9.90135572e+02 1.03249906e+03]\n",
      "  [7.69443440e+01 4.71983490e+02 3.55272817e+02]\n",
      "  [1.54670010e+01 1.00000000e+03 9.23383306e+02]]]\n",
      "66.48667833419866\n",
      "1000.0\n"
     ]
    }
   ],
   "source": [
    "taskset = get_taskset(1, 18)\n",
    "print(taskset)\n",
    "La = La_bound(taskset[0])\n",
    "taskset[:,0]/taskset[:,1]\n",
    "print(La)"
   ]
  },
  {
   "cell_type": "code",
   "execution_count": 818,
   "metadata": {},
   "outputs": [],
   "source": [
    "def Lb_bound(taskset):\n",
    "    \"A synchronous busy period is a processor busy period in which all tasks are release simultaneously at the beginning of the processor busy period, and then, at their maximum rate, and ended by the first processor idle period(the length of such a period can be zero). The length of the synchronous busy period Lb can be computed by the following process\"\n",
    "    wcet = taskset[:,0]\n",
    "    deadlines = taskset[:,1]\n",
    "    periods = taskset[:,2]\n",
    "    w0 = np.sum(wcet)\n",
    "    a = w0\n",
    "    #b =0\n",
    "    # for i in range(0,len(periods)):\n",
    "    #     b += np.ceil(a/periods[i])*wcet[i]\n",
    "    b = np.sum(np.ceil(a/periods)*wcet)\n",
    "    while a != b:\n",
    "        a = b\n",
    "        b = np.sum(np.ceil(a/periods)*wcet)\n",
    "        # for i in range(0,len(periods)):\n",
    "        #     print(a, periods[i], wcet[i])\n",
    "        #     b += np.ceil(a/periods[i])*wcet[i]\n",
    "    Lb = b\n",
    "    \n",
    "    return Lb"
   ]
  },
  {
   "cell_type": "code",
   "execution_count": 819,
   "metadata": {},
   "outputs": [
    {
     "name": "stdout",
     "output_type": "stream",
     "text": [
      "16984.0\n"
     ]
    }
   ],
   "source": [
    "Lb = Lb_bound(taskset_paper)\n",
    "print(Lb)"
   ]
  },
  {
   "cell_type": "code",
   "execution_count": 820,
   "metadata": {},
   "outputs": [
    {
     "name": "stdout",
     "output_type": "stream",
     "text": [
      "16\n"
     ]
    }
   ],
   "source": [
    "deadlines = taskset_paper[:, 1]\n",
    "d_min = np.min(deadlines)\n",
    "print(d_min)"
   ]
  },
  {
   "cell_type": "code",
   "execution_count": 821,
   "metadata": {},
   "outputs": [],
   "source": [
    "def get_dmin(deadliness, L):\n",
    "    return np.min(deadliness)\n",
    "    \n",
    "    "
   ]
  },
  {
   "cell_type": "code",
   "execution_count": 822,
   "metadata": {},
   "outputs": [
    {
     "name": "stdout",
     "output_type": "stream",
     "text": [
      "16\n"
     ]
    }
   ],
   "source": [
    "deadlines = taskset_paper[:, 1]\n",
    "L = np.minimum(La, Lb)\n",
    "d_min = get_dmin(deadlines, L)\n",
    "print(d_min)\n",
    "\n",
    "# t = np.min(deadlines < L)\n",
    "# print(t)\n"
   ]
  },
  {
   "cell_type": "code",
   "execution_count": 823,
   "metadata": {},
   "outputs": [
    {
     "data": {
      "text/plain": [
       "(8, 3)"
      ]
     },
     "execution_count": 823,
     "metadata": {},
     "output_type": "execute_result"
    }
   ],
   "source": [
    "taskset_paper.shape"
   ]
  },
  {
   "cell_type": "code",
   "execution_count": 824,
   "metadata": {},
   "outputs": [],
   "source": [
    "def get_max_abs_deadline(taskset, L):\n",
    "    n = taskset.shape[0]\n",
    "    abs_deadlines = []\n",
    "    \n",
    "    for i in range(n):\n",
    "        p = 0\n",
    "        j = 0\n",
    "        Ti = taskset[i][2]\n",
    "        Di = taskset[i][1]\n",
    "        while p < L:\n",
    "            j += 1\n",
    "            q = p\n",
    "            p = j*Ti + Di\n",
    "            \n",
    "        abs_deadlines.append(q)\n",
    "    return np.max(abs_deadlines)\n",
    "    "
   ]
  },
  {
   "cell_type": "code",
   "execution_count": 825,
   "metadata": {},
   "outputs": [
    {
     "name": "stdout",
     "output_type": "stream",
     "text": [
      "16974\n"
     ]
    }
   ],
   "source": [
    "L = 16984\n",
    "t = get_max_abs_deadline(taskset_paper, L)\n",
    "\n",
    "print(t)"
   ]
  },
  {
   "cell_type": "code",
   "execution_count": 826,
   "metadata": {},
   "outputs": [],
   "source": [
    "def get_max_di(taskset, t):\n",
    "    n = taskset.shape[0]\n",
    "    d_max = 0\n",
    "    \n",
    "    for j in range(n):\n",
    "        if taskset[j][1] < t:\n",
    "            d = np.floor((t - taskset[j][1])/taskset[j][2])*taskset[j][2] + taskset[j][1]\n",
    "            if d == t:\n",
    "                d = d - taskset[j][2]\n",
    "            if d > d_max:\n",
    "                d_max = d\n",
    "                \n",
    "    return d_max\n",
    "    \n",
    "    "
   ]
  },
  {
   "cell_type": "code",
   "execution_count": 827,
   "metadata": {},
   "outputs": [],
   "source": [
    "def qpa(taskset):\n",
    "    \n",
    "    La = La_bound(taskset)\n",
    "    #print(\"La : \" + str(La))\n",
    "    #Lb = Lb_bound(taskset)\n",
    "    #print(\"Lb : \" + str(Lb))\n",
    "    L =La\n",
    "\n",
    "    print(\"L : \" + str(L))\n",
    "    \n",
    "    t = get_max_abs_deadline(taskset, L)\n",
    "    print(\"t : \" + str(t))\n",
    "    h_t = procDemand_func(taskset, t)\n",
    "    print(\"h(t) : \" + str(h_t))\n",
    "    d_min = get_dmin(taskset[:,1], L)\n",
    "    #print(\"d_min : \" + str(d_min))\n",
    "    #print(\"did not enter yet\")\n",
    "    total_calc = 1\n",
    "    while h_t <= t and h_t > d_min:\n",
    "        h_t = procDemand_func(taskset, t)\n",
    "        #print(\"came\")\n",
    "        #print(\"t:\" + str(t) + \"ht\" + str(h_t))\n",
    "        if h_t < t:\n",
    "            t = h_t\n",
    "        else:\n",
    "            d_max = get_max_di(taskset, t)\n",
    "            t = d_max\n",
    "        total_calc+=1\n",
    "    \n",
    "   #print(\"don't know if it went\")\n",
    "    \n",
    "    # if h_t <= d_min:\n",
    "    #     print(\"Task set is schedulable\")\n",
    "    # else:\n",
    "    #     print(\"Task set is not schedulable\")\n",
    "    print(\"total calculations : \" + str(total_calc))\n",
    "    return total_calc\n",
    "        \n",
    "\n",
    "    "
   ]
  },
  {
   "cell_type": "code",
   "execution_count": 828,
   "metadata": {},
   "outputs": [
    {
     "name": "stdout",
     "output_type": "stream",
     "text": [
      "[[3.21701000e-01 2.65925000e+00 1.63881200e+00]\n",
      " [8.62600000e-03 2.20223500e+00 5.15835000e-01]\n",
      " [2.05055000e-01 6.07453900e+00 3.44262000e-01]\n",
      " [6.06666000e-01 6.72150500e+00 6.49602200e+00]\n",
      " [2.03217000e-01 1.40782890e+01 5.71676300e+00]\n",
      " [1.32009550e+01 4.21631660e+01 3.37675580e+01]\n",
      " [2.66511700e+01 1.31598529e+02 9.57334200e+01]\n",
      " [3.02311200e+00 1.66301992e+02 1.80633577e+02]\n",
      " [3.44502350e+01 5.94593756e+02 4.17154937e+02]\n",
      " [4.49310730e+01 1.00000000e+03 2.17341696e+02]]\n",
      "211.87832749636357\n",
      "L : 1000.0\n",
      "t : 999.958933\n",
      "h(t) : 1631.687688\n",
      "total calculations : 1\n"
     ]
    },
    {
     "data": {
      "text/plain": [
       "1"
      ]
     },
     "execution_count": 828,
     "metadata": {},
     "output_type": "execute_result"
    }
   ],
   "source": [
    "taskset = get_taskset(1,10)\n",
    "print(taskset[0])\n",
    "qpa(taskset[0])"
   ]
  },
  {
   "cell_type": "code",
   "execution_count": 829,
   "metadata": {},
   "outputs": [],
   "source": [
    "def La_boudcalculations(taskset):\n",
    "\tLa = La_bound(taskset)\n",
    "\tprint(\"La : \" + str(La))\n",
    "\twcet = taskset[:,0]\n",
    "\tdeadlines = taskset[:,1]\n",
    "\tperiods = taskset[:,2]\n",
    "\ttot_abs_deadlines = 0\n",
    "\tfor job in taskset:\n",
    "\t\tjob_abs_deadline=0\n",
    "\t\tif(job[1] <= job[2]):\n",
    "\t\t\tjob_abs_deadline = np.floor((La)/job[2])\n",
    "\t\t\tif(job_abs_deadline*job[2]+job[1]<=La):\n",
    "\t\t\t\tjob_abs_deadline = job_abs_deadline+1\n",
    "\t\telse:\n",
    "\t\t\tjob_abs_deadline = np.floor((La)/job[1])\n",
    "\t\ttot_abs_deadlines +=job_abs_deadline\n",
    "\t\tprint(job_abs_deadline, job[1], job[2])\n",
    "\treturn tot_abs_deadlines"
   ]
  },
  {
   "cell_type": "code",
   "execution_count": 830,
   "metadata": {},
   "outputs": [
    {
     "name": "stdout",
     "output_type": "stream",
     "text": [
      "3.236290723035259\n",
      "La : 3.236290723035259\n"
     ]
    },
    {
     "ename": "ValueError",
     "evalue": "The truth value of an array with more than one element is ambiguous. Use a.any() or a.all()",
     "output_type": "error",
     "traceback": [
      "\u001b[1;31m---------------------------------------------------------------------------\u001b[0m",
      "\u001b[1;31mValueError\u001b[0m                                Traceback (most recent call last)",
      "\u001b[1;32m~\\AppData\\Local\\Temp/ipykernel_44692/1711244854.py\u001b[0m in \u001b[0;36m<module>\u001b[1;34m\u001b[0m\n\u001b[1;32m----> 1\u001b[1;33m \u001b[0mprint\u001b[0m\u001b[1;33m(\u001b[0m\u001b[0mLa_boudcalculations\u001b[0m\u001b[1;33m(\u001b[0m\u001b[0mget_taskset\u001b[0m\u001b[1;33m(\u001b[0m\u001b[1;36m1\u001b[0m\u001b[1;33m,\u001b[0m\u001b[1;36m18\u001b[0m\u001b[1;33m)\u001b[0m\u001b[1;33m)\u001b[0m\u001b[1;33m)\u001b[0m\u001b[1;33m\u001b[0m\u001b[1;33m\u001b[0m\u001b[0m\n\u001b[0m",
      "\u001b[1;32m~\\AppData\\Local\\Temp/ipykernel_44692/3233780031.py\u001b[0m in \u001b[0;36mLa_boudcalculations\u001b[1;34m(taskset)\u001b[0m\n\u001b[0;32m      8\u001b[0m         \u001b[1;32mfor\u001b[0m \u001b[0mjob\u001b[0m \u001b[1;32min\u001b[0m \u001b[0mtaskset\u001b[0m\u001b[1;33m:\u001b[0m\u001b[1;33m\u001b[0m\u001b[1;33m\u001b[0m\u001b[0m\n\u001b[0;32m      9\u001b[0m                 \u001b[0mjob_abs_deadline\u001b[0m\u001b[1;33m=\u001b[0m\u001b[1;36m0\u001b[0m\u001b[1;33m\u001b[0m\u001b[1;33m\u001b[0m\u001b[0m\n\u001b[1;32m---> 10\u001b[1;33m                 \u001b[1;32mif\u001b[0m\u001b[1;33m(\u001b[0m\u001b[0mjob\u001b[0m\u001b[1;33m[\u001b[0m\u001b[1;36m1\u001b[0m\u001b[1;33m]\u001b[0m \u001b[1;33m<=\u001b[0m \u001b[0mjob\u001b[0m\u001b[1;33m[\u001b[0m\u001b[1;36m2\u001b[0m\u001b[1;33m]\u001b[0m\u001b[1;33m)\u001b[0m\u001b[1;33m:\u001b[0m\u001b[1;33m\u001b[0m\u001b[1;33m\u001b[0m\u001b[0m\n\u001b[0m\u001b[0;32m     11\u001b[0m                         \u001b[0mjob_abs_deadline\u001b[0m \u001b[1;33m=\u001b[0m \u001b[0mnp\u001b[0m\u001b[1;33m.\u001b[0m\u001b[0mfloor\u001b[0m\u001b[1;33m(\u001b[0m\u001b[1;33m(\u001b[0m\u001b[0mLa\u001b[0m\u001b[1;33m)\u001b[0m\u001b[1;33m/\u001b[0m\u001b[0mjob\u001b[0m\u001b[1;33m[\u001b[0m\u001b[1;36m2\u001b[0m\u001b[1;33m]\u001b[0m\u001b[1;33m)\u001b[0m\u001b[1;33m\u001b[0m\u001b[1;33m\u001b[0m\u001b[0m\n\u001b[0;32m     12\u001b[0m                         \u001b[1;32mif\u001b[0m\u001b[1;33m(\u001b[0m\u001b[0mjob_abs_deadline\u001b[0m\u001b[1;33m*\u001b[0m\u001b[0mjob\u001b[0m\u001b[1;33m[\u001b[0m\u001b[1;36m2\u001b[0m\u001b[1;33m]\u001b[0m\u001b[1;33m+\u001b[0m\u001b[0mjob\u001b[0m\u001b[1;33m[\u001b[0m\u001b[1;36m1\u001b[0m\u001b[1;33m]\u001b[0m\u001b[1;33m<=\u001b[0m\u001b[0mLa\u001b[0m\u001b[1;33m)\u001b[0m\u001b[1;33m:\u001b[0m\u001b[1;33m\u001b[0m\u001b[1;33m\u001b[0m\u001b[0m\n",
      "\u001b[1;31mValueError\u001b[0m: The truth value of an array with more than one element is ambiguous. Use a.any() or a.all()"
     ]
    }
   ],
   "source": [
    "print(La_boudcalculations(get_taskset(1,18)))"
   ]
  },
  {
   "cell_type": "code",
   "execution_count": null,
   "metadata": {},
   "outputs": [],
   "source": [
    "def Lb_boudcalculations(taskset):\n",
    "\tLb = Lb_bound(taskset)\n",
    "\twcet = taskset[:,0]\n",
    "\tdeadlines = taskset[:,1]\n",
    "\tperiods = taskset[:,2]\n",
    "\ttot_abs_deadlines = 0\n",
    "\tprint(Lb)\n",
    "\tfor job in taskset:\n",
    "\t\tjob_abs_deadline=0\n",
    "\t\tif(job[1] <= job[2]):\n",
    "\t\t\tjob_abs_deadline = np.floor((Lb)/job[2])\n",
    "\t\t\tif(job_abs_deadline*job[2]+job[1]<=La):\n",
    "\t\t\t\tjob_abs_deadline = job_abs_deadline+1\n",
    "\t\telse:\n",
    "\t\t\tjob_abs_deadline = np.floor((Lb)/job[2])\n",
    "\t\ttot_abs_deadlines +=job_abs_deadline\n",
    "\t\tprint(job_abs_deadline, job[1], job[2])\n",
    "\treturn tot_abs_deadlines"
   ]
  },
  {
   "cell_type": "code",
   "execution_count": null,
   "metadata": {},
   "outputs": [
    {
     "name": "stdout",
     "output_type": "stream",
     "text": [
      "16984.0\n",
      "1.0 18000 31000\n",
      "1.0 9000 9800\n",
      "1.0 12000 17000\n",
      "4.0 3000 4200\n",
      "177.0 78 96\n",
      "1415.0 16 12\n",
      "61.0 120 280\n",
      "26.0 160 660\n",
      "1686.0\n"
     ]
    },
    {
     "data": {
      "text/plain": [
       "'Using the minimum value mean, there are 1,638\\nabsolute deadlines that must be checked by the old\\napproach.'"
      ]
     },
     "execution_count": 392,
     "metadata": {},
     "output_type": "execute_result"
    }
   ],
   "source": [
    "print(Lb_boudcalculations(taskset_paper))\n",
    "\n",
    "'''Using the minimum value mean, there are 1,638\n",
    "absolute deadlines that must be checked by the old\n",
    "approach.'''"
   ]
  },
  {
   "cell_type": "code",
   "execution_count": null,
   "metadata": {},
   "outputs": [],
   "source": [
    "def La_starbound(taskset):\n",
    "\t\"\"\"\n",
    "\tCompute La calculations for the La bound\n",
    "\t\n",
    "\t\"\"\"\n",
    "\twcet = taskset[:,0]\n",
    "\tdeadlines = taskset[:,1]\n",
    "\tperiods = taskset[:,2]\n",
    "\tutilizations = wcet/periods\n",
    "\t#print(\"deadlines\", deadlines, \"periods\", periods, \"utilizations\", utilizations)\n",
    "\t#print(deadlines, periods, utilizations)\n",
    "\ttotal_utilization = np.sum(utilizations)\n",
    "\t#print(\"total utilization : \" + str(total_utilization))\n",
    "\t#print(np.sum((periods-deadlines)*utilizations)/(1-total_utilization))\n",
    "\t#La = np.maximum(np.max(deadlines),np.max((periods-deadlines))*(total_utilization/(1-total_utilization)))\n",
    "\tprint(np.max(deadlines))\n",
    "\tLa = np.maximum(np.max(deadlines-periods),np.sum((periods-deadlines)*utilizations)/(1-total_utilization))\n",
    "\treturn La"
   ]
  },
  {
   "cell_type": "code",
   "execution_count": null,
   "metadata": {},
   "outputs": [],
   "source": [
    "def La_starcalculations(taskset):\n",
    "\tLa_star = La_starbound(taskset)\n",
    "\twcet = taskset[:,0]\n",
    "\tdeadlines = taskset[:,1]\n",
    "\tperiods = taskset[:,2]\n",
    "\ttot_abs_deadlines = 0\n",
    "\tfor job in taskset:\n",
    "\t\tjob_abs_deadline=0\n",
    "\t\tif(job[1] <= job[2]):\n",
    "\t\t\tjob_abs_deadline = np.floor((La_star)/job[2])\n",
    "\t\t\tif(job_abs_deadline*job[2]+job[1]<=La):\n",
    "\t\t\t\tjob_abs_deadline = job_abs_deadline+1\n",
    "\t\telse:\n",
    "\t\t\tjob_abs_deadline = np.floor((La_star)/job[2])\n",
    "\t\ttot_abs_deadlines +=job_abs_deadline\n",
    "\t\tprint(job_abs_deadline, job[1], job[2])\n",
    "\treturn tot_abs_deadlines"
   ]
  },
  {
   "cell_type": "code",
   "execution_count": null,
   "metadata": {},
   "outputs": [
    {
     "name": "stdout",
     "output_type": "stream",
     "text": [
      "18000\n",
      "1.0 18000 31000\n",
      "1.0 9000 9800\n",
      "1.0 12000 17000\n",
      "4.0 3000 4200\n",
      "160.0 78 96\n",
      "1279.0 16 12\n",
      "55.0 120 280\n",
      "24.0 160 660\n",
      "1525.0\n"
     ]
    }
   ],
   "source": [
    "print(La_starcalculations(taskset_paper))\n"
   ]
  },
  {
   "cell_type": "markdown",
   "metadata": {},
   "source": [
    "# Plotting"
   ]
  },
  {
   "cell_type": "markdown",
   "metadata": {},
   "source": [
    "### 1. h(t) calculations vs number of tasks."
   ]
  },
  {
   "cell_type": "code",
   "execution_count": null,
   "metadata": {},
   "outputs": [
    {
     "name": "stdout",
     "output_type": "stream",
     "text": [
      "1\n",
      "L : 1000.0\n",
      "t : 999.790095\n",
      "h(t) : 2811.122314\n",
      "total calculations : 1\n",
      "3\n",
      "L : 1000.0\n",
      "t : 999.9735379999998\n",
      "h(t) : 2615.811855\n",
      "total calculations : 1\n",
      "5\n",
      "L : 1000.0\n",
      "t : 999.8067599999999\n",
      "h(t) : 1616.6109090000002\n",
      "total calculations : 1\n",
      "9\n",
      "L : 1000.0\n",
      "t : 999.992372\n",
      "h(t) : 1595.195809\n",
      "total calculations : 1\n"
     ]
    }
   ],
   "source": [
    "x =[]\n",
    "for i in range(1,5):\n",
    "\tx.append(int(((2**i)-(2**(i-1)))*np.random.uniform(0, 1)+2**(i-1)))\n",
    "\t\n",
    "qpa_y =[]\n",
    "for i in x:\n",
    "\tprint(i)\n",
    "\ttaskset = get_taskset(1,int(i))\n",
    "\tqpa_y.append(qpa(taskset[0]))\n",
    "\n",
    "\n"
   ]
  },
  {
   "cell_type": "code",
   "execution_count": null,
   "metadata": {},
   "outputs": [
    {
     "data": {
      "text/plain": [
       "[<matplotlib.lines.Line2D at 0x1507ff91e80>]"
      ]
     },
     "execution_count": 397,
     "metadata": {},
     "output_type": "execute_result"
    },
    {
     "data": {
      "image/png": "[encoded data removed]",
      "text/plain": [
       "<Figure size 432x288 with 1 Axes>"
      ]
     },
     "metadata": {
      "needs_background": "light"
     },
     "output_type": "display_data"
    }
   ],
   "source": [
    "\n",
    "plt.plot(x, qpa_y)"
   ]
  },
  {
   "cell_type": "code",
   "execution_count": null,
   "metadata": {},
   "outputs": [],
   "source": []
  }
 ],
 "metadata": {
  "kernelspec": {
   "display_name": "Python 3.8.10 64-bit (microsoft store)",
   "language": "python",
   "name": "python3"
  },
  "language_info": {
   "codemirror_mode": {
    "name": "ipython",
    "version": 3
   },
   "file_extension": ".py",
   "mimetype": "text/x-python",
   "name": "python",
   "nbconvert_exporter": "python",
   "pygments_lexer": "ipython3",
   "version": "3.8.10"
  },
  "orig_nbformat": 4,
  "vscode": {
   "interpreter": {
    "hash": "246f0eae839979196b7d9baf64863811d7b9b6e56671f5ac94a2d5989b2eea4d"
   }
  }
 },
 "nbformat": 4,
 "nbformat_minor": 2
}
