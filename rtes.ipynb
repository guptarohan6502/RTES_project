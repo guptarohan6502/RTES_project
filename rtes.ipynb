{
 "cells": [
  {
   "cell_type": "code",
   "execution_count": 20,
   "metadata": {},
   "outputs": [],
   "source": [
    "import numpy as np\n",
    "import random\n",
    "import math\n"
   ]
  },
  {
   "cell_type": "code",
   "execution_count": 21,
   "metadata": {},
   "outputs": [],
   "source": [
    "# la bound\n",
    "# lb bound\n",
    "# ht bound\n"
   ]
  },
  {
   "cell_type": "code",
   "execution_count": 22,
   "metadata": {},
   "outputs": [],
   "source": [
    "from uuid import RESERVED_FUTURE\n",
    "\n",
    "\n",
    "def gen_deadline(exec_time, period):\n",
    "    # [a,b]\n",
    "    b = 1.2 * period\n",
    "    if(exec_time < 10):\n",
    "        a = exec_time\n",
    "    elif(exec_time < 100 and exec_time >= 10):\n",
    "        a = 2*exec_time\n",
    "    elif(exec_time < 1000 and exec_time >= 100):\n",
    "        a = 3*exec_time\n",
    "    else:\n",
    "        a = 4*exec_time\n",
    "\n",
    "    return a+random.random()*(b-a)\n",
    "\n",
    "\n",
    "def gen_tasksets(utilizations, periods):\n",
    "    \"\"\"\n",
    "    Take a list of task utilization sets and a list of task period sets and\n",
    "    return a list of couples (c, p) sets. The computation times are truncated\n",
    "    at a precision of 10^-10 to avoid floating point precision errors.\n",
    "    Args:\n",
    "        - `utilization`: The list of task utilization sets. For example::\n",
    "            [[0.3, 0.4, 0.8], [0.1, 0.9, 0.5]]\n",
    "        - `periods`: The list of task period sets. For examples::\n",
    "            [[100, 50, 1000], [200, 500, 10]]\n",
    "    Returns:\n",
    "        For the above example, it returns::\n",
    "            [[(30.0, 100), (20.0, 50), (800.0, 1000)],\n",
    "             [(20.0, 200), (450.0, 500), (5.0, 10)]]\n",
    "    \"\"\"\n",
    "    def trunc(x, p):\n",
    "        return int(x * 10 ** p) / float(10 ** p)\n",
    "\n",
    "    return [[(trunc(ui * pi, 6), trunc(pi, 6), trunc(gen_deadline(trunc(ui * pi, 6), trunc(pi, 6)), 6)) for ui, pi in zip(us, ps)]\n",
    "            for us, ps in zip(utilizations, periods)]\n"
   ]
  },
  {
   "cell_type": "code",
   "execution_count": 23,
   "metadata": {},
   "outputs": [],
   "source": [
    "def gen_periods_uniform(n, nsets, min_, max_, round_to_int=False):\n",
    "    \"\"\"\n",
    "    Generate a list of `nsets` sets containing each `n` random periods using a\n",
    "    uniform distribution.\n",
    "    Args:\n",
    "        - `n`: The number of tasks in a task set.\n",
    "        - `nsets`: Number of sets to generate.\n",
    "        - `min_`: Period min.\n",
    "        - `max_`: Period max.\n",
    "    \"\"\"\n",
    "    periods = np.random.uniform(low=min_, high=max_, size=(nsets, n))\n",
    "\n",
    "    if round_to_int:\n",
    "        return np.rint(periods).tolist()\n",
    "    else:\n",
    "        return periods.tolist()\n",
    "\n",
    "\n",
    "def gen_periods_discrete(n, nsets, periods):\n",
    "    \"\"\"\n",
    "    Generate a matrix of (nsets x n) random periods chosen randomly in the\n",
    "    list of periods.\n",
    "    Args:\n",
    "        - `n`: The number of tasks in a task set.\n",
    "        - `nsets`: Number of sets to generate.\n",
    "        - `periods`: A list of available periods.\n",
    "    \"\"\"\n",
    "    try:\n",
    "        return np.random.choice(periods, size=(nsets, n)).tolist()\n",
    "    except AttributeError:\n",
    "        # Numpy < 1.7:\n",
    "        p = np.array(periods)\n",
    "        return p[np.random.randint(len(p), size=(nsets, n))].tolist()\n"
   ]
  },
  {
   "cell_type": "code",
   "execution_count": 24,
   "metadata": {},
   "outputs": [],
   "source": [
    "def gen_periods_loguniform(n, nsets, min_, max_, round_to_int=False):\n",
    "    \"\"\"\n",
    "    Generate a list of `nsets` sets containing each `n` random periods using a\n",
    "    loguniform distribution.\n",
    "    Args:\n",
    "        - `n`: The number of tasks in a task set.\n",
    "        - `nsets`: Number of sets to generate.\n",
    "        - `min_`: Period min.\n",
    "        - `max_`: Period max.\n",
    "    \"\"\"\n",
    "    periods = np.exp(np.random.uniform(low=np.log(min_), high=np.log(max_),\n",
    "                                       size=(nsets, n)))\n",
    "    if round_to_int:\n",
    "        return np.rint(periods).tolist()\n",
    "    else:\n",
    "        return periods.tolist()\n"
   ]
  },
  {
   "cell_type": "code",
   "execution_count": 78,
   "metadata": {},
   "outputs": [],
   "source": [
    "def custom_period(n, nsets,max_,min_=0):\n",
    "\tmax_power = np.log(max_)\n",
    "\n",
    "\n",
    "\tintervals = np.arange(0,np.floor(max_power)+1)\n",
    "\tintervals = np.append(intervals, max_power)\n",
    "\tprint(intervals)\n",
    "\ttask_pp = ((n-1)//(len(intervals)-1))\n",
    "\t\n",
    "\ttask_lf = np.mod(n-1, len(intervals)-1).astype(int)\n",
    "\tprint(task_lf,task_pp)\n",
    "\tperiods = np.zeros((nsets, n))\n",
    "\tfor i in range(nsets):\n",
    "\t\tfor j in range(len(intervals)-1):\n",
    "\t\t\tif(j<task_lf):\n",
    "\t\t\t\tperiods[i][j*task_pp+j:(j+1)*task_pp+j+1] = np.random.uniform(low=np.exp(intervals[j]), high=np.exp(intervals[j+1]), size=task_pp+1)\n",
    "\t\t\telse:\n",
    "\t\t\t\tperiods[i][j*task_pp+task_lf:(j+1)*task_pp+task_lf] = np.random.uniform(low=np.exp(intervals[j]), high=np.exp(intervals[j+1]), size=task_pp)\n",
    "\tperiods[0:nsets,-1] =max_ \n",
    "\treturn periods\n"
   ]
  },
  {
   "cell_type": "code",
   "execution_count": 79,
   "metadata": {},
   "outputs": [
    {
     "name": "stdout",
     "output_type": "stream",
     "text": [
      "[0.         1.         2.         3.         4.         4.60517019]\n",
      "3 2\n"
     ]
    },
    {
     "data": {
      "text/plain": [
       "array([[  2.02742913,   2.00669725,   1.21120302,   5.2732489 ,\n",
       "          6.74322549,   2.89821466,  10.97675006,  12.22259561,\n",
       "         17.1506839 ,  39.76476052,  37.5143024 ,  60.59845675,\n",
       "         94.38945143, 100.        ],\n",
       "       [  1.58187253,   1.60966331,   1.09560295,   5.24155983,\n",
       "          6.75673966,   3.77747528,  13.11362489,  16.42701206,\n",
       "         18.33444727,  54.26109724,  30.98799323,  59.67394993,\n",
       "         72.98967325, 100.        ]])"
      ]
     },
     "execution_count": 79,
     "metadata": {},
     "output_type": "execute_result"
    }
   ],
   "source": [
    "custom_period(14,2,100)"
   ]
  },
  {
   "cell_type": "code",
   "execution_count": null,
   "metadata": {},
   "outputs": [],
   "source": []
  },
  {
   "cell_type": "code",
   "execution_count": null,
   "metadata": {},
   "outputs": [],
   "source": []
  }
 ],
 "metadata": {
  "kernelspec": {
   "display_name": "Python 3.8.10 64-bit (microsoft store)",
   "language": "python",
   "name": "python3"
  },
  "language_info": {
   "codemirror_mode": {
    "name": "ipython",
    "version": 3
   },
   "file_extension": ".py",
   "mimetype": "text/x-python",
   "name": "python",
   "nbconvert_exporter": "python",
   "pygments_lexer": "ipython3",
   "version": "3.8.10"
  },
  "orig_nbformat": 4,
  "vscode": {
   "interpreter": {
    "hash": "246f0eae839979196b7d9baf64863811d7b9b6e56671f5ac94a2d5989b2eea4d"
   }
  }
 },
 "nbformat": 4,
 "nbformat_minor": 2
}
