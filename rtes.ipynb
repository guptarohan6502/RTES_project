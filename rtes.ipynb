{
 "cells": [
  {
   "cell_type": "code",
   "execution_count": 47,
   "metadata": {},
   "outputs": [],
   "source": [
    "import numpy as np\n",
    "import random\n",
    "import math\n"
   ]
  },
  {
   "cell_type": "code",
   "execution_count": 48,
   "metadata": {},
   "outputs": [],
   "source": [
    "# la bound\n",
    "# lb bound\n",
    "# ht bound\n"
   ]
  },
  {
   "cell_type": "code",
   "execution_count": 66,
   "metadata": {},
   "outputs": [],
   "source": [
    "def gen_deadline(exec_time, period):\n",
    "    # [a,b]\n",
    "    b = 1.2 * period\n",
    "    if(exec_time < 10):\n",
    "        a = exec_time\n",
    "    elif(exec_time < 100 and exec_time >= 10):\n",
    "        a = 2*exec_time\n",
    "    elif(exec_time < 1000 and exec_time >= 100):\n",
    "        a = 3*exec_time\n",
    "    else:\n",
    "        a = 4*exec_time\n",
    "\n",
    "    return a+random.random()*(b-a)\n",
    "\n",
    "\n",
    "def gen_tasksets(utilizations, periods):\n",
    "    \"\"\"\n",
    "    Take a list of task utilization sets and a list of task period sets and\n",
    "    return a list of couples (c, p) sets. The computation times are truncated\n",
    "    at a precision of 10^-10 to avoid floating point precision errors.\n",
    "    Args:\n",
    "        - `utilization`: The list of task utilization sets. For example::\n",
    "            [[0.3, 0.4, 0.8], [0.1, 0.9, 0.5]]\n",
    "        - `periods`: The list of task period sets. For examples::\n",
    "            [[100, 50, 1000], [200, 500, 10]]\n",
    "    Returns:\n",
    "        For the above example, it returns::\n",
    "            [[(30.0, 100), (20.0, 50), (800.0, 1000)],\n",
    "             [(20.0, 200), (450.0, 500), (5.0, 10)]]\n",
    "    \"\"\"\n",
    "    def trunc(x, p):\n",
    "        return int(x * 10 ** p) / float(10 ** p)\n",
    "    [[print(ui) for ui, pi in zip(us, ps)]\n",
    "            for us, ps in zip(utilizations, periods)]\n",
    "    return np.array([[[trunc(ui * pi, 6), trunc(pi, 6), trunc(gen_deadline(trunc(ui * pi, 6), trunc(pi, 6)), 6)] for ui, pi in zip(us, ps)]\n",
    "            for us, ps in zip(utilizations, periods)])\n"
   ]
  },
  {
   "cell_type": "code",
   "execution_count": 67,
   "metadata": {},
   "outputs": [],
   "source": [
    "def custom_period(n, nsets,max_,min_=0):\n",
    "\tmax_power = np.log(max_)\n",
    "\n",
    "\n",
    "\tintervals = np.arange(0,np.floor(max_power)+1)\n",
    "\tintervals = np.append(intervals, max_power)\n",
    "\t#print(intervals)\n",
    "\ttask_pp = ((n-1)//(len(intervals)-1))\n",
    "\t\n",
    "\ttask_lf = np.mod(n-1, len(intervals)-1).astype(int)\n",
    "\t#print(task_lf,task_pp)\n",
    "\tperiods = np.zeros((nsets, n))\n",
    "\tfor i in range(nsets):\n",
    "\t\tfor j in range(len(intervals)-1):\n",
    "\t\t\tif(j<task_lf):\n",
    "\t\t\t\tperiods[i][j*task_pp+j:(j+1)*task_pp+j+1] = np.random.uniform(low=np.exp(intervals[j]), high=np.exp(intervals[j+1]), size=task_pp+1)\n",
    "\t\t\telse:\n",
    "\t\t\t\tperiods[i][j*task_pp+task_lf:(j+1)*task_pp+task_lf] = np.random.uniform(low=np.exp(intervals[j]), high=np.exp(intervals[j+1]), size=task_pp)\n",
    "\tperiods[0:nsets,-1] =max_ \n",
    "\treturn periods\n"
   ]
  },
  {
   "cell_type": "code",
   "execution_count": 68,
   "metadata": {},
   "outputs": [
    {
     "data": {
      "text/plain": [
       "array([[  2.45175765,   1.43094888,   1.79767535,   3.98048456,\n",
       "          2.97195392,   6.8300681 ,   8.47884653,   8.57980871,\n",
       "         17.06926471,  49.59793226,  45.94429206,  89.54683752,\n",
       "         77.64738142, 100.        ],\n",
       "       [  1.05955495,   1.5444694 ,   1.74983236,   6.202584  ,\n",
       "          5.66637107,   2.74497973,  19.72203596,  12.73266528,\n",
       "         18.96583292,  39.85565407,  35.24353688,  65.09466348,\n",
       "         67.32289707, 100.        ]])"
      ]
     },
     "execution_count": 68,
     "metadata": {},
     "output_type": "execute_result"
    }
   ],
   "source": [
    "custom_period(14,2,100)"
   ]
  },
  {
   "cell_type": "code",
   "execution_count": 69,
   "metadata": {},
   "outputs": [],
   "source": [
    "def uunifast(n, u):\n",
    "    \"\"\"\n",
    "    Generate a random set of `n` utilizations that sum up to `u` using the\n",
    "    uunifast algorithm.\n",
    "    Args:\n",
    "\t- `n`: The number of utilizations to generate.\n",
    "\t- `u`: The sum of the utilizations.\n",
    "    \"\"\"\n",
    "    us = [0.0] * n\n",
    "    us[0] = u\n",
    "    for i in range(1, n):\n",
    "        us[i] = np.random.uniform(low=0.0, high=us[i - 1])\n",
    "    us.sort()\n",
    "    us = [us[i] - us[i - 1] for i in range(1, n)]\n",
    "    us.append(us[0] + us[-1])\n",
    "    return us"
   ]
  },
  {
   "cell_type": "code",
   "execution_count": 70,
   "metadata": {},
   "outputs": [],
   "source": [
    "def UUniFastDiscard(n, u, nsets):\n",
    "    sets = []\n",
    "    while len(sets) < nsets:\n",
    "        # Classic UUniFast algorithm:\n",
    "        utilizations = []\n",
    "        sumU = u\n",
    "        for i in range(1, n):\n",
    "            nextSumU = sumU * random.random() ** (1.0 / (n - i))\n",
    "            utilizations.append(sumU - nextSumU)\n",
    "            sumU = nextSumU\n",
    "        utilizations.append(sumU)\n",
    "\n",
    "        # If no task utilization exceeds 1:\n",
    "        if all(ut <= 1 for ut in utilizations):\n",
    "            sets.append(utilizations)\n",
    "\n",
    "    return sets\n",
    "\n",
    "    \n",
    "def gen_uunifastdiscard(nsets, u, n):\n",
    "    \"\"\"\n",
    "    The UUniFast algorithm was proposed by Bini for generating task\n",
    "    utilizations on uniprocessor architectures.\n",
    "    The UUniFast-Discard algorithm extends it to multiprocessor by\n",
    "    discarding task sets containing any utilization that exceeds 1.\n",
    "    This algorithm is easy and widely used. However, it suffers from very\n",
    "    long computation times when n is close to u. Stafford's algorithm is\n",
    "    faster.\n",
    "    Args:\n",
    "        - `n`: The number of tasks in a task set.\n",
    "        - `u`: Total utilization of the task set.\n",
    "        - `nsets`: Number of sets to generate.\n",
    "    Returns `nsets` of `n` task utilizations.\n",
    "    \"\"\"\n",
    "    return UUniFastDiscard(n, u, nsets)"
   ]
  },
  {
   "cell_type": "code",
   "execution_count": 71,
   "metadata": {},
   "outputs": [],
   "source": [
    "def get_taskset(nsets):\n",
    "\tu = 0.9\n",
    "\tn = 5\n",
    "\tutilizations = gen_uunifastdiscard(nsets, u, n)\n",
    "\tperiods = custom_period(n, nsets, 1000, 10)\n",
    "\treturn gen_tasksets(utilizations, periods)\n",
    "\n",
    "\t"
   ]
  },
  {
   "cell_type": "code",
   "execution_count": 83,
   "metadata": {},
   "outputs": [
    {
     "name": "stdout",
     "output_type": "stream",
     "text": [
      "0.07414867637935163\n",
      "0.4452596906299144\n",
      "0.08228340177306426\n",
      "0.12614214832541304\n",
      "0.1721660828922567\n",
      "0.3473800846141528\n",
      "0.16271132931408439\n",
      "0.04068354039967348\n",
      "0.13631717855111503\n",
      "0.21290786712097431\n",
      "[[[9.09400000e-02 1.22646800e+00 4.56303000e-01]\n",
      "  [1.87317000e+00 4.20691600e+00 3.29020100e+00]\n",
      "  [1.11526900e+00 1.35540080e+01 3.68618300e+00]\n",
      "  [6.45508600e+00 5.11731110e+01 1.28011010e+01]\n",
      "  [1.72166082e+02 1.00000000e+03 9.57485882e+02]]\n",
      "\n",
      " [[6.39523000e-01 1.84099000e+00 2.05908000e+00]\n",
      "  [7.71622000e-01 4.74228000e+00 2.00129800e+00]\n",
      "  [5.16927000e-01 1.27060600e+01 1.12854900e+01]\n",
      "  [4.66770900e+00 3.42415360e+01 1.50371030e+01]\n",
      "  [2.12907867e+02 1.00000000e+03 8.89856681e+02]]]\n",
      "[4.56303000e-01 3.29020100e+00 3.68618300e+00 1.28011010e+01\n",
      " 9.57485882e+02]\n"
     ]
    }
   ],
   "source": [
    "k = get_taskset(2)\n",
    "z = k[0]\n",
    "print(k)\n",
    "print(z[:,2])\n",
    "#gen_uunifastdiscard(u=0.9, n=5, nsets=1)"
   ]
  },
  {
   "cell_type": "markdown",
   "metadata": {},
   "source": []
  },
  {
   "cell_type": "code",
   "execution_count": 73,
   "metadata": {},
   "outputs": [],
   "source": [
    "def qpa_algorithm(taskset):\n",
    "\t\"\"\"\n",
    "\tCompute h(t) calculations for the QPA algorithm\n",
    "\t\n",
    "\t\"\"\"\n",
    "\t"
   ]
  },
  {
   "cell_type": "code",
   "execution_count": 91,
   "metadata": {},
   "outputs": [],
   "source": [
    "def La_bound(taskset):\n",
    "\t\"\"\"\n",
    "\tCompute La calculations for the La bound\n",
    "\t\n",
    "\t\"\"\"\n",
    "\t\n",
    "\tdeadlines = taskset[:,2]\n",
    "\tperiods = taskset[:,1]\n",
    "\tutilizations = taskset[:,0]/taskset[:,1]\n",
    "\t#print(deadlines, periods, utilizations)\n",
    "\ttotal_utilization = np.sum(utilizations)\n",
    "\t#print(np.sum((periods-deadlines)*utilizations)/(1-total_utilization))\n",
    "\tLa = np.maximum(deadlines,np.sum((periods-deadlines)*utilizations)/(1-total_utilization))\n",
    "\n",
    "\t\n"
   ]
  },
  {
   "cell_type": "code",
   "execution_count": 92,
   "metadata": {},
   "outputs": [
    {
     "name": "stdout",
     "output_type": "stream",
     "text": [
      "[4.56303000e-01 3.29020100e+00 3.68618300e+00 1.28011010e+01\n",
      " 9.57485882e+02] [   1.226468    4.206916   13.554008   51.173111 1000.      ] [0.07414788 0.44525966 0.08228334 0.12614215 0.17216608]\n",
      "134.36936379520307\n"
     ]
    }
   ],
   "source": [
    "bound = La_bound(k[0])"
   ]
  }
 ],
 "metadata": {
  "kernelspec": {
   "display_name": "Python 3.8.10 64-bit (microsoft store)",
   "language": "python",
   "name": "python3"
  },
  "language_info": {
   "codemirror_mode": {
    "name": "ipython",
    "version": 3
   },
   "file_extension": ".py",
   "mimetype": "text/x-python",
   "name": "python",
   "nbconvert_exporter": "python",
   "pygments_lexer": "ipython3",
   "version": "3.8.10"
  },
  "orig_nbformat": 4,
  "vscode": {
   "interpreter": {
    "hash": "246f0eae839979196b7d9baf64863811d7b9b6e56671f5ac94a2d5989b2eea4d"
   }
  }
 },
 "nbformat": 4,
 "nbformat_minor": 2
}
