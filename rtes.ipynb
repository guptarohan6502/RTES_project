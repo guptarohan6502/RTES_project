{
 "cells": [
  {
   "cell_type": "code",
   "execution_count": 174,
   "metadata": {},
   "outputs": [],
   "source": [
    "import numpy as np\n",
    "import random\n",
    "import math\n"
   ]
  },
  {
   "cell_type": "code",
   "execution_count": 175,
   "metadata": {},
   "outputs": [],
   "source": [
    "# la bound\n",
    "# lb bound\n",
    "# ht bound\n"
   ]
  },
  {
   "cell_type": "code",
   "execution_count": null,
   "metadata": {},
   "outputs": [],
   "source": []
  },
  {
   "cell_type": "code",
   "execution_count": 176,
   "metadata": {},
   "outputs": [],
   "source": [
    "def gen_deadline(exec_time, period):\n",
    "    # [a,b]\n",
    "    b = 1.2 * period\n",
    "    if(exec_time < 10):\n",
    "        a = exec_time\n",
    "    elif(exec_time < 100 and exec_time >= 10):\n",
    "        a = 2*exec_time\n",
    "    elif(exec_time < 1000 and exec_time >= 100):\n",
    "        a = 3*exec_time\n",
    "    else:\n",
    "        a = 4*exec_time\n",
    "\n",
    "    return a+random.random()*(b-a)\n",
    "\n",
    "\n",
    "def gen_tasksets(utilizations, periods):\n",
    "    \"\"\"\n",
    "    Take a list of task utilization sets and a list of task period sets and\n",
    "    return a list of couples (c, p) sets. The computation times are truncated\n",
    "    at a precision of 10^-10 to avoid floating point precision errors.\n",
    "    Args:\n",
    "        - `utilization`: The list of task utilization sets. For example::\n",
    "            [[0.3, 0.4, 0.8], [0.1, 0.9, 0.5]]\n",
    "        - `periods`: The list of task period sets. For examples::\n",
    "            [[100, 50, 1000], [200, 500, 10]]\n",
    "    Returns:\n",
    "        For the above example, it returns::\n",
    "            [[(30.0, 100), (20.0, 50), (800.0, 1000)],\n",
    "             [(20.0, 200), (450.0, 500), (5.0, 10)]]\n",
    "    \"\"\"\n",
    "    def trunc(x, p):\n",
    "        return int(x * 10 ** p) / float(10 ** p)\n",
    "    [[print(ui) for ui, pi in zip(us, ps)]\n",
    "            for us, ps in zip(utilizations, periods)]\n",
    "    return np.array([[[trunc(ui * pi, 6), trunc(pi, 6), trunc(gen_deadline(trunc(ui * pi, 6), trunc(pi, 6)), 6)] for ui, pi in zip(us, ps)]\n",
    "            for us, ps in zip(utilizations, periods)])\n"
   ]
  },
  {
   "cell_type": "code",
   "execution_count": 177,
   "metadata": {},
   "outputs": [],
   "source": [
    "def custom_period(n, nsets,max_,min_=0):\n",
    "\tmax_power = np.log(max_)\n",
    "\n",
    "\n",
    "\tintervals = np.arange(0,np.floor(max_power)+1)\n",
    "\tintervals = np.append(intervals, max_power)\n",
    "\t#print(intervals)\n",
    "\ttask_pp = ((n-1)//(len(intervals)-1))\n",
    "\t\n",
    "\ttask_lf = np.mod(n-1, len(intervals)-1).astype(int)\n",
    "\t#print(task_lf,task_pp)\n",
    "\tperiods = np.zeros((nsets, n))\n",
    "\tfor i in range(nsets):\n",
    "\t\tfor j in range(len(intervals)-1):\n",
    "\t\t\tif(j<task_lf):\n",
    "\t\t\t\tperiods[i][j*task_pp+j:(j+1)*task_pp+j+1] = np.random.uniform(low=np.exp(intervals[j]), high=np.exp(intervals[j+1]), size=task_pp+1)\n",
    "\t\t\telse:\n",
    "\t\t\t\tperiods[i][j*task_pp+task_lf:(j+1)*task_pp+task_lf] = np.random.uniform(low=np.exp(intervals[j]), high=np.exp(intervals[j+1]), size=task_pp)\n",
    "\tperiods[0:nsets,-1] =max_ \n",
    "\treturn periods\n"
   ]
  },
  {
   "cell_type": "code",
   "execution_count": 178,
   "metadata": {},
   "outputs": [
    {
     "data": {
      "text/plain": [
       "array([[  1.64804679,   1.30810982,   1.37372558,   6.12438891,\n",
       "          2.96662742,   7.30901873,   9.32779621,  18.23429394,\n",
       "         16.96883537,  49.72779376,  33.04281914,  66.19670627,\n",
       "         93.05911069, 100.        ],\n",
       "       [  2.49268507,   2.52796187,   1.33612511,   3.64768797,\n",
       "          3.99364001,   2.96080255,  18.64204259,  19.69945258,\n",
       "         19.99413364,  28.13048464,  44.76621166,  98.53947291,\n",
       "         88.36636924, 100.        ]])"
      ]
     },
     "execution_count": 178,
     "metadata": {},
     "output_type": "execute_result"
    }
   ],
   "source": [
    "custom_period(14,2,100)"
   ]
  },
  {
   "cell_type": "code",
   "execution_count": 179,
   "metadata": {},
   "outputs": [],
   "source": [
    "def UUniFastDiscard(n, u, nsets):\n",
    "    sets = []\n",
    "    while len(sets) < nsets:\n",
    "        # Classic UUniFast algorithm:\n",
    "        utilizations = []\n",
    "        sumU = u\n",
    "        for i in range(1, n):\n",
    "            nextSumU = sumU * random.random() ** (1.0 / (n - i))\n",
    "            utilizations.append(sumU - nextSumU)\n",
    "            sumU = nextSumU\n",
    "        utilizations.append(sumU)\n",
    "\n",
    "        # If no task utilization exceeds 1:\n",
    "        if all(ut <= 1 for ut in utilizations):\n",
    "            sets.append(utilizations)\n",
    "\n",
    "    return sets\n",
    "\n",
    "    \n",
    "def gen_uunifastdiscard(nsets, u, n):\n",
    "    \"\"\"\n",
    "    The UUniFast algorithm was proposed by Bini for generating task\n",
    "    utilizations on uniprocessor architectures.\n",
    "    The UUniFast-Discard algorithm extends it to multiprocessor by\n",
    "    discarding task sets containing any utilization that exceeds 1.\n",
    "    This algorithm is easy and widely used. However, it suffers from very\n",
    "    long computation times when n is close to u. Stafford's algorithm is\n",
    "    faster.\n",
    "    Args:\n",
    "        - `n`: The number of tasks in a task set.\n",
    "        - `u`: Total utilization of the task set.\n",
    "        - `nsets`: Number of sets to generate.\n",
    "    Returns `nsets` of `n` task utilizations.\n",
    "    \"\"\"\n",
    "    return UUniFastDiscard(n, u, nsets)"
   ]
  },
  {
   "cell_type": "code",
   "execution_count": 180,
   "metadata": {},
   "outputs": [],
   "source": [
    "def get_taskset(nsets, n):\n",
    "\tu = 0.9\n",
    "\t#n = 1000\n",
    "\tutilizations = gen_uunifastdiscard(nsets, u, n)\n",
    "\tperiods = custom_period(n, nsets, 1000, 10)\n",
    "\treturn gen_tasksets(utilizations, periods)\n",
    "\n",
    "\t"
   ]
  },
  {
   "cell_type": "code",
   "execution_count": 181,
   "metadata": {},
   "outputs": [
    {
     "name": "stdout",
     "output_type": "stream",
     "text": [
      "0.06784926886036968\n",
      "0.020721294268147172\n",
      "0.03051904732277333\n",
      "0.12385291994036063\n",
      "0.36018073048662225\n",
      "0.06731236082429587\n",
      "0.21001634644394152\n",
      "0.01954803185348959\n"
     ]
    },
    {
     "data": {
      "text/plain": [
       "array([[[1.79899000e-01, 2.65146100e+00, 8.46189000e-01],\n",
       "        [6.74560000e-02, 3.25540400e+00, 3.52156800e+00],\n",
       "        [2.27362000e-01, 7.44986800e+00, 1.69379000e+00],\n",
       "        [6.56886700e+00, 5.30376460e+01, 2.23681240e+01],\n",
       "        [2.65718680e+01, 7.37737080e+01, 7.41915320e+01],\n",
       "        [2.56143600e+01, 3.80529824e+02, 1.86297973e+02],\n",
       "        [2.01981333e+02, 9.61741013e+02, 9.94361246e+02],\n",
       "        [1.95480310e+01, 1.00000000e+03, 6.59841640e+02]]])"
      ]
     },
     "execution_count": 181,
     "metadata": {},
     "output_type": "execute_result"
    }
   ],
   "source": [
    "taskset = get_taskset(1, 8)\n",
    "taskset"
   ]
  },
  {
   "cell_type": "markdown",
   "metadata": {},
   "source": []
  },
  {
   "cell_type": "code",
   "execution_count": 182,
   "metadata": {},
   "outputs": [],
   "source": [
    "taskset_paper = np.array([[6000, 18000, 31000], [2000, 9000, 9800], [1000, 12000, 17000], [\n",
    "                         90, 3000, 4200], [8, 78, 96], [2, 16, 12], [10, 120, 280], [26, 160, 660]])\n"
   ]
  },
  {
   "cell_type": "code",
   "execution_count": 183,
   "metadata": {},
   "outputs": [],
   "source": [
    "def procDemand_func(taskset,t):\n",
    "    deadlines = taskset[:,1]\n",
    "    periods = taskset[:,2]\n",
    "    wcet = taskset[:,0]\n",
    "    \n",
    "    #utilizations = wcet/periods #wcet/periods\n",
    "\t#print(deadlines, periods, utilizations)\n",
    "    #total_utilization = np.sum(utilizations)\n",
    "\n",
    "    #task_done = (1 + np.floor((t-deadlines)/(periods)))*taskset[:,0]#wcet\n",
    "    h_t = np.sum(np.maximum(0, 1 + np.floor((t-deadlines)/(periods)))*wcet)\n",
    "\n",
    "    # task_done[task_done<0] = 0\n",
    "    # print(task_done)\n",
    "\n",
    "    # h_t = np.sum(task_done)\n",
    "\n",
    "    return h_t"
   ]
  },
  {
   "cell_type": "code",
   "execution_count": 184,
   "metadata": {},
   "outputs": [
    {
     "name": "stdout",
     "output_type": "stream",
     "text": [
      "8890.0\n"
     ]
    }
   ],
   "source": [
    "t = 16974\n",
    "ht = procDemand_func(taskset_paper, t)\n",
    "print(ht)"
   ]
  },
  {
   "cell_type": "code",
   "execution_count": 185,
   "metadata": {},
   "outputs": [],
   "source": [
    "# def get_La(taskset):\n",
    "#     deadlines = taskset[:,2]\n",
    "#     periods = taskset[:,1]\n",
    "#     utilizations = taskset[:,0]/taskset[:,1]\n",
    "# \t#print(deadlines, periods, utilizations)\n",
    "#     total_utilization = np.sum(utilizations)\n",
    "# \t#print(np.sum((periods-deadlines)*utilizations)/(1-total_utilization))\n",
    "#     La = np.max(np.max(deadlines),np.sum((periods-deadlines)*utilizations)/(1-total_utilization))\n",
    "#     return La"
   ]
  },
  {
   "cell_type": "code",
   "execution_count": 186,
   "metadata": {},
   "outputs": [
    {
     "name": "stdout",
     "output_type": "stream",
     "text": [
      "[[[1.79899000e-01 2.65146100e+00 8.46189000e-01]\n",
      "  [6.74560000e-02 3.25540400e+00 3.52156800e+00]\n",
      "  [2.27362000e-01 7.44986800e+00 1.69379000e+00]\n",
      "  [6.56886700e+00 5.30376460e+01 2.23681240e+01]\n",
      "  [2.65718680e+01 7.37737080e+01 7.41915320e+01]\n",
      "  [2.56143600e+01 3.80529824e+02 1.86297973e+02]\n",
      "  [2.01981333e+02 9.61741013e+02 9.94361246e+02]\n",
      "  [1.95480310e+01 1.00000000e+03 6.59841640e+02]]]\n"
     ]
    }
   ],
   "source": [
    "print(taskset)"
   ]
  },
  {
   "cell_type": "code",
   "execution_count": 187,
   "metadata": {},
   "outputs": [],
   "source": [
    "taskset_paper = np.array([[6000, 18000, 31000], [2000, 9000, 9800], [1000, 12000, 17000], [90, 3000, 4200], [8, 78, 96], [2, 16, 12], [10, 120, 280], [26, 160, 660]])"
   ]
  },
  {
   "cell_type": "code",
   "execution_count": 188,
   "metadata": {},
   "outputs": [],
   "source": [
    "def La_bound(taskset):\n",
    "\t\"\"\"\n",
    "\tCompute La calculations for the La bound\n",
    "\t\n",
    "\t\"\"\"\n",
    "\twcet = taskset[:,0]\n",
    "\tdeadlines = taskset[:,1]\n",
    "\tperiods = taskset[:,2]\n",
    "\tutilizations = wcet/periods\n",
    "\t#print(\"deadlines\", deadlines, \"periods\", periods, \"utilizations\", utilizations)\n",
    "\t#print(deadlines, periods, utilizations)\n",
    "\ttotal_utilization = np.sum(utilizations)\n",
    "\t#print(\"total utilization : \" + str(total_utilization))\n",
    "\t#print(np.sum((periods-deadlines)*utilizations)/(1-total_utilization))\n",
    "\t#La = np.maximum(np.max(deadlines),np.max((periods-deadlines))*(total_utilization/(1-total_utilization)))\n",
    "\tprint(np.max(deadlines))\n",
    "\tLa = np.maximum(np.max(deadlines),np.sum((periods-deadlines)*utilizations)/(1-total_utilization))\n",
    "\treturn La\n"
   ]
  },
  {
   "cell_type": "code",
   "execution_count": 189,
   "metadata": {},
   "outputs": [
    {
     "name": "stdout",
     "output_type": "stream",
     "text": [
      "18000\n",
      "18000.0\n"
     ]
    }
   ],
   "source": [
    "La = La_bound(taskset_paper)\n",
    "taskset_paper[:,0]/taskset_paper[:,1]\n",
    "print(La)"
   ]
  },
  {
   "cell_type": "code",
   "execution_count": 190,
   "metadata": {},
   "outputs": [],
   "source": [
    "def Lb_bound(taskset):\n",
    "    \"A synchronous busy period is a processor busy period in which all tasks are release simultaneously at the beginning of the processor busy period, and then, at their maximum rate, and ended by the first processor idle period(the length of such a period can be zero). The length of the synchronous busy period Lb can be computed by the following process\"\n",
    "    wcet = taskset[:,0]\n",
    "    deadlines = taskset[:,1]\n",
    "    periods = taskset[:,2]\n",
    "    w0 = np.sum(wcet)\n",
    "    a = w0\n",
    "    b = np.sum(np.ceil(a/periods)*wcet)\n",
    "    while a != b:\n",
    "        a = b\n",
    "        b = np.sum(np.ceil(a/periods)*wcet)\n",
    "    Lb = b\n",
    "    \n",
    "    return Lb"
   ]
  },
  {
   "cell_type": "code",
   "execution_count": 191,
   "metadata": {},
   "outputs": [
    {
     "name": "stdout",
     "output_type": "stream",
     "text": [
      "16984.0\n"
     ]
    }
   ],
   "source": [
    "Lb = Lb_bound(taskset_paper)\n",
    "print(Lb)"
   ]
  },
  {
   "cell_type": "code",
   "execution_count": 192,
   "metadata": {},
   "outputs": [
    {
     "name": "stdout",
     "output_type": "stream",
     "text": [
      "16\n"
     ]
    }
   ],
   "source": [
    "deadlines = taskset_paper[:, 1]\n",
    "d_min = np.min(deadlines)\n",
    "print(d_min)"
   ]
  },
  {
   "cell_type": "code",
   "execution_count": 205,
   "metadata": {},
   "outputs": [],
   "source": [
    "def get_dmin(deadliness, L):\n",
    "    return np.min(deadliness)\n",
    "    \n",
    "    "
   ]
  },
  {
   "cell_type": "code",
   "execution_count": 194,
   "metadata": {},
   "outputs": [
    {
     "name": "stdout",
     "output_type": "stream",
     "text": [
      "12000\n"
     ]
    }
   ],
   "source": [
    "deadlines = taskset_paper[:, 1]\n",
    "L = np.minimum(La, Lb)\n",
    "d_min = get_dmin(deadlines, L)\n",
    "print(d_min)\n",
    "\n",
    "# t = np.min(deadlines < L)\n",
    "# print(t)\n"
   ]
  },
  {
   "cell_type": "code",
   "execution_count": 195,
   "metadata": {},
   "outputs": [
    {
     "data": {
      "text/plain": [
       "(8, 3)"
      ]
     },
     "execution_count": 195,
     "metadata": {},
     "output_type": "execute_result"
    }
   ],
   "source": [
    "taskset_paper.shape"
   ]
  },
  {
   "cell_type": "code",
   "execution_count": 196,
   "metadata": {},
   "outputs": [],
   "source": [
    "def get_max_abs_deadline(taskset, L):\n",
    "    n = taskset.shape[0]\n",
    "    abs_deadlines = []\n",
    "    \n",
    "    for i in range(n):\n",
    "        p = 0\n",
    "        j = 0\n",
    "        Ti = taskset[i][2]\n",
    "        Di = taskset[i][1]\n",
    "        while p < L:\n",
    "            j += 1\n",
    "            q = p\n",
    "            p = j*Ti + Di\n",
    "            \n",
    "        abs_deadlines.append(q)\n",
    "    return np.max(abs_deadlines)\n",
    "    "
   ]
  },
  {
   "cell_type": "code",
   "execution_count": 197,
   "metadata": {},
   "outputs": [
    {
     "name": "stdout",
     "output_type": "stream",
     "text": [
      "16974\n"
     ]
    }
   ],
   "source": [
    "L = 16984\n",
    "t = get_max_abs_deadline(taskset_paper, L)\n",
    "\n",
    "print(t)"
   ]
  },
  {
   "cell_type": "code",
   "execution_count": 198,
   "metadata": {},
   "outputs": [],
   "source": [
    "def get_max_di(taskset, t):\n",
    "    n = taskset.shape[0]\n",
    "    d_max = 0\n",
    "    \n",
    "    for j in range(n):\n",
    "        if taskset[j][1] < t:\n",
    "            d = np.floor((t - taskset[j][1])/taskset[j][2])*taskset[j][2] + taskset[j][1]\n",
    "            if d == t:\n",
    "                d = d - taskset[j][2]\n",
    "            if d > d_max:\n",
    "                d_max = d\n",
    "                \n",
    "    return d_max\n",
    "    \n",
    "    "
   ]
  },
  {
   "cell_type": "code",
   "execution_count": 210,
   "metadata": {},
   "outputs": [],
   "source": [
    "def qpa(taskset):\n",
    "    \n",
    "    La = La_bound(taskset)\n",
    "    print(\"La : \" + str(La))\n",
    "    Lb = Lb_bound(taskset)\n",
    "    print(\"Lb : \" + str(Lb))\n",
    "    L = min(La, Lb)\n",
    "    print(\"L : \" + str(L))\n",
    "    \n",
    "    t = get_max_abs_deadline(taskset, L)\n",
    "    print(\"t : \" + str(t))\n",
    "    h_t = procDemand_func(taskset, t)\n",
    "    print(\"h(t) : \" + str(h_t))\n",
    "    d_min = get_dmin(taskset[:,1], L)\n",
    "    print(\"d_min : \" + str(d_min))\n",
    "    print(\"did not enter yet\")\n",
    "    \n",
    "    while h_t <= t and h_t > d_min:\n",
    "        h_t = procDemand_func(taskset, t)\n",
    "        print(\"came\")\n",
    "        print(\"t:\" + str(t) + \"ht\" + str(h_t))\n",
    "        if h_t < t:\n",
    "            t = h_t\n",
    "        else:\n",
    "            d_max = get_max_di(taskset, t)\n",
    "            t = d_max\n",
    "    \n",
    "    print(\"don't know if it went\")\n",
    "    \n",
    "    if h_t <= d_min:\n",
    "        print(\"Task set is schedulable\")\n",
    "    else:\n",
    "        print(\"Task set is not schedulable\")\n",
    "        \n",
    "\n",
    "    "
   ]
  },
  {
   "cell_type": "code",
   "execution_count": 211,
   "metadata": {},
   "outputs": [
    {
     "name": "stdout",
     "output_type": "stream",
     "text": [
      "18000\n",
      "La : 18000.0\n",
      "Lb : 16984.0\n",
      "L : 16984.0\n",
      "t : 16974\n",
      "h(t) : 8890.0\n",
      "d_min : 16\n",
      "did not enter yet\n",
      "came\n",
      "t:16974ht8890.0\n",
      "came\n",
      "t:8890.0ht3080.0\n",
      "came\n",
      "t:3080.0ht1098.0\n",
      "came\n",
      "t:1098.0ht362.0\n",
      "came\n",
      "t:362.0ht118.0\n",
      "came\n",
      "t:118.0ht26.0\n",
      "came\n",
      "t:26.0ht2.0\n",
      "don't know if it went\n",
      "Task set is schedulable\n"
     ]
    }
   ],
   "source": [
    "qpa(taskset_paper)"
   ]
  },
  {
   "cell_type": "code",
   "execution_count": 201,
   "metadata": {},
   "outputs": [],
   "source": [
    "taskset_paper = np.array([[6000,18000,31000],[2000,9000,9800],[1000,12000,17000],[90,3000,4200],[8,78,96],[2,16,12],[10,120,280],[26,160,660]])"
   ]
  }
 ],
 "metadata": {
  "kernelspec": {
   "display_name": "Python 3.9.13 ('base')",
   "language": "python",
   "name": "python3"
  },
  "language_info": {
   "codemirror_mode": {
    "name": "ipython",
    "version": 3
   },
   "file_extension": ".py",
   "mimetype": "text/x-python",
   "name": "python",
   "nbconvert_exporter": "python",
   "pygments_lexer": "ipython3",
   "version": "3.9.13"
  },
  "orig_nbformat": 4,
  "vscode": {
   "interpreter": {
    "hash": "7c97a674548a7d5c16f88f314b46eb496b5ca9877ea580f0d75798cdeb497c30"
   }
  }
 },
 "nbformat": 4,
 "nbformat_minor": 2
}
