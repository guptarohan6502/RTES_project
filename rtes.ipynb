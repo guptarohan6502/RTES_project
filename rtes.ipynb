{
 "cells": [
  {
   "cell_type": "code",
   "execution_count": 1,
   "metadata": {},
   "outputs": [],
   "source": [
    "import numpy as np\n",
    "import random\n",
    "import math\n"
   ]
  },
  {
   "cell_type": "code",
   "execution_count": 2,
   "metadata": {},
   "outputs": [],
   "source": [
    "#la bound\n",
    "#lb bound\n",
    "#ht bound\n"
   ]
  },
  {
   "cell_type": "code",
   "execution_count": null,
   "metadata": {},
   "outputs": [],
   "source": [
    "from uuid import RESERVED_FUTURE\n",
    "\n",
    "\n",
    "def gen_deadline(exec_time,period):\n",
    "\t#[a,b]\n",
    "\tb = 1.2 *period\n",
    "\tif(exec_time<10):\n",
    "\t\ta = exec_time\n",
    "\telif(exec_time<100 and exec_time>=10):\n",
    "\t\ta =2*exec_time\n",
    "\telif(exec_time<1000 and exec_time>=100):\n",
    "\t\ta = 3*exec_time\n",
    "\telse:\n",
    "\t\ta = 4*exec_time\n",
    "\n",
    "\treturn a+random.random()*(b-a)\n",
    "\n",
    "def gen_tasksets(utilizations, periods):\n",
    "    \"\"\"\n",
    "    Take a list of task utilization sets and a list of task period sets and\n",
    "    return a list of couples (c, p) sets. The computation times are truncated\n",
    "    at a precision of 10^-10 to avoid floating point precision errors.\n",
    "    Args:\n",
    "        - `utilization`: The list of task utilization sets. For example::\n",
    "            [[0.3, 0.4, 0.8], [0.1, 0.9, 0.5]]\n",
    "        - `periods`: The list of task period sets. For examples::\n",
    "            [[100, 50, 1000], [200, 500, 10]]\n",
    "    Returns:\n",
    "        For the above example, it returns::\n",
    "            [[(30.0, 100), (20.0, 50), (800.0, 1000)],\n",
    "             [(20.0, 200), (450.0, 500), (5.0, 10)]]\n",
    "    \"\"\"\n",
    "    def trunc(x, p):\n",
    "        return int(x * 10 ** p) / float(10 ** p)\n",
    "\n",
    "    return [[(trunc(ui * pi, 6), trunc(pi, 6),trunc(gen_deadline(trunc(ui * pi, 6), trunc(pi, 6)),6)) for ui, pi in zip(us, ps)]\n",
    "            for us, ps in zip(utilizations, periods)]"
   ]
  },
  {
   "cell_type": "code",
   "execution_count": null,
   "metadata": {},
   "outputs": [],
   "source": [
    "#Uunifast algortihm\n",
    "total_task_sets = 6000\n"
   ]
  },
  {
   "cell_type": "code",
   "execution_count": null,
   "metadata": {},
   "outputs": [],
   "source": []
  }
 ],
 "metadata": {
  "kernelspec": {
   "display_name": "Python 3.8.10 64-bit (microsoft store)",
   "language": "python",
   "name": "python3"
  },
  "language_info": {
   "codemirror_mode": {
    "name": "ipython",
    "version": 3
   },
   "file_extension": ".py",
   "mimetype": "text/x-python",
   "name": "python",
   "nbconvert_exporter": "python",
   "pygments_lexer": "ipython3",
   "version": "3.8.10"
  },
  "orig_nbformat": 4,
  "vscode": {
   "interpreter": {
    "hash": "246f0eae839979196b7d9baf64863811d7b9b6e56671f5ac94a2d5989b2eea4d"
   }
  }
 },
 "nbformat": 4,
 "nbformat_minor": 2
}
