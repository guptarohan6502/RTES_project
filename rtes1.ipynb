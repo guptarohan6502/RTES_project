{
 "cells": [
  {
   "cell_type": "code",
   "execution_count": 1,
   "metadata": {},
   "outputs": [],
   "source": [
    "import numpy as np\n",
    "import random\n",
    "import math\n",
    "from matplotlib import pyplot as plt\n",
    "import warnings\n",
    "\n"
   ]
  },
  {
   "cell_type": "code",
   "execution_count": 2,
   "metadata": {},
   "outputs": [],
   "source": [
    "# la bound\n",
    "# lb bound\n",
    "# ht bound\n"
   ]
  },
  {
   "cell_type": "code",
   "execution_count": 3,
   "metadata": {},
   "outputs": [],
   "source": [
    "def gen_deadline(exec_time, period,gen):\n",
    "    # [a,b]\n",
    "    b = 1.2 * period\n",
    "    if(exec_time < 10):\n",
    "        a = exec_time\n",
    "    elif(exec_time < 100 and exec_time >= 10):\n",
    "        a = 2*exec_time\n",
    "    elif(exec_time < 1000 and exec_time >= 100):\n",
    "        a = 3*exec_time\n",
    "    else:\n",
    "        a = 4*exec_time\n",
    "\n",
    "    if(gen):\n",
    "        a = 0.95*period\n",
    "    return a+random.random()*(b-a)\n",
    "\n",
    "\n",
    "def gen_tasksets(utilizations, periods,gen):\n",
    "\n",
    "    def trunc(x, p):\n",
    "        return int(x * 10 ** p) / float(10 ** p)\n",
    "    # [[print(ui) for ui, pi in zip(us, ps)]\n",
    "    #         for us, ps in zip(utilizations, periods)]\n",
    "    return np.array([[[trunc(ui * pi, 6), trunc(pi, 6), trunc(gen_deadline(trunc(ui * pi, 6), trunc(pi, 6),gen), 6)] for ui, pi in zip(us, ps)]\n",
    "            for us, ps in zip(utilizations, periods)])\n"
   ]
  },
  {
   "cell_type": "code",
   "execution_count": 4,
   "metadata": {},
   "outputs": [],
   "source": [
    "def custom_period(n, nsets,max_,min_=1):\n",
    "\tmax_power = np.log(max_)\n",
    "\tmin_power = np.log(min_)\n",
    "\n",
    "\tintervals = np.arange(min_power,np.floor(max_power)+1)\n",
    "\tintervals = np.append(intervals, max_power)\n",
    "\t#print(intervals)\n",
    "\ttask_pp = ((n-1)//(len(intervals)-1))\n",
    "\t\n",
    "\ttask_lf = np.mod(n-1, len(intervals)-1).astype(int)\n",
    "\t#print(task_lf,task_pp)\n",
    "\tperiods = np.zeros((nsets, n))\n",
    "\tfor i in range(nsets):\n",
    "\t\tfor j in range(len(intervals)-1):\n",
    "\t\t\tif(j<task_lf):\n",
    "\t\t\t\tperiods[i][j*task_pp+j:(j+1)*task_pp+j+1] = np.random.uniform(low=np.exp(intervals[j]), high=np.exp(intervals[j+1]), size=task_pp+1)\n",
    "\t\t\telse:\n",
    "\t\t\t\tperiods[i][j*task_pp+task_lf:(j+1)*task_pp+task_lf] = np.random.uniform(low=np.exp(intervals[j]), high=np.exp(intervals[j+1]), size=task_pp)\n",
    "\tperiods[0:nsets,-1] =max_ \n",
    "\treturn periods\n"
   ]
  },
  {
   "cell_type": "code",
   "execution_count": 5,
   "metadata": {},
   "outputs": [
    {
     "data": {
      "text/plain": [
       "array([[  1.39215518,   1.14677824,   1.20122554,   6.86091478,\n",
       "          2.8419806 ,   4.93012825,  17.61939568,  10.10338341,\n",
       "         16.34904084,  44.64240146,  30.0699513 ,  63.23753835,\n",
       "         78.99311092, 100.        ],\n",
       "       [  2.15031887,   1.74733928,   2.28655645,   3.33781328,\n",
       "          6.4249132 ,   4.60750228,   9.69396293,   8.06916009,\n",
       "         19.72882272,  24.37598672,  21.69749355,  97.60159593,\n",
       "         73.59740243, 100.        ]])"
      ]
     },
     "execution_count": 5,
     "metadata": {},
     "output_type": "execute_result"
    }
   ],
   "source": [
    "custom_period(14,2,100)"
   ]
  },
  {
   "cell_type": "code",
   "execution_count": 6,
   "metadata": {},
   "outputs": [],
   "source": [
    "def UUniFastDiscard(n, u, nsets):\n",
    "    sets = []\n",
    "    while len(sets) < nsets:\n",
    "        # Classic UUniFast algorithm:\n",
    "        utilizations = []\n",
    "        sumU = u\n",
    "        for i in range(1, n):\n",
    "            nextSumU = sumU * random.random() ** (1.0 / (n - i))\n",
    "            utilizations.append(sumU - nextSumU)\n",
    "            sumU = nextSumU\n",
    "        utilizations.append(sumU)\n",
    "\n",
    "        # If no task utilization exceeds 1:\n",
    "        if all(ut <= 1 for ut in utilizations):\n",
    "            sets.append(utilizations)\n",
    "\n",
    "    return sets\n",
    "\n",
    "    \n",
    "def gen_uunifastdiscard(nsets, u, n):\n",
    "    return UUniFastDiscard(n, u, nsets)"
   ]
  },
  {
   "cell_type": "code",
   "execution_count": 7,
   "metadata": {},
   "outputs": [],
   "source": [
    "def get_taskset(nsets, n,t_max = 1000,util =0.9,gen=False):\n",
    "\t#n = 1000\n",
    "\tutilizations = gen_uunifastdiscard(nsets, util, n)\n",
    "\tperiods = custom_period(n, nsets, t_max, 1)\n",
    "\treturn gen_tasksets(utilizations, periods,gen)\n",
    "\n",
    "\t"
   ]
  },
  {
   "cell_type": "code",
   "execution_count": 8,
   "metadata": {},
   "outputs": [
    {
     "data": {
      "text/plain": [
       "array([[[3.66565000e-01, 2.30778100e+00, 1.62076800e+00],\n",
       "        [4.66813000e-01, 5.94662700e+00, 5.01293700e+00],\n",
       "        [1.57150000e-02, 7.73567100e+00, 8.24074100e+00],\n",
       "        [8.51825000e-01, 3.62492670e+01, 4.31927500e+00],\n",
       "        [7.10802200e+00, 1.45878334e+02, 1.54520209e+02],\n",
       "        [1.57719870e+01, 2.68823970e+02, 2.65895929e+02],\n",
       "        [3.62202279e+02, 9.47724841e+02, 1.09000492e+03],\n",
       "        [1.47553291e+02, 1.00000000e+03, 8.02236360e+02]]])"
      ]
     },
     "execution_count": 8,
     "metadata": {},
     "output_type": "execute_result"
    }
   ],
   "source": [
    "taskset = get_taskset(1, 8)\n",
    "taskset"
   ]
  },
  {
   "cell_type": "code",
   "execution_count": 9,
   "metadata": {},
   "outputs": [
    {
     "data": {
      "text/plain": [
       "array([[3.66565000e-01, 2.30778100e+00, 1.62076800e+00],\n",
       "       [4.66813000e-01, 5.94662700e+00, 5.01293700e+00],\n",
       "       [1.57150000e-02, 7.73567100e+00, 8.24074100e+00],\n",
       "       [8.51825000e-01, 3.62492670e+01, 4.31927500e+00],\n",
       "       [7.10802200e+00, 1.45878334e+02, 1.54520209e+02],\n",
       "       [1.57719870e+01, 2.68823970e+02, 2.65895929e+02],\n",
       "       [3.62202279e+02, 9.47724841e+02, 1.09000492e+03],\n",
       "       [1.47553291e+02, 1.00000000e+03, 8.02236360e+02]])"
      ]
     },
     "execution_count": 9,
     "metadata": {},
     "output_type": "execute_result"
    }
   ],
   "source": [
    "taskset[0]"
   ]
  },
  {
   "cell_type": "markdown",
   "metadata": {},
   "source": []
  },
  {
   "cell_type": "code",
   "execution_count": 10,
   "metadata": {},
   "outputs": [],
   "source": [
    "taskset_paper = np.array([[6000, 18000, 31000], [2000, 9000, 9800], [1000, 12000, 17000], [\n",
    "                         90, 3000, 4200], [8, 78, 96], [2, 16, 12], [10, 120, 280], [26, 160, 660]])\n"
   ]
  },
  {
   "cell_type": "code",
   "execution_count": 11,
   "metadata": {},
   "outputs": [],
   "source": [
    "def procDemand_func(taskset,t):\n",
    "    deadlines = taskset[:,1]\n",
    "    periods = taskset[:,2]\n",
    "    wcet = taskset[:,0]\n",
    "\n",
    "    h_t = np.sum(np.maximum(0, 1 + np.floor((t-deadlines)/(periods)))*wcet)\n",
    "\n",
    "    return h_t"
   ]
  },
  {
   "cell_type": "code",
   "execution_count": 12,
   "metadata": {},
   "outputs": [
    {
     "name": "stdout",
     "output_type": "stream",
     "text": [
      "8890.0\n"
     ]
    }
   ],
   "source": [
    "t = 16974\n",
    "ht = procDemand_func(taskset_paper, t)\n",
    "print(ht)"
   ]
  },
  {
   "cell_type": "code",
   "execution_count": 13,
   "metadata": {},
   "outputs": [
    {
     "name": "stdout",
     "output_type": "stream",
     "text": [
      "[[[3.66565000e-01 2.30778100e+00 1.62076800e+00]\n",
      "  [4.66813000e-01 5.94662700e+00 5.01293700e+00]\n",
      "  [1.57150000e-02 7.73567100e+00 8.24074100e+00]\n",
      "  [8.51825000e-01 3.62492670e+01 4.31927500e+00]\n",
      "  [7.10802200e+00 1.45878334e+02 1.54520209e+02]\n",
      "  [1.57719870e+01 2.68823970e+02 2.65895929e+02]\n",
      "  [3.62202279e+02 9.47724841e+02 1.09000492e+03]\n",
      "  [1.47553291e+02 1.00000000e+03 8.02236360e+02]]]\n"
     ]
    }
   ],
   "source": [
    "print(taskset)"
   ]
  },
  {
   "cell_type": "code",
   "execution_count": 14,
   "metadata": {},
   "outputs": [],
   "source": [
    "taskset_paper = np.array([[6000, 18000, 31000], [2000, 9000, 9800], [1000, 12000, 17000], [90, 3000, 4200], [8, 78, 96], [2, 16, 12], [10, 120, 280], [26, 160, 660]])"
   ]
  },
  {
   "cell_type": "code",
   "execution_count": 15,
   "metadata": {},
   "outputs": [],
   "source": [
    "def La_bound(taskset):\n",
    "\t\"\"\"\n",
    "\tCompute La calculations for the La bound\n",
    "\t\n",
    "\t\"\"\"\n",
    "\twcet = taskset[:,0]\n",
    "\tdeadlines = taskset[:,1]\n",
    "\tperiods = taskset[:,2]\n",
    "\tutilizations = wcet/periods\n",
    "\ttotal_utilization = np.sum(utilizations)\n",
    "\tLa = np.maximum(np.max(deadlines),np.sum((periods-deadlines)*utilizations)/(1-total_utilization))\n",
    "\treturn La\n"
   ]
  },
  {
   "cell_type": "code",
   "execution_count": 16,
   "metadata": {},
   "outputs": [
    {
     "name": "stdout",
     "output_type": "stream",
     "text": [
      "2.476473\n"
     ]
    }
   ],
   "source": [
    "taskset = get_taskset(1, 25)\n",
    "la = La_bound(taskset)\n",
    "print(la)"
   ]
  },
  {
   "cell_type": "code",
   "execution_count": 17,
   "metadata": {},
   "outputs": [
    {
     "name": "stdout",
     "output_type": "stream",
     "text": [
      "18000.0\n"
     ]
    }
   ],
   "source": [
    "La = La_bound(taskset_paper)\n",
    "taskset_paper[:,0]/taskset_paper[:,1]\n",
    "print(La)"
   ]
  },
  {
   "cell_type": "code",
   "execution_count": 18,
   "metadata": {},
   "outputs": [],
   "source": [
    "def Lb_bound(taskset):\n",
    "    wcet = taskset[:,0]\n",
    "    deadlines = taskset[:,1]\n",
    "    periods = taskset[:,2]\n",
    "    w0 = np.sum(wcet)\n",
    "    a = w0\n",
    "    b = np.sum(np.ceil(np.round((a/periods), 1)*wcet))\n",
    "    while a != b and (((a**2 - b**2) > 0.0000001 or (b**2 - a**2) > 0.0000001)):\n",
    "        #if (a**2 - b**2 > 0 and (np.sqrt(a**2 - b**2) > 0.0001)) or (a**2 - b**2 < 0 and (np.sqrt(b**2 - a**2) > 0.0001)):\n",
    "        a = b\n",
    "        b = np.round(np.sum(np.ceil(a/periods)*wcet), 1)\n",
    "        \n",
    "    Lb = b\n",
    "    \n",
    "    return Lb"
   ]
  },
  {
   "cell_type": "code",
   "execution_count": 19,
   "metadata": {},
   "outputs": [
    {
     "name": "stdout",
     "output_type": "stream",
     "text": [
      "16984.0\n"
     ]
    }
   ],
   "source": [
    "Lb = Lb_bound(taskset_paper)\n",
    "print(Lb)"
   ]
  },
  {
   "cell_type": "code",
   "execution_count": 20,
   "metadata": {},
   "outputs": [
    {
     "name": "stdout",
     "output_type": "stream",
     "text": [
      "16\n"
     ]
    }
   ],
   "source": [
    "deadlines = taskset_paper[:, 1]\n",
    "d_min = np.min(deadlines)\n",
    "print(d_min)"
   ]
  },
  {
   "cell_type": "code",
   "execution_count": 21,
   "metadata": {},
   "outputs": [],
   "source": [
    "def get_dmin(deadliness, L):\n",
    "    return np.min(deadliness)\n",
    "    \n",
    "    "
   ]
  },
  {
   "cell_type": "code",
   "execution_count": 22,
   "metadata": {},
   "outputs": [
    {
     "name": "stdout",
     "output_type": "stream",
     "text": [
      "16\n"
     ]
    }
   ],
   "source": [
    "deadlines = taskset_paper[:, 1]\n",
    "L = np.minimum(La, Lb)\n",
    "d_min = get_dmin(deadlines, L)\n",
    "print(d_min)\n"
   ]
  },
  {
   "cell_type": "code",
   "execution_count": 23,
   "metadata": {},
   "outputs": [
    {
     "data": {
      "text/plain": [
       "(8, 3)"
      ]
     },
     "execution_count": 23,
     "metadata": {},
     "output_type": "execute_result"
    }
   ],
   "source": [
    "taskset_paper.shape"
   ]
  },
  {
   "cell_type": "code",
   "execution_count": 24,
   "metadata": {},
   "outputs": [],
   "source": [
    "def get_max_abs_deadline(taskset, L):\n",
    "    n = taskset.shape[0]\n",
    "    abs_deadlines = []\n",
    "    \n",
    "    for i in range(n):\n",
    "        p = 0\n",
    "        j = 0\n",
    "        Ti = taskset[i][2]\n",
    "        Di = taskset[i][1]\n",
    "        while p < L:\n",
    "            j += 1\n",
    "            q = p\n",
    "            p = j*Ti + Di\n",
    "            \n",
    "        abs_deadlines.append(q)\n",
    "    return np.max(abs_deadlines)\n",
    "    "
   ]
  },
  {
   "cell_type": "code",
   "execution_count": 25,
   "metadata": {},
   "outputs": [
    {
     "name": "stdout",
     "output_type": "stream",
     "text": [
      "16974\n"
     ]
    }
   ],
   "source": [
    "L = 16984\n",
    "t = get_max_abs_deadline(taskset_paper, L)\n",
    "\n",
    "print(t)"
   ]
  },
  {
   "cell_type": "code",
   "execution_count": 26,
   "metadata": {},
   "outputs": [],
   "source": [
    "def get_max_di(taskset, t):\n",
    "    n = taskset.shape[0]\n",
    "    d_max = 0\n",
    "    \n",
    "    for j in range(n):\n",
    "        if taskset[j][1] < t:\n",
    "            d = np.floor((t - taskset[j][1])/taskset[j][2])*taskset[j][2] + taskset[j][1]\n",
    "            if d == t:\n",
    "                d = d - taskset[j][2]\n",
    "            if d > d_max:\n",
    "                d_max = d\n",
    "                \n",
    "    return d_max\n",
    "    \n",
    "    "
   ]
  },
  {
   "cell_type": "code",
   "execution_count": 27,
   "metadata": {},
   "outputs": [],
   "source": [
    "def La_starbound(taskset):\n",
    "\t\"\"\"\n",
    "\tCompute La calculations for the La bound\n",
    "\t\n",
    "\t\"\"\"\n",
    "\twcet = taskset[:, 0]\n",
    "\tdeadlines = taskset[:, 1]\n",
    "\tperiods = taskset[:, 2]\n",
    "\tutilizations = wcet/periods\n",
    "\t#print(\"deadlines\", deadlines, \"periods\", periods, \"utilizations\", utilizations)\n",
    "\t#print(deadlines, periods, utilizations)\n",
    "\ttotal_utilization = np.sum(utilizations)\n",
    "\t#print(\"total utilization : \" + str(total_utilization))\n",
    "\t# print(np.sum((periods-deadlines)*utilizations)/(1-total_utilization))\n",
    "\t#La = np.maximum(np.max(deadlines),np.max((periods-deadlines))*(total_utilization/(1-total_utilization)))\n",
    "\tprint(np.max(deadlines))\n",
    "\tLa = np.maximum(np.max(deadlines-periods),\n",
    "\t                np.sum((periods-deadlines)*utilizations)/(1-total_utilization))\n",
    "\treturn La\n"
   ]
  },
  {
   "cell_type": "code",
   "execution_count": 28,
   "metadata": {},
   "outputs": [],
   "source": [
    "def La_starcalculations(taskset):\n",
    "\tLa_star = La_starbound(taskset)\n",
    "\twcet = taskset[:, 0]\n",
    "\tdeadlines = taskset[:, 1]\n",
    "\tperiods = taskset[:, 2]\n",
    "\ttot_abs_deadlines = 0\n",
    "\tfor job in taskset:\n",
    "\t\tjob_abs_deadline = 0\n",
    "\t\tif (job[1] <= job[2]):\n",
    "\t\t\tjob_abs_deadline = np.floor((La_star)/job[2])\n",
    "\t\t\tif (job_abs_deadline*job[2]+job[1] <= La):\n",
    "\t\t\t\tjob_abs_deadline = job_abs_deadline+1\n",
    "\t\telse:\n",
    "\t\t\tjob_abs_deadline = np.floor((La_star)/job[2])\n",
    "\t\ttot_abs_deadlines += job_abs_deadline\n",
    "\t\tprint(job_abs_deadline, job[1], job[2])\n",
    "\treturn tot_abs_deadlines\n"
   ]
  },
  {
   "cell_type": "code",
   "execution_count": 29,
   "metadata": {},
   "outputs": [],
   "source": [
    "def La_boudcalculations(taskset):\n",
    "\tLa = La_bound(taskset)\n",
    "\t#print(\"La : \" + str(La))\n",
    "\twcet = taskset[:, 0]\n",
    "\tdeadlines = taskset[:, 1]\n",
    "\tperiods = taskset[:, 2]\n",
    "\ttot_abs_deadlines = 0\n",
    "\tfor job in taskset:\n",
    "\t\tjob_abs_deadline = 0\n",
    "\t\tif (job[1] <= job[2]):\n",
    "\t\t\tjob_abs_deadline = np.floor((La)/job[2])\n",
    "\t\t\tif (job_abs_deadline*job[2]+job[1] <= La):\n",
    "\t\t\t\tjob_abs_deadline = job_abs_deadline+1\n",
    "\t\telse:\n",
    "\t\t\tjob_abs_deadline = np.floor((La)/job[1])\n",
    "\t\ttot_abs_deadlines += job_abs_deadline\n",
    "\t\t#print(job_abs_deadline, job[1], job[2])\n",
    "\treturn tot_abs_deadlines\n"
   ]
  },
  {
   "cell_type": "code",
   "execution_count": 30,
   "metadata": {},
   "outputs": [],
   "source": [
    "def Lb_boudcalculations(taskset):\n",
    "\tLb = Lb_bound(taskset)\n",
    "\twcet = taskset[:, 0]\n",
    "\tdeadlines = taskset[:, 1]\n",
    "\tperiods = taskset[:, 2]\n",
    "\ttot_abs_deadlines = 0\n",
    "\t#print(Lb)\n",
    "\tfor job in taskset:\n",
    "\t\tjob_abs_deadline = 0\n",
    "\t\tif (job[1] <= job[2]):\n",
    "\t\t\tjob_abs_deadline = np.floor((Lb)/job[2])\n",
    "\t\t\tif (job_abs_deadline*job[2]+job[1] <= La):\n",
    "\t\t\t\tjob_abs_deadline = job_abs_deadline+1\n",
    "\t\telse:\n",
    "\t\t\tjob_abs_deadline = np.floor((Lb)/job[2])\n",
    "\t\ttot_abs_deadlines += job_abs_deadline\n",
    "\t\t#print(job_abs_deadline, job[1], job[2])\n",
    "\treturn tot_abs_deadlines\n"
   ]
  },
  {
   "cell_type": "code",
   "execution_count": 31,
   "metadata": {},
   "outputs": [],
   "source": [
    "taskset_paper = np.array([[6000,18000,31000],[2000,9000,9800],[1000,12000,17000],[90,3000,4200],[8,78,96],[2,16,12],[10,120,280],[26,160,660]])"
   ]
  },
  {
   "cell_type": "code",
   "execution_count": 32,
   "metadata": {},
   "outputs": [],
   "source": [
    "# taskset = get_taskset(1, 5)\n",
    "# #taskset\n",
    "# taskset = np.array(taskset[0])\n",
    "# #qpa(taskset)\n"
   ]
  },
  {
   "cell_type": "code",
   "execution_count": 33,
   "metadata": {},
   "outputs": [],
   "source": [
    "# x = [2, 9]\n",
    "# # x.append(np.random.randint(1, 100))\n",
    "# # print(x)\n",
    "\n",
    "# qpa_y = []\n",
    "# for i in x:\n",
    "# \tprint(i)\n",
    "# \ttaskset = get_taskset(1, int(i))\n",
    "# \tqpa_y.append(qpa(taskset[0]))\n"
   ]
  },
  {
   "cell_type": "code",
   "execution_count": 34,
   "metadata": {},
   "outputs": [],
   "source": [
    "def qpa(taskset):\n",
    "\n",
    "    La = La_bound(taskset)\n",
    "    #print(\"La : \" + str(La))\n",
    "    #Lb = Lb_bound(taskset)\n",
    "    #print(\"Lb : \" + str(Lb))\n",
    "    L = La#np.minimum(La, Lb)\n",
    "    #print(\"L : \" + str(L))\n",
    "\n",
    "    t = get_max_abs_deadline(taskset, L)\n",
    "    #print(\"t : \" + str(t))\n",
    "    h_t = procDemand_func(taskset, t)\n",
    "    #print(\"h(t) : \" + str(h_t))\n",
    "    d_min = get_dmin(taskset[:,1], L)\n",
    "\n",
    "\n",
    "    total_cal = 0\n",
    "\n",
    "    while (h_t := procDemand_func(taskset, t)) <= t and h_t > d_min:\n",
    "        # h_t = procDemand_func(taskset, t)\n",
    "        total_cal += 1\n",
    "\n",
    "        #print(\"--t : \" + str(t))\n",
    "        #print(\"--h(t) : \" + str(h_t))\n",
    "        if h_t < t:\n",
    "            t = h_t\n",
    "        else:\n",
    "            d_max = get_max_di(taskset, t)\n",
    "            t = d_max\n",
    "\n",
    "    if h_t <= d_min:\n",
    "        #print(\"Task set is schedulable\")\n",
    "        #print(\"total calculations : \" + str(total_cal))\n",
    "        return total_cal+1\n",
    "    else:\n",
    "        #print(\"Task set is not schedulable\")\n",
    "        #print(\"total calculations : \" + str(total_cal))\n",
    "        return total_cal+1\n"
   ]
  },
  {
   "cell_type": "code",
   "execution_count": 35,
   "metadata": {},
   "outputs": [
    {
     "name": "stdout",
     "output_type": "stream",
     "text": [
      "8 0\n",
      "6\n",
      "20 1\n",
      "6\n",
      "40 2\n",
      "6\n",
      "80 3\n",
      "6\n",
      "160 4\n",
      "6\n",
      "320 5\n",
      "6\n",
      "640 6\n",
      "6\n",
      "1280 7\n",
      "6\n",
      "[9.166666666666666, 10.666666666666666, 11.333333333333334, 11.333333333333334, 10.833333333333334, 10.666666666666666, 10.666666666666666, 10.833333333333334]\n"
     ]
    },
    {
     "data": {
      "text/plain": [
       "[<matplotlib.lines.Line2D at 0x16aff935f30>]"
      ]
     },
     "execution_count": 35,
     "metadata": {},
     "output_type": "execute_result"
    },
    {
     "data": {
      "image/png": "[encoded data removed]",
      "text/plain": [
       "<Figure size 640x480 with 1 Axes>"
      ]
     },
     "metadata": {},
     "output_type": "display_data"
    }
   ],
   "source": [
    "x = [8, 20, 40, 80, 160, 320, 640, 1280]\n",
    "q = [0] * len(x)\n",
    "la_cal = [0] * len(x)\n",
    "lb_cal = [0] * len(x)\n",
    "l = 0\n",
    "\n",
    "for i in range(len(x)):\n",
    "        print(x[i],i)\n",
    "        taskset = get_taskset(6, int(x[i]),gen =True)\n",
    "        total_count =0\n",
    "        for j in range(len(taskset)):\n",
    "            task = np.array(taskset[j])\n",
    "            wcet = task[:, 0]\n",
    "            deadlines = task[:, 1]\n",
    "            periods = task[:, 2]\n",
    "            \n",
    "            utilizations = np.sum(wcet/np.minimum(periods, deadlines))\n",
    "            if(utilizations<=1):\n",
    "                ht_calculated = True\n",
    "                total_count+=1\n",
    "            else:\n",
    "                #print(\"utilization is greater than 1\")\n",
    "                continue\n",
    "\n",
    "            #print(\"utilization : \" + str(utilizations))\n",
    "\n",
    "            q[l] += qpa(task)\n",
    "            la_cal[l] += La_boudcalculations(task)\n",
    "            lb_cal[l] += Lb_boudcalculations(task)\n",
    "\n",
    "        q[l]= q[l]/total_count\n",
    "        la_cal[l] = la_cal[l]/total_count\n",
    "        lb_cal[l] = lb_cal[l]/total_count\n",
    "        print(total_count)\n",
    "        l += 1\n",
    "\n",
    "print(q)\n",
    "plt.plot(x, q)\n",
    "plt.plot(x, la_cal)\n",
    "plt.plot(x, lb_cal)\n"
   ]
  },
  {
   "cell_type": "code",
   "execution_count": 36,
   "metadata": {},
   "outputs": [
    {
     "data": {
      "text/plain": [
       "[<matplotlib.lines.Line2D at 0x16affc47520>]"
      ]
     },
     "execution_count": 36,
     "metadata": {},
     "output_type": "execute_result"
    },
    {
     "data": {
      "image/png": "[encoded data removed]",
      "text/plain": [
       "<Figure size 640x480 with 1 Axes>"
      ]
     },
     "metadata": {},
     "output_type": "display_data"
    }
   ],
   "source": [
    "plt.yscale(\"log\")\n",
    "plt.xscale(\"log\")\n",
    "\n",
    "plt.plot(x, q)\n",
    "plt.plot(x, la_cal)\n",
    "plt.plot(x, lb_cal)\n"
   ]
  },
  {
   "cell_type": "code",
   "execution_count": 37,
   "metadata": {},
   "outputs": [
    {
     "name": "stdout",
     "output_type": "stream",
     "text": [
      "[9.166666666666666, 10.666666666666666, 11.333333333333334, 11.333333333333334, 10.833333333333334, 10.666666666666666, 10.666666666666666, 10.833333333333334]\n",
      "[811.0, 2706.8333333333335, 5283.666666666667, 10235.666666666666, 19358.0, 38948.5, 77364.16666666667, 155331.83333333334]\n",
      "[460.8333333333333, 1078.0, 2333.8333333333335, 4259.666666666667, 8284.166666666666, 17186.166666666668, 34722.833333333336, 69785.16666666667]\n"
     ]
    }
   ],
   "source": [
    "print(q)\n",
    "print(la_cal)\n",
    "print(lb_cal)"
   ]
  },
  {
   "cell_type": "code",
   "execution_count": 38,
   "metadata": {},
   "outputs": [
    {
     "name": "stdout",
     "output_type": "stream",
     "text": [
      "10 0\n",
      "300 3.1433333333333335\n",
      "100 1\n",
      "300 6.486666666666666\n",
      "1000 2\n",
      "300 10.223333333333333\n",
      "10000 3\n",
      "300 12.706666666666667\n",
      "100000 4\n"
     ]
    },
    {
     "ename": "KeyboardInterrupt",
     "evalue": "",
     "output_type": "error",
     "traceback": [
      "\u001b[1;31m---------------------------------------------------------------------------\u001b[0m",
      "\u001b[1;31mKeyboardInterrupt\u001b[0m                         Traceback (most recent call last)",
      "Cell \u001b[1;32mIn [38], line 30\u001b[0m\n\u001b[0;32m     28\u001b[0m     \u001b[39m#print(qpa(task))\u001b[39;00m\n\u001b[0;32m     29\u001b[0m     la_cal[l] \u001b[39m+\u001b[39m\u001b[39m=\u001b[39m La_boudcalculations(task)\n\u001b[1;32m---> 30\u001b[0m     lb_cal[l] \u001b[39m+\u001b[39m\u001b[39m=\u001b[39m Lb_boudcalculations(task)\n\u001b[0;32m     32\u001b[0m q[l]\u001b[39m=\u001b[39m q[l]\u001b[39m/\u001b[39mtotal_count\n\u001b[0;32m     33\u001b[0m la_cal[l] \u001b[39m=\u001b[39m la_cal[l]\u001b[39m/\u001b[39mtotal_count\n",
      "Cell \u001b[1;32mIn [30], line 2\u001b[0m, in \u001b[0;36mLb_boudcalculations\u001b[1;34m(taskset)\u001b[0m\n\u001b[0;32m      1\u001b[0m \u001b[39mdef\u001b[39;00m \u001b[39mLb_boudcalculations\u001b[39m(taskset):\n\u001b[1;32m----> 2\u001b[0m \tLb \u001b[39m=\u001b[39m Lb_bound(taskset)\n\u001b[0;32m      3\u001b[0m \twcet \u001b[39m=\u001b[39m taskset[:, \u001b[39m0\u001b[39m]\n\u001b[0;32m      4\u001b[0m \tdeadlines \u001b[39m=\u001b[39m taskset[:, \u001b[39m1\u001b[39m]\n",
      "Cell \u001b[1;32mIn [18], line 11\u001b[0m, in \u001b[0;36mLb_bound\u001b[1;34m(taskset)\u001b[0m\n\u001b[0;32m      8\u001b[0m \u001b[39mwhile\u001b[39;00m a \u001b[39m!=\u001b[39m b \u001b[39mand\u001b[39;00m (((a\u001b[39m*\u001b[39m\u001b[39m*\u001b[39m\u001b[39m2\u001b[39m \u001b[39m-\u001b[39m b\u001b[39m*\u001b[39m\u001b[39m*\u001b[39m\u001b[39m2\u001b[39m) \u001b[39m>\u001b[39m \u001b[39m0.0000001\u001b[39m \u001b[39mor\u001b[39;00m (b\u001b[39m*\u001b[39m\u001b[39m*\u001b[39m\u001b[39m2\u001b[39m \u001b[39m-\u001b[39m a\u001b[39m*\u001b[39m\u001b[39m*\u001b[39m\u001b[39m2\u001b[39m) \u001b[39m>\u001b[39m \u001b[39m0.0000001\u001b[39m)):\n\u001b[0;32m      9\u001b[0m     \u001b[39m#if (a**2 - b**2 > 0 and (np.sqrt(a**2 - b**2) > 0.0001)) or (a**2 - b**2 < 0 and (np.sqrt(b**2 - a**2) > 0.0001)):\u001b[39;00m\n\u001b[0;32m     10\u001b[0m     a \u001b[39m=\u001b[39m b\n\u001b[1;32m---> 11\u001b[0m     b \u001b[39m=\u001b[39m np\u001b[39m.\u001b[39;49mround(np\u001b[39m.\u001b[39;49msum(np\u001b[39m.\u001b[39;49mceil(a\u001b[39m/\u001b[39;49mperiods)\u001b[39m*\u001b[39;49mwcet), \u001b[39m1\u001b[39;49m)\n\u001b[0;32m     13\u001b[0m Lb \u001b[39m=\u001b[39m b\n\u001b[0;32m     15\u001b[0m \u001b[39mreturn\u001b[39;00m Lb\n",
      "File \u001b[1;32m<__array_function__ internals>:180\u001b[0m, in \u001b[0;36mround_\u001b[1;34m(*args, **kwargs)\u001b[0m\n",
      "File \u001b[1;32m~\\AppData\\Local\\Packages\\PythonSoftwareFoundation.Python.3.10_qbz5n2kfra8p0\\LocalCache\\local-packages\\Python310\\site-packages\\numpy\\core\\fromnumeric.py:3731\u001b[0m, in \u001b[0;36mround_\u001b[1;34m(a, decimals, out)\u001b[0m\n\u001b[0;32m   3722\u001b[0m \u001b[39m@array_function_dispatch\u001b[39m(_around_dispatcher)\n\u001b[0;32m   3723\u001b[0m \u001b[39mdef\u001b[39;00m \u001b[39mround_\u001b[39m(a, decimals\u001b[39m=\u001b[39m\u001b[39m0\u001b[39m, out\u001b[39m=\u001b[39m\u001b[39mNone\u001b[39;00m):\n\u001b[0;32m   3724\u001b[0m     \u001b[39m\"\"\"\u001b[39;00m\n\u001b[0;32m   3725\u001b[0m \u001b[39m    Round an array to the given number of decimals.\u001b[39;00m\n\u001b[0;32m   3726\u001b[0m \n\u001b[1;32m   (...)\u001b[0m\n\u001b[0;32m   3729\u001b[0m \u001b[39m    around : equivalent function; see for details.\u001b[39;00m\n\u001b[0;32m   3730\u001b[0m \u001b[39m    \"\"\"\u001b[39;00m\n\u001b[1;32m-> 3731\u001b[0m     \u001b[39mreturn\u001b[39;00m around(a, decimals\u001b[39m=\u001b[39;49mdecimals, out\u001b[39m=\u001b[39;49mout)\n",
      "File \u001b[1;32m<__array_function__ internals>:180\u001b[0m, in \u001b[0;36maround\u001b[1;34m(*args, **kwargs)\u001b[0m\n",
      "File \u001b[1;32m~\\AppData\\Local\\Packages\\PythonSoftwareFoundation.Python.3.10_qbz5n2kfra8p0\\LocalCache\\local-packages\\Python310\\site-packages\\numpy\\core\\fromnumeric.py:3305\u001b[0m, in \u001b[0;36maround\u001b[1;34m(a, decimals, out)\u001b[0m\n\u001b[0;32m   3214\u001b[0m \u001b[39m@array_function_dispatch\u001b[39m(_around_dispatcher)\n\u001b[0;32m   3215\u001b[0m \u001b[39mdef\u001b[39;00m \u001b[39maround\u001b[39m(a, decimals\u001b[39m=\u001b[39m\u001b[39m0\u001b[39m, out\u001b[39m=\u001b[39m\u001b[39mNone\u001b[39;00m):\n\u001b[0;32m   3216\u001b[0m     \u001b[39m\"\"\"\u001b[39;00m\n\u001b[0;32m   3217\u001b[0m \u001b[39m    Evenly round to the given number of decimals.\u001b[39;00m\n\u001b[0;32m   3218\u001b[0m \n\u001b[1;32m   (...)\u001b[0m\n\u001b[0;32m   3303\u001b[0m \n\u001b[0;32m   3304\u001b[0m \u001b[39m    \"\"\"\u001b[39;00m\n\u001b[1;32m-> 3305\u001b[0m     \u001b[39mreturn\u001b[39;00m _wrapfunc(a, \u001b[39m'\u001b[39;49m\u001b[39mround\u001b[39;49m\u001b[39m'\u001b[39;49m, decimals\u001b[39m=\u001b[39;49mdecimals, out\u001b[39m=\u001b[39;49mout)\n",
      "\u001b[1;31mKeyboardInterrupt\u001b[0m: "
     ]
    }
   ],
   "source": [
    "x = [1, 2, 3, 4, 5, 6]\n",
    "q = [0] * len(x)\n",
    "la_cal = [0] * len(x)\n",
    "lb_cal = [0] * len(x)\n",
    "l = 0\n",
    "\n",
    "for i in range(len(x)):\n",
    "        print(10**x[i],i)\n",
    "        taskset = get_taskset(300, 30,t_max=10**x[i],gen = True)\n",
    "        total_count =0\n",
    "        for j in range(len(taskset)):\n",
    "            task = np.array(taskset[j])\n",
    "            wcet = task[:, 0]\n",
    "            deadlines = task[:, 1]\n",
    "            periods = task[:, 2]\n",
    "            \n",
    "            utilizations = np.sum(wcet/np.minimum(periods, deadlines))\n",
    "            if(utilizations<=1):\n",
    "                ht_calculated = True\n",
    "                total_count+=1\n",
    "            else:\n",
    "                print(\"utilization is greater than 1\")\n",
    "                continue\n",
    "\n",
    "            #print(\"utilization : \" + str(utilizations))\n",
    "\n",
    "            q[l] += qpa(task)\n",
    "            #print(qpa(task))\n",
    "            la_cal[l] += La_boudcalculations(task)\n",
    "            lb_cal[l] += Lb_boudcalculations(task)\n",
    "\n",
    "        q[l]= q[l]/total_count\n",
    "        la_cal[l] = la_cal[l]/total_count\n",
    "        lb_cal[l] = lb_cal[l]/total_count\n",
    "        print(total_count,q[l])\n",
    "        l += 1\n",
    "\n",
    "print(q)\n",
    "plt.yscale(\"log\")\n",
    "plt.plot(x, q)\n",
    "plt.plot(x, la_cal)\n",
    "plt.plot(x, lb_cal)\n"
   ]
  },
  {
   "cell_type": "code",
   "execution_count": null,
   "metadata": {},
   "outputs": [
    {
     "data": {
      "text/plain": [
       "[<matplotlib.lines.Line2D at 0x1b30435f0a0>]"
      ]
     },
     "execution_count": 468,
     "metadata": {},
     "output_type": "execute_result"
    },
    {
     "data": {
      "image/png": "[encoded data removed]",
      "text/plain": [
       "<Figure size 432x288 with 1 Axes>"
      ]
     },
     "metadata": {
      "needs_background": "light"
     },
     "output_type": "display_data"
    }
   ],
   "source": [
    "plt.yscale(\"log\")\n",
    "plt.plot(x, q)\n",
    "plt.plot(x, la_cal)\n",
    "plt.plot(x, lb_cal)\n"
   ]
  },
  {
   "cell_type": "code",
   "execution_count": null,
   "metadata": {},
   "outputs": [
    {
     "name": "stdout",
     "output_type": "stream",
     "text": [
      "0.66 0\n",
      "60\n",
      "0.69 1\n",
      "60\n",
      "0.72 2\n",
      "60\n",
      "0.75 3\n",
      "60\n",
      "0.78 4\n",
      "60\n",
      "0.81 5\n",
      "60\n",
      "0.84 6\n",
      "60\n",
      "0.87 7\n",
      "60\n",
      "0.9 8\n",
      "60\n",
      "0.93 9\n",
      "60\n",
      "0.96 10\n",
      "60\n",
      "0.99 11\n",
      "53\n",
      "[6.883333333333334, 7.3, 7.783333333333333, 7.866666666666666, 8.266666666666667, 8.616666666666667, 9.533333333333333, 9.933333333333334, 10.266666666666667, 11.216666666666667, 11.816666666666666, 12.622641509433961]\n"
     ]
    },
    {
     "data": {
      "text/plain": [
       "[<matplotlib.lines.Line2D at 0x1f75450ec80>]"
      ]
     },
     "execution_count": 115,
     "metadata": {},
     "output_type": "execute_result"
    },
    {
     "data": {
      "image/png": "[encoded data removed]",
      "text/plain": [
       "<Figure size 640x480 with 1 Axes>"
      ]
     },
     "metadata": {},
     "output_type": "display_data"
    }
   ],
   "source": [
    "x = [0.66,0.69,0.72,0.75,0.78,0.81,0.84,0.87,0.9,0.93,0.96,0.99]\n",
    "q = [0] * len(x)\n",
    "la_cal = [0] * len(x)\n",
    "lb_cal = [0] * len(x)\n",
    "l = 0\n",
    "\n",
    "for i in range(len(x)):\n",
    "        print(x[i],i)\n",
    "        taskset = get_taskset(60, 30,util = x[i],gen = True)\n",
    "        total_count =0\n",
    "        for j in range(len(taskset)):\n",
    "            task = np.array(taskset[j])\n",
    "            wcet = task[:, 0]\n",
    "            deadlines = task[:, 1]\n",
    "            periods = task[:, 2]\n",
    "            \n",
    "            utilizations = np.sum(wcet/np.minimum(periods, deadlines))\n",
    "            if(utilizations<=1):\n",
    "                ht_calculated = True\n",
    "                total_count+=1\n",
    "            else:\n",
    "                #print(\"utilization is greater than 1\")\n",
    "                continue\n",
    "\n",
    "            #print(\"utilization : \" + str(utilizations))\n",
    "\n",
    "            q[l] += qpa(task)\n",
    "            la_cal[l] += La_boudcalculations(task)\n",
    "            lb_cal[l] += Lb_boudcalculations(task)\n",
    "\n",
    "        q[l]= q[l]/total_count\n",
    "        la_cal[l] = la_cal[l]/total_count\n",
    "        lb_cal[l] = lb_cal[l]/total_count\n",
    "        print(total_count)\n",
    "        l += 1\n",
    "\n",
    "print(q)\n",
    "plt.yscale(\"log\")\n",
    "plt.plot(x, q)\n",
    "plt.plot(x, la_cal)\n",
    "plt.plot(x, lb_cal)"
   ]
  },
  {
   "cell_type": "markdown",
   "metadata": {},
   "source": [
    "## Max of Di/Ti"
   ]
  },
  {
   "cell_type": "code",
   "execution_count": 54,
   "metadata": {},
   "outputs": [],
   "source": [
    "def old_method(taskset):\n",
    "    wcet = task[:, 0]\n",
    "    deadlines = task[:, 1]\n",
    "    periods = task[:, 2]\n",
    "\n",
    "    La = La_bound(taskset)\n",
    "    #print(\"La : \" + str(La))\n",
    "    #Lb = Lb_bound(taskset)\n",
    "    #print(\"Lb : \" + str(Lb))\n",
    "    L = La#np.minimum(La, Lb)\n",
    "    #print(\"L : \" + str(L))\n",
    "\n",
    "    t = get_max_abs_deadline(taskset, L)\n",
    "    #print(\"t : \" + str(t))\n",
    "    h_t = procDemand_func(taskset, t)\n",
    "    #print(\"h(t) : \" + str(h_t))\n",
    "    k=0\n",
    "    deadline_n = k*periods + deadlines\n",
    "    deadline_i = []\n",
    "    total_cal = 0\n",
    "\n",
    "    # while(np.min(deadline_n)<L):\n",
    "    #     print(np.min(deadline_n),L,k)\n",
    "    #     deadline_n = k*periods + deadlines\n",
    "    #     k+=1\n",
    "    #     for j in range(len(deadline_n)):\n",
    "    #         if(deadline_n[j]<L and (deadline_n[j] not in deadline_i)):\n",
    "    #             deadline_i.append(deadline_n[j])\n",
    "\n",
    "    deadline_i = [0]\n",
    "    for job in taskset:\n",
    "        job_abs_deadline = 0\n",
    "        if (job[1] <= job[2]):\n",
    "            job_abs_deadline = np.floor((L)/job[2])\n",
    "            if (job_abs_deadline*job[2]+job[1] <= L):\n",
    "                job_abs_deadline = job_abs_deadline+1\n",
    "        else:\n",
    "            job_abs_deadline = np.floor((La)/job[1])\n",
    "\n",
    "        dead_s = np.arange(1,job_abs_deadline+1)*job[2]+job[1]\n",
    "        #print(dead_s)\n",
    "        deadline_i = np.concatenate((dead_s,np.array(deadline_i)))\n",
    "\n",
    "    deadline_i = np.unique(deadline_i)\n",
    "    deadline_i = np.sort(deadline_i)\n",
    "    #print(deadline_i)\n",
    "    for j in range(len(deadline_i)):\n",
    "        if(procDemand_func(taskset,deadline_i[j])>t):\n",
    "            total_cal+=1\n",
    "            break\n",
    "        else:\n",
    "            total_cal+=1\n",
    "            continue\n",
    "\n",
    "    \n",
    "    return total_cal\n",
    "\n",
    "\n"
   ]
  },
  {
   "cell_type": "code",
   "execution_count": 55,
   "metadata": {},
   "outputs": [
    {
     "name": "stdout",
     "output_type": "stream",
     "text": [
      "0.66 0\n",
      "60\n",
      "0.69 1\n",
      "60\n",
      "0.72 2\n",
      "60\n",
      "0.75 3\n",
      "60\n",
      "0.78 4\n",
      "60\n",
      "0.81 5\n",
      "60\n",
      "0.84 6\n",
      "60\n",
      "0.87 7\n",
      "60\n",
      "0.9 8\n",
      "60\n",
      "0.93 9\n",
      "60\n",
      "0.96 10\n",
      "60\n",
      "0.99 11\n",
      "60\n",
      "[1.8333333333333333, 1.85, 1.2666666666666666, 1.0, 1.2333333333333334, 1.0, 1.0, 1.0, 1.0, 1.0, 1.0, 1.0]\n",
      "[3827.7, 3713.75, 3701.9, 3553.05, 3605.366666666667, 3620.233333333333, 3580.4666666666667, 3429.266666666667, 3327.4166666666665, 3389.266666666667, 3208.5833333333335, 3335.5]\n"
     ]
    },
    {
     "data": {
      "text/plain": [
       "[<matplotlib.lines.Line2D at 0x16a87b28670>]"
      ]
     },
     "execution_count": 55,
     "metadata": {},
     "output_type": "execute_result"
    },
    {
     "data": {
      "image/png": "[encoded data removed]",
      "text/plain": [
       "<Figure size 640x480 with 1 Axes>"
      ]
     },
     "metadata": {},
     "output_type": "display_data"
    }
   ],
   "source": [
    "x = [0.66,0.69,0.72,0.75,0.78,0.81,0.84,0.87,0.9,0.93,0.96,0.99]\n",
    "q = [0] * len(x)\n",
    "la_cal = [0] * len(x)\n",
    "lb_cal = [0] * len(x)\n",
    "l = 0\n",
    "\n",
    "for i in range(len(x)):\n",
    "        print(x[i],i)\n",
    "        taskset = get_taskset(60, 30,util = x[i])\n",
    "        total_count =0\n",
    "        for j in range(len(taskset)):\n",
    "            task = np.array(taskset[j])\n",
    "            wcet = task[:, 0]\n",
    "            deadlines = task[:, 1]\n",
    "            periods = task[:, 2]\n",
    "            \n",
    "            utilizations = np.sum(wcet/np.minimum(periods, deadlines))\n",
    "            if(utilizations<=1):\n",
    "                continue\n",
    "            else:\n",
    "                #print(\"utilization is greater than 1\")\n",
    "                ht_calculated = True\n",
    "                total_count+=1\n",
    "    \n",
    "\n",
    "            #print(\"utilization : \" + str(utilizations))\n",
    "\n",
    "            q[l] += qpa(task)\n",
    "            la_cal[l] += old_method(task)\n",
    "            #lb_cal[l] += Lb_boudcalculations(task)\n",
    "\n",
    "        q[l]= q[l]/total_count\n",
    "        la_cal[l] = la_cal[l]/total_count\n",
    "        #lb_cal[l] = lb_cal[l]/total_count\n",
    "        print(total_count)\n",
    "        l += 1\n",
    "\n",
    "print(q)\n",
    "#plt.yscale(\"log\")\n",
    "plt.plot(x, q)\n",
    "print(la_cal)\n",
    "plt.plot(x, la_cal)\n"
   ]
  },
  {
   "cell_type": "code",
   "execution_count": 59,
   "metadata": {},
   "outputs": [
    {
     "name": "stdout",
     "output_type": "stream",
     "text": [
      "500 0\n"
     ]
    },
    {
     "name": "stderr",
     "output_type": "stream",
     "text": [
      "C:\\Users\\Rohan\\AppData\\Local\\Temp\\ipykernel_11208\\1387248568.py:8: RuntimeWarning: overflow encountered in double_scalars\n",
      "  while a != b and (((a**2 - b**2) > 0.0000001 or (b**2 - a**2) > 0.0000001)):\n",
      "C:\\Users\\Rohan\\AppData\\Local\\Temp\\ipykernel_11208\\1387248568.py:8: RuntimeWarning: invalid value encountered in double_scalars\n",
      "  while a != b and (((a**2 - b**2) > 0.0000001 or (b**2 - a**2) > 0.0000001)):\n"
     ]
    },
    {
     "name": "stdout",
     "output_type": "stream",
     "text": [
      "60 1.0\n",
      "1000 1\n",
      "60 1.0\n",
      "1500 2\n",
      "60 1.0\n",
      "2000 3\n",
      "60 1.0\n",
      "2500 4\n",
      "60 1.0\n",
      "3000 5\n",
      "60 1.0\n",
      "3500 6\n",
      "60 1.0\n",
      "4000 7\n",
      "60 1.0\n",
      "[1.0, 1.0, 1.0, 1.0, 1.0, 1.0, 1.0, 1.0]\n"
     ]
    },
    {
     "data": {
      "text/plain": [
       "[<matplotlib.lines.Line2D at 0x16a87d852a0>]"
      ]
     },
     "execution_count": 59,
     "metadata": {},
     "output_type": "execute_result"
    },
    {
     "data": {
      "image/png": "[encoded data removed]",
      "text/plain": [
       "<Figure size 640x480 with 1 Axes>"
      ]
     },
     "metadata": {},
     "output_type": "display_data"
    }
   ],
   "source": [
    "x = [500,1000,1500,2000,2500,3000,3500,4000]\n",
    "q = [0] * len(x)\n",
    "la_cal = [0] * len(x)\n",
    "lb_cal = [0] * len(x)\n",
    "l = 0\n",
    "\n",
    "for i in range(len(x)):\n",
    "        print(x[i],i)\n",
    "        taskset = get_taskset(60, 30,t_max=x[i])\n",
    "        total_count =0\n",
    "        for j in range(len(taskset)):\n",
    "            task = np.array(taskset[j])\n",
    "            wcet = task[:, 0]\n",
    "            deadlines = task[:, 1]\n",
    "            periods = task[:, 2]\n",
    "            \n",
    "            utilizations = np.sum(wcet/np.minimum(periods, deadlines))\n",
    "            if(utilizations<=1):\n",
    "                \n",
    "                continue\n",
    "\n",
    "            else:\n",
    "                ht_calculated = True\n",
    "                total_count+=1\n",
    "\n",
    "            #print(\"utilization : \" + str(utilizations))\n",
    "\n",
    "            q[l] += qpa(task)\n",
    "            #print(qpa(task))\n",
    "            la_cal[l] += old_method(task)\n",
    "            lb_cal[l] += Lb_boudcalculations(task)\n",
    "\n",
    "        q[l]= q[l]/total_count\n",
    "        la_cal[l] = la_cal[l]/total_count\n",
    "        print(total_count,q[l],la_cal[l])\n",
    "        l += 1\n",
    "\n",
    "print(q)\n",
    "plt.plot(x, q)\n",
    "plt.plot(x, la_cal)\n"
   ]
  },
  {
   "cell_type": "code",
   "execution_count": 62,
   "metadata": {},
   "outputs": [
    {
     "name": "stdout",
     "output_type": "stream",
     "text": [
      "8 0\n"
     ]
    },
    {
     "name": "stderr",
     "output_type": "stream",
     "text": [
      "C:\\Users\\Rohan\\AppData\\Local\\Temp\\ipykernel_11208\\1387248568.py:8: RuntimeWarning: overflow encountered in double_scalars\n",
      "  while a != b and (((a**2 - b**2) > 0.0000001 or (b**2 - a**2) > 0.0000001)):\n",
      "C:\\Users\\Rohan\\AppData\\Local\\Temp\\ipykernel_11208\\1387248568.py:8: RuntimeWarning: invalid value encountered in double_scalars\n",
      "  while a != b and (((a**2 - b**2) > 0.0000001 or (b**2 - a**2) > 0.0000001)):\n"
     ]
    },
    {
     "name": "stdout",
     "output_type": "stream",
     "text": [
      "59 3.389830508474576 812.6779661016949\n",
      "20 1\n",
      "60 1.0 2323.65\n",
      "30 2\n",
      "60 1.0 3354.116666666667\n",
      "40 3\n",
      "60 1.0 4216.116666666667\n",
      "50 4\n",
      "60 1.0 4884.583333333333\n",
      "60 5\n",
      "60 1.0 6143.783333333334\n",
      "70 6\n",
      "60 1.0 6561.9\n",
      "80 7\n",
      "60 1.0 7607.466666666666\n",
      "[3.389830508474576, 1.0, 1.0, 1.0, 1.0, 1.0, 1.0, 1.0]\n"
     ]
    },
    {
     "data": {
      "text/plain": [
       "[<matplotlib.lines.Line2D at 0x16a87cebf70>]"
      ]
     },
     "execution_count": 62,
     "metadata": {},
     "output_type": "execute_result"
    },
    {
     "data": {
      "image/png": "[encoded data removed]",
      "text/plain": [
       "<Figure size 640x480 with 1 Axes>"
      ]
     },
     "metadata": {},
     "output_type": "display_data"
    }
   ],
   "source": [
    "x = [8, 20, 30, 40, 50, 60, 70, 80]\n",
    "q = [0] * len(x)\n",
    "la_cal = [0] * len(x)\n",
    "lb_cal = [0] * len(x)\n",
    "l = 0\n",
    "\n",
    "for i in range(len(x)):\n",
    "        print(x[i],i)\n",
    "        taskset = get_taskset(60, int(x[i]))\n",
    "        total_count =0\n",
    "        for j in range(len(taskset)):\n",
    "            task = np.array(taskset[j])\n",
    "            wcet = task[:, 0]\n",
    "            deadlines = task[:, 1]\n",
    "            periods = task[:, 2]\n",
    "            \n",
    "            utilizations = np.sum(wcet/np.minimum(periods, deadlines))\n",
    "            if(utilizations<=1):\n",
    "                \n",
    "                continue\n",
    "\n",
    "            else:\n",
    "                ht_calculated = True\n",
    "                total_count+=1\n",
    "\n",
    "            #print(\"utilization : \" + str(utilizations))\n",
    "\n",
    "            q[l] += qpa(task)\n",
    "            #print(qpa(task))\n",
    "            la_cal[l] += old_method(task)\n",
    "            lb_cal[l] += Lb_boudcalculations(task)\n",
    "\n",
    "        q[l]= q[l]/total_count\n",
    "        la_cal[l] = la_cal[l]/total_count\n",
    "        print(total_count,q[l],la_cal[l])\n",
    "        l += 1\n",
    "\n",
    "print(q)\n",
    "plt.plot(x, q)\n",
    "plt.plot(x, la_cal)\n"
   ]
  },
  {
   "cell_type": "code",
   "execution_count": null,
   "metadata": {},
   "outputs": [],
   "source": []
  },
  {
   "cell_type": "code",
   "execution_count": null,
   "metadata": {},
   "outputs": [],
   "source": []
  }
 ],
 "metadata": {
  "kernelspec": {
   "display_name": "Python 3.10.8 64-bit (microsoft store)",
   "language": "python",
   "name": "python3"
  },
  "language_info": {
   "codemirror_mode": {
    "name": "ipython",
    "version": 3
   },
   "file_extension": ".py",
   "mimetype": "text/x-python",
   "name": "python",
   "nbconvert_exporter": "python",
   "pygments_lexer": "ipython3",
   "version": "3.10.8"
  },
  "orig_nbformat": 4,
  "vscode": {
   "interpreter": {
    "hash": "6d9043f4bb3ab81ca65de78db4f8fef12081713bb6e3ecf22fc076e9cdbe6205"
   }
  }
 },
 "nbformat": 4,
 "nbformat_minor": 2
}
