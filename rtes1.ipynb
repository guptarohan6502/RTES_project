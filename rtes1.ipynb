{
 "cells": [
  {
   "cell_type": "code",
   "execution_count": 429,
   "metadata": {},
   "outputs": [],
   "source": [
    "import numpy as np\n",
    "import random\n",
    "import math\n",
    "from matplotlib import pyplot as plt\n",
    "import warnings\n",
    "\n"
   ]
  },
  {
   "cell_type": "code",
   "execution_count": 430,
   "metadata": {},
   "outputs": [],
   "source": [
    "# la bound\n",
    "# lb bound\n",
    "# ht bound\n"
   ]
  },
  {
   "cell_type": "code",
   "execution_count": 431,
   "metadata": {},
   "outputs": [],
   "source": [
    "def gen_deadline(exec_time, period):\n",
    "    # [a,b]\n",
    "    b = 1.2 * period\n",
    "    if(exec_time < 10):\n",
    "        a = exec_time\n",
    "    elif(exec_time < 100 and exec_time >= 10):\n",
    "        a = 2*exec_time\n",
    "    elif(exec_time < 1000 and exec_time >= 100):\n",
    "        a = 3*exec_time\n",
    "    else:\n",
    "        a = 4*exec_time\n",
    "\n",
    "    a = 0.95*period\n",
    "    return a+random.random()*(b-a)\n",
    "\n",
    "\n",
    "def gen_tasksets(utilizations, periods):\n",
    "\n",
    "    def trunc(x, p):\n",
    "        return int(x * 10 ** p) / float(10 ** p)\n",
    "    # [[print(ui) for ui, pi in zip(us, ps)]\n",
    "    #         for us, ps in zip(utilizations, periods)]\n",
    "    return np.array([[[trunc(ui * pi, 6), trunc(pi, 6), trunc(gen_deadline(trunc(ui * pi, 6), trunc(pi, 6)), 6)] for ui, pi in zip(us, ps)]\n",
    "            for us, ps in zip(utilizations, periods)])\n"
   ]
  },
  {
   "cell_type": "code",
   "execution_count": 432,
   "metadata": {},
   "outputs": [],
   "source": [
    "def custom_period(n, nsets,max_,min_=1):\n",
    "\tmax_power = np.log(max_)\n",
    "\tmin_power = np.log(min_)\n",
    "\n",
    "\tintervals = np.arange(min_power,np.floor(max_power)+1)\n",
    "\tintervals = np.append(intervals, max_power)\n",
    "\t#print(intervals)\n",
    "\ttask_pp = ((n-1)//(len(intervals)-1))\n",
    "\t\n",
    "\ttask_lf = np.mod(n-1, len(intervals)-1).astype(int)\n",
    "\t#print(task_lf,task_pp)\n",
    "\tperiods = np.zeros((nsets, n))\n",
    "\tfor i in range(nsets):\n",
    "\t\tfor j in range(len(intervals)-1):\n",
    "\t\t\tif(j<task_lf):\n",
    "\t\t\t\tperiods[i][j*task_pp+j:(j+1)*task_pp+j+1] = np.random.uniform(low=np.exp(intervals[j]), high=np.exp(intervals[j+1]), size=task_pp+1)\n",
    "\t\t\telse:\n",
    "\t\t\t\tperiods[i][j*task_pp+task_lf:(j+1)*task_pp+task_lf] = np.random.uniform(low=np.exp(intervals[j]), high=np.exp(intervals[j+1]), size=task_pp)\n",
    "\tperiods[0:nsets,-1] =max_ \n",
    "\treturn periods\n"
   ]
  },
  {
   "cell_type": "code",
   "execution_count": 433,
   "metadata": {},
   "outputs": [
    {
     "data": {
      "text/plain": [
       "array([[  1.35851413,   1.99105833,   1.91802843,   7.23229697,\n",
       "          5.03008026,   3.85486449,  17.32435089,  10.61915227,\n",
       "         16.87077838,  21.98887804,  24.19550484,  60.00389152,\n",
       "         71.67017393, 100.        ],\n",
       "       [  2.16284632,   1.2227512 ,   1.19248731,   4.30970537,\n",
       "          2.90553477,   6.89392452,  10.39896112,   8.11345499,\n",
       "          7.95783634,  25.66998064,  20.90096872,  72.37218553,\n",
       "         87.21329277, 100.        ]])"
      ]
     },
     "execution_count": 433,
     "metadata": {},
     "output_type": "execute_result"
    }
   ],
   "source": [
    "custom_period(14,2,100)"
   ]
  },
  {
   "cell_type": "code",
   "execution_count": 434,
   "metadata": {},
   "outputs": [],
   "source": [
    "def UUniFastDiscard(n, u, nsets):\n",
    "    sets = []\n",
    "    while len(sets) < nsets:\n",
    "        # Classic UUniFast algorithm:\n",
    "        utilizations = []\n",
    "        sumU = u\n",
    "        for i in range(1, n):\n",
    "            nextSumU = sumU * random.random() ** (1.0 / (n - i))\n",
    "            utilizations.append(sumU - nextSumU)\n",
    "            sumU = nextSumU\n",
    "        utilizations.append(sumU)\n",
    "\n",
    "        # If no task utilization exceeds 1:\n",
    "        if all(ut <= 1 for ut in utilizations):\n",
    "            sets.append(utilizations)\n",
    "\n",
    "    return sets\n",
    "\n",
    "    \n",
    "def gen_uunifastdiscard(nsets, u, n):\n",
    "    return UUniFastDiscard(n, u, nsets)"
   ]
  },
  {
   "cell_type": "code",
   "execution_count": 435,
   "metadata": {},
   "outputs": [],
   "source": [
    "def get_taskset(nsets, n,t_max = 1000,util =0.9):\n",
    "\t#n = 1000\n",
    "\tutilizations = gen_uunifastdiscard(nsets, util, n)\n",
    "\tperiods = custom_period(n, nsets, t_max, 1)\n",
    "\treturn gen_tasksets(utilizations, periods)\n",
    "\n",
    "\t"
   ]
  },
  {
   "cell_type": "code",
   "execution_count": 436,
   "metadata": {},
   "outputs": [
    {
     "data": {
      "text/plain": [
       "array([[[3.07810000e-01, 2.26339600e+00, 2.25438700e+00],\n",
       "        [8.45154000e-01, 5.81060400e+00, 5.55880800e+00],\n",
       "        [3.13706400e+00, 1.80168530e+01, 1.79864190e+01],\n",
       "        [4.40664600e+00, 2.12754740e+01, 2.18434080e+01],\n",
       "        [5.71756800e+00, 1.43730199e+02, 1.63983110e+02],\n",
       "        [3.94601000e-01, 3.00267324e+02, 3.50549476e+02],\n",
       "        [1.05510271e+02, 8.66402162e+02, 8.69006901e+02],\n",
       "        [7.44390430e+01, 1.00000000e+03, 1.03732985e+03]]])"
      ]
     },
     "execution_count": 436,
     "metadata": {},
     "output_type": "execute_result"
    }
   ],
   "source": [
    "taskset = get_taskset(1, 8)\n",
    "taskset"
   ]
  },
  {
   "cell_type": "code",
   "execution_count": 437,
   "metadata": {},
   "outputs": [
    {
     "data": {
      "text/plain": [
       "array([[3.07810000e-01, 2.26339600e+00, 2.25438700e+00],\n",
       "       [8.45154000e-01, 5.81060400e+00, 5.55880800e+00],\n",
       "       [3.13706400e+00, 1.80168530e+01, 1.79864190e+01],\n",
       "       [4.40664600e+00, 2.12754740e+01, 2.18434080e+01],\n",
       "       [5.71756800e+00, 1.43730199e+02, 1.63983110e+02],\n",
       "       [3.94601000e-01, 3.00267324e+02, 3.50549476e+02],\n",
       "       [1.05510271e+02, 8.66402162e+02, 8.69006901e+02],\n",
       "       [7.44390430e+01, 1.00000000e+03, 1.03732985e+03]])"
      ]
     },
     "execution_count": 437,
     "metadata": {},
     "output_type": "execute_result"
    }
   ],
   "source": [
    "taskset[0]"
   ]
  },
  {
   "cell_type": "markdown",
   "metadata": {},
   "source": []
  },
  {
   "cell_type": "code",
   "execution_count": 438,
   "metadata": {},
   "outputs": [],
   "source": [
    "taskset_paper = np.array([[6000, 18000, 31000], [2000, 9000, 9800], [1000, 12000, 17000], [\n",
    "                         90, 3000, 4200], [8, 78, 96], [2, 16, 12], [10, 120, 280], [26, 160, 660]])\n"
   ]
  },
  {
   "cell_type": "code",
   "execution_count": 439,
   "metadata": {},
   "outputs": [],
   "source": [
    "def procDemand_func(taskset,t):\n",
    "    deadlines = taskset[:,1]\n",
    "    periods = taskset[:,2]\n",
    "    wcet = taskset[:,0]\n",
    "\n",
    "    h_t = np.sum(np.maximum(0, 1 + np.floor((t-deadlines)/(periods)))*wcet)\n",
    "\n",
    "    return h_t"
   ]
  },
  {
   "cell_type": "code",
   "execution_count": 440,
   "metadata": {},
   "outputs": [
    {
     "name": "stdout",
     "output_type": "stream",
     "text": [
      "8890.0\n"
     ]
    }
   ],
   "source": [
    "t = 16974\n",
    "ht = procDemand_func(taskset_paper, t)\n",
    "print(ht)"
   ]
  },
  {
   "cell_type": "code",
   "execution_count": 441,
   "metadata": {},
   "outputs": [
    {
     "name": "stdout",
     "output_type": "stream",
     "text": [
      "[[[3.07810000e-01 2.26339600e+00 2.25438700e+00]\n",
      "  [8.45154000e-01 5.81060400e+00 5.55880800e+00]\n",
      "  [3.13706400e+00 1.80168530e+01 1.79864190e+01]\n",
      "  [4.40664600e+00 2.12754740e+01 2.18434080e+01]\n",
      "  [5.71756800e+00 1.43730199e+02 1.63983110e+02]\n",
      "  [3.94601000e-01 3.00267324e+02 3.50549476e+02]\n",
      "  [1.05510271e+02 8.66402162e+02 8.69006901e+02]\n",
      "  [7.44390430e+01 1.00000000e+03 1.03732985e+03]]]\n"
     ]
    }
   ],
   "source": [
    "print(taskset)"
   ]
  },
  {
   "cell_type": "code",
   "execution_count": 442,
   "metadata": {},
   "outputs": [],
   "source": [
    "taskset_paper = np.array([[6000, 18000, 31000], [2000, 9000, 9800], [1000, 12000, 17000], [90, 3000, 4200], [8, 78, 96], [2, 16, 12], [10, 120, 280], [26, 160, 660]])"
   ]
  },
  {
   "cell_type": "code",
   "execution_count": 443,
   "metadata": {},
   "outputs": [],
   "source": [
    "def La_bound(taskset):\n",
    "\t\"\"\"\n",
    "\tCompute La calculations for the La bound\n",
    "\t\n",
    "\t\"\"\"\n",
    "\twcet = taskset[:,0]\n",
    "\tdeadlines = taskset[:,1]\n",
    "\tperiods = taskset[:,2]\n",
    "\tutilizations = wcet/periods\n",
    "\ttotal_utilization = np.sum(utilizations)\n",
    "\tLa = np.maximum(np.max(deadlines),np.sum((periods-deadlines)*utilizations)/(1-total_utilization))\n",
    "\treturn La\n"
   ]
  },
  {
   "cell_type": "code",
   "execution_count": 444,
   "metadata": {},
   "outputs": [
    {
     "name": "stdout",
     "output_type": "stream",
     "text": [
      "1.071782\n"
     ]
    }
   ],
   "source": [
    "taskset = get_taskset(1, 25)\n",
    "la = La_bound(taskset)\n",
    "print(la)"
   ]
  },
  {
   "cell_type": "code",
   "execution_count": 445,
   "metadata": {},
   "outputs": [
    {
     "name": "stdout",
     "output_type": "stream",
     "text": [
      "18000.0\n"
     ]
    }
   ],
   "source": [
    "La = La_bound(taskset_paper)\n",
    "taskset_paper[:,0]/taskset_paper[:,1]\n",
    "print(La)"
   ]
  },
  {
   "cell_type": "code",
   "execution_count": 446,
   "metadata": {},
   "outputs": [],
   "source": [
    "def Lb_bound(taskset):\n",
    "    wcet = taskset[:,0]\n",
    "    deadlines = taskset[:,1]\n",
    "    periods = taskset[:,2]\n",
    "    w0 = np.sum(wcet)\n",
    "    a = w0\n",
    "    b = np.sum(np.ceil(np.round((a/periods), 1)*wcet))\n",
    "    while a != b and (((a**2 - b**2) > 0.0000001 or (b**2 - a**2) > 0.0000001)):\n",
    "        #if (a**2 - b**2 > 0 and (np.sqrt(a**2 - b**2) > 0.0001)) or (a**2 - b**2 < 0 and (np.sqrt(b**2 - a**2) > 0.0001)):\n",
    "        a = b\n",
    "        b = np.round(np.sum(np.ceil(a/periods)*wcet), 1)\n",
    "        \n",
    "    Lb = b\n",
    "    \n",
    "    return Lb"
   ]
  },
  {
   "cell_type": "code",
   "execution_count": 447,
   "metadata": {},
   "outputs": [
    {
     "name": "stdout",
     "output_type": "stream",
     "text": [
      "16984.0\n"
     ]
    }
   ],
   "source": [
    "Lb = Lb_bound(taskset_paper)\n",
    "print(Lb)"
   ]
  },
  {
   "cell_type": "code",
   "execution_count": 448,
   "metadata": {},
   "outputs": [
    {
     "name": "stdout",
     "output_type": "stream",
     "text": [
      "16\n"
     ]
    }
   ],
   "source": [
    "deadlines = taskset_paper[:, 1]\n",
    "d_min = np.min(deadlines)\n",
    "print(d_min)"
   ]
  },
  {
   "cell_type": "code",
   "execution_count": 449,
   "metadata": {},
   "outputs": [],
   "source": [
    "def get_dmin(deadliness, L):\n",
    "    return np.min(deadliness)\n",
    "    \n",
    "    "
   ]
  },
  {
   "cell_type": "code",
   "execution_count": 450,
   "metadata": {},
   "outputs": [
    {
     "name": "stdout",
     "output_type": "stream",
     "text": [
      "16\n"
     ]
    }
   ],
   "source": [
    "deadlines = taskset_paper[:, 1]\n",
    "L = np.minimum(La, Lb)\n",
    "d_min = get_dmin(deadlines, L)\n",
    "print(d_min)\n"
   ]
  },
  {
   "cell_type": "code",
   "execution_count": 451,
   "metadata": {},
   "outputs": [
    {
     "data": {
      "text/plain": [
       "(8, 3)"
      ]
     },
     "execution_count": 451,
     "metadata": {},
     "output_type": "execute_result"
    }
   ],
   "source": [
    "taskset_paper.shape"
   ]
  },
  {
   "cell_type": "code",
   "execution_count": 452,
   "metadata": {},
   "outputs": [],
   "source": [
    "def get_max_abs_deadline(taskset, L):\n",
    "    n = taskset.shape[0]\n",
    "    abs_deadlines = []\n",
    "    \n",
    "    for i in range(n):\n",
    "        p = 0\n",
    "        j = 0\n",
    "        Ti = taskset[i][2]\n",
    "        Di = taskset[i][1]\n",
    "        while p < L:\n",
    "            j += 1\n",
    "            q = p\n",
    "            p = j*Ti + Di\n",
    "            \n",
    "        abs_deadlines.append(q)\n",
    "    return np.max(abs_deadlines)\n",
    "    "
   ]
  },
  {
   "cell_type": "code",
   "execution_count": 453,
   "metadata": {},
   "outputs": [
    {
     "name": "stdout",
     "output_type": "stream",
     "text": [
      "16974\n"
     ]
    }
   ],
   "source": [
    "L = 16984\n",
    "t = get_max_abs_deadline(taskset_paper, L)\n",
    "\n",
    "print(t)"
   ]
  },
  {
   "cell_type": "code",
   "execution_count": 454,
   "metadata": {},
   "outputs": [],
   "source": [
    "def get_max_di(taskset, t):\n",
    "    n = taskset.shape[0]\n",
    "    d_max = 0\n",
    "    \n",
    "    for j in range(n):\n",
    "        if taskset[j][1] < t:\n",
    "            d = np.floor((t - taskset[j][1])/taskset[j][2])*taskset[j][2] + taskset[j][1]\n",
    "            if d == t:\n",
    "                d = d - taskset[j][2]\n",
    "            if d > d_max:\n",
    "                d_max = d\n",
    "                \n",
    "    return d_max\n",
    "    \n",
    "    "
   ]
  },
  {
   "cell_type": "code",
   "execution_count": 455,
   "metadata": {},
   "outputs": [],
   "source": [
    "def La_starbound(taskset):\n",
    "\t\"\"\"\n",
    "\tCompute La calculations for the La bound\n",
    "\t\n",
    "\t\"\"\"\n",
    "\twcet = taskset[:, 0]\n",
    "\tdeadlines = taskset[:, 1]\n",
    "\tperiods = taskset[:, 2]\n",
    "\tutilizations = wcet/periods\n",
    "\t#print(\"deadlines\", deadlines, \"periods\", periods, \"utilizations\", utilizations)\n",
    "\t#print(deadlines, periods, utilizations)\n",
    "\ttotal_utilization = np.sum(utilizations)\n",
    "\t#print(\"total utilization : \" + str(total_utilization))\n",
    "\t# print(np.sum((periods-deadlines)*utilizations)/(1-total_utilization))\n",
    "\t#La = np.maximum(np.max(deadlines),np.max((periods-deadlines))*(total_utilization/(1-total_utilization)))\n",
    "\tprint(np.max(deadlines))\n",
    "\tLa = np.maximum(np.max(deadlines-periods),\n",
    "\t                np.sum((periods-deadlines)*utilizations)/(1-total_utilization))\n",
    "\treturn La\n"
   ]
  },
  {
   "cell_type": "code",
   "execution_count": 456,
   "metadata": {},
   "outputs": [],
   "source": [
    "def La_starcalculations(taskset):\n",
    "\tLa_star = La_starbound(taskset)\n",
    "\twcet = taskset[:, 0]\n",
    "\tdeadlines = taskset[:, 1]\n",
    "\tperiods = taskset[:, 2]\n",
    "\ttot_abs_deadlines = 0\n",
    "\tfor job in taskset:\n",
    "\t\tjob_abs_deadline = 0\n",
    "\t\tif (job[1] <= job[2]):\n",
    "\t\t\tjob_abs_deadline = np.floor((La_star)/job[2])\n",
    "\t\t\tif (job_abs_deadline*job[2]+job[1] <= La):\n",
    "\t\t\t\tjob_abs_deadline = job_abs_deadline+1\n",
    "\t\telse:\n",
    "\t\t\tjob_abs_deadline = np.floor((La_star)/job[2])\n",
    "\t\ttot_abs_deadlines += job_abs_deadline\n",
    "\t\tprint(job_abs_deadline, job[1], job[2])\n",
    "\treturn tot_abs_deadlines\n"
   ]
  },
  {
   "cell_type": "code",
   "execution_count": 457,
   "metadata": {},
   "outputs": [],
   "source": [
    "def La_boudcalculations(taskset):\n",
    "\tLa = La_bound(taskset)\n",
    "\t#print(\"La : \" + str(La))\n",
    "\twcet = taskset[:, 0]\n",
    "\tdeadlines = taskset[:, 1]\n",
    "\tperiods = taskset[:, 2]\n",
    "\ttot_abs_deadlines = 0\n",
    "\tfor job in taskset:\n",
    "\t\tjob_abs_deadline = 0\n",
    "\t\tif (job[1] <= job[2]):\n",
    "\t\t\tjob_abs_deadline = np.floor((La)/job[2])\n",
    "\t\t\tif (job_abs_deadline*job[2]+job[1] <= La):\n",
    "\t\t\t\tjob_abs_deadline = job_abs_deadline+1\n",
    "\t\telse:\n",
    "\t\t\tjob_abs_deadline = np.floor((La)/job[1])\n",
    "\t\ttot_abs_deadlines += job_abs_deadline\n",
    "\t\t#print(job_abs_deadline, job[1], job[2])\n",
    "\treturn tot_abs_deadlines\n"
   ]
  },
  {
   "cell_type": "code",
   "execution_count": 458,
   "metadata": {},
   "outputs": [],
   "source": [
    "def Lb_boudcalculations(taskset):\n",
    "\tLb = Lb_bound(taskset)\n",
    "\twcet = taskset[:, 0]\n",
    "\tdeadlines = taskset[:, 1]\n",
    "\tperiods = taskset[:, 2]\n",
    "\ttot_abs_deadlines = 0\n",
    "\t#print(Lb)\n",
    "\tfor job in taskset:\n",
    "\t\tjob_abs_deadline = 0\n",
    "\t\tif (job[1] <= job[2]):\n",
    "\t\t\tjob_abs_deadline = np.floor((Lb)/job[2])\n",
    "\t\t\tif (job_abs_deadline*job[2]+job[1] <= La):\n",
    "\t\t\t\tjob_abs_deadline = job_abs_deadline+1\n",
    "\t\telse:\n",
    "\t\t\tjob_abs_deadline = np.floor((Lb)/job[2])\n",
    "\t\ttot_abs_deadlines += job_abs_deadline\n",
    "\t\t#print(job_abs_deadline, job[1], job[2])\n",
    "\treturn tot_abs_deadlines\n"
   ]
  },
  {
   "cell_type": "code",
   "execution_count": 459,
   "metadata": {},
   "outputs": [
    {
     "name": "stdout",
     "output_type": "stream",
     "text": [
      "t : 17992\n",
      "h(t) : 9222.0\n",
      "--t : 17992\n",
      "--h(t) : 9222.0\n",
      "--t : 9222.0\n",
      "--h(t) : 5178.0\n",
      "--t : 5178.0\n",
      "--h(t) : 1782.0\n",
      "--t : 1782.0\n",
      "--h(t) : 578.0\n",
      "--t : 578.0\n",
      "--h(t) : 188.0\n",
      "--t : 188.0\n",
      "--h(t) : 82.0\n",
      "--t : 82.0\n",
      "--h(t) : 20.0\n",
      "--t : 20.0\n",
      "--h(t) : 2.0\n"
     ]
    },
    {
     "data": {
      "text/plain": [
       "9"
      ]
     },
     "execution_count": 459,
     "metadata": {},
     "output_type": "execute_result"
    }
   ],
   "source": [
    "qpa(taskset_paper)"
   ]
  },
  {
   "cell_type": "code",
   "execution_count": 460,
   "metadata": {},
   "outputs": [],
   "source": [
    "taskset_paper = np.array([[6000,18000,31000],[2000,9000,9800],[1000,12000,17000],[90,3000,4200],[8,78,96],[2,16,12],[10,120,280],[26,160,660]])"
   ]
  },
  {
   "cell_type": "code",
   "execution_count": 461,
   "metadata": {},
   "outputs": [
    {
     "name": "stdout",
     "output_type": "stream",
     "text": [
      "t : 999.340634\n",
      "h(t) : 743.6942300000001\n",
      "--t : 999.340634\n",
      "--h(t) : 743.6942300000001\n",
      "--t : 743.6942300000001\n",
      "--h(t) : 552.7816819999999\n",
      "--t : 552.7816819999999\n",
      "--h(t) : 409.80878600000005\n",
      "--t : 409.80878600000005\n",
      "--h(t) : 302.93479099999996\n",
      "--t : 302.93479099999996\n",
      "--h(t) : 223.677001\n",
      "--t : 223.677001\n",
      "--h(t) : 165.528354\n",
      "--t : 165.528354\n",
      "--h(t) : 121.58376899999999\n",
      "--t : 121.58376899999999\n",
      "--h(t) : 89.008287\n",
      "--t : 89.008287\n",
      "--h(t) : 65.185028\n",
      "--t : 65.185028\n",
      "--h(t) : 46.837215\n",
      "--t : 46.837215\n",
      "--h(t) : 32.78806\n",
      "--t : 32.78806\n",
      "--h(t) : 23.013956\n",
      "--t : 23.013956\n",
      "--h(t) : 15.519077\n"
     ]
    },
    {
     "data": {
      "text/plain": [
       "14"
      ]
     },
     "execution_count": 461,
     "metadata": {},
     "output_type": "execute_result"
    }
   ],
   "source": [
    "taskset = get_taskset(1, 5)\n",
    "#taskset\n",
    "taskset = np.array(taskset[0])\n",
    "qpa(taskset)\n"
   ]
  },
  {
   "cell_type": "code",
   "execution_count": 462,
   "metadata": {},
   "outputs": [
    {
     "name": "stdout",
     "output_type": "stream",
     "text": [
      "2\n",
      "t : 998.5062069999999\n",
      "h(t) : 490.87665000000004\n",
      "--t : 998.5062069999999\n",
      "--h(t) : 490.87665000000004\n",
      "--t : 490.87665000000004\n",
      "--h(t) : 240.97581000000002\n",
      "--t : 240.97581000000002\n",
      "--h(t) : 118.00873\n",
      "--t : 118.00873\n",
      "--h(t) : 57.51686\n",
      "--t : 57.51686\n",
      "--h(t) : 27.76676\n",
      "--t : 27.76676\n",
      "--h(t) : 12.89171\n",
      "9\n",
      "t : 999.83365\n",
      "h(t) : 478.808257\n",
      "--t : 999.83365\n",
      "--h(t) : 478.808257\n",
      "--t : 478.808257\n",
      "--h(t) : 196.003874\n",
      "--t : 196.003874\n",
      "--h(t) : 55.779315\n",
      "--t : 55.779315\n",
      "--h(t) : 12.796619\n"
     ]
    }
   ],
   "source": [
    "x = [2, 9]\n",
    "# x.append(np.random.randint(1, 100))\n",
    "# print(x)\n",
    "\n",
    "qpa_y = []\n",
    "for i in x:\n",
    "\tprint(i)\n",
    "\ttaskset = get_taskset(1, int(i))\n",
    "\tqpa_y.append(qpa(taskset[0]))\n"
   ]
  },
  {
   "cell_type": "code",
   "execution_count": 463,
   "metadata": {},
   "outputs": [],
   "source": [
    "def qpa(taskset):\n",
    "\n",
    "    La = La_bound(taskset)\n",
    "    #print(\"La : \" + str(La))\n",
    "    #Lb = Lb_bound(taskset)\n",
    "    #print(\"Lb : \" + str(Lb))\n",
    "    L = La#np.minimum(La, Lb)\n",
    "    #print(\"L : \" + str(L))\n",
    "\n",
    "    t = get_max_abs_deadline(taskset, L)\n",
    "    #print(\"t : \" + str(t))\n",
    "    h_t = procDemand_func(taskset, t)\n",
    "    #print(\"h(t) : \" + str(h_t))\n",
    "    d_min = get_dmin(taskset[:,1], L)\n",
    "\n",
    "\n",
    "    total_cal = 1\n",
    "\n",
    "    while h_t <= t and h_t > d_min:\n",
    "        h_t = procDemand_func(taskset, t)\n",
    "        total_cal += 1\n",
    "\n",
    "        #print(\"--t : \" + str(t))\n",
    "        #print(\"--h(t) : \" + str(h_t))\n",
    "        if h_t < t:\n",
    "            t = h_t\n",
    "        else:\n",
    "            d_max = get_max_di(taskset, t)\n",
    "            t = d_max\n",
    "\n",
    "    if h_t <= d_min:\n",
    "        #print(\"Task set is schedulable\")\n",
    "        #print(\"total calculations : \" + str(total_cal))\n",
    "        return total_cal\n",
    "    else:\n",
    "        print(\"Task set is not schedulable\")\n",
    "        #print(\"total calculations : \" + str(total_cal))\n",
    "        return total_cal\n"
   ]
  },
  {
   "cell_type": "code",
   "execution_count": 469,
   "metadata": {},
   "outputs": [
    {
     "name": "stdout",
     "output_type": "stream",
     "text": [
      "10 0\n",
      "6000\n",
      "20 1\n",
      "6000\n",
      "40 2\n",
      "6000\n",
      "80 3\n",
      "6000\n",
      "160 4\n",
      "6000\n",
      "320 5\n",
      "6000\n",
      "640 6\n",
      "6000\n",
      "1280 7\n",
      "6000\n",
      "[11.685333333333332, 11.7845, 11.691333333333333, 11.6005, 11.6385, 11.653666666666666, 11.670833333333333, 11.747]\n"
     ]
    },
    {
     "data": {
      "text/plain": [
       "[<matplotlib.lines.Line2D at 0x1b304d22310>]"
      ]
     },
     "execution_count": 469,
     "metadata": {},
     "output_type": "execute_result"
    },
    {
     "data": {
      "image/png": "[encoded data removed]",
      "text/plain": [
       "<Figure size 432x288 with 1 Axes>"
      ]
     },
     "metadata": {
      "needs_background": "light"
     },
     "output_type": "display_data"
    }
   ],
   "source": [
    "x = [10, 20, 40, 80, 160, 320, 640, 1280]\n",
    "q = [0] * len(x)\n",
    "la_cal = [0] * len(x)\n",
    "lb_cal = [0] * len(x)\n",
    "l = 0\n",
    "\n",
    "for i in range(len(x)):\n",
    "        print(x[i],i)\n",
    "        taskset = get_taskset(6000, int(x[i]))\n",
    "        total_count =0\n",
    "        for j in range(len(taskset)):\n",
    "            task = np.array(taskset[j])\n",
    "            wcet = task[:, 0]\n",
    "            deadlines = task[:, 1]\n",
    "            periods = task[:, 2]\n",
    "            \n",
    "            utilizations = np.sum(wcet/np.minimum(periods, deadlines))\n",
    "            if(utilizations<=1):\n",
    "                ht_calculated = True\n",
    "                total_count+=1\n",
    "            else:\n",
    "                #print(\"utilization is greater than 1\")\n",
    "                continue\n",
    "\n",
    "            #print(\"utilization : \" + str(utilizations))\n",
    "\n",
    "            q[l] += qpa(task)\n",
    "            la_cal[l] += La_boudcalculations(task)\n",
    "            lb_cal[l] += Lb_boudcalculations(task)\n",
    "\n",
    "        q[l]= q[l]/total_count\n",
    "        la_cal[l] = la_cal[l]/total_count\n",
    "        lb_cal[l] = lb_cal[l]/total_count\n",
    "        print(total_count)\n",
    "        l += 1\n",
    "\n",
    "print(q)\n",
    "plt.plot(x, q)\n",
    "plt.plot(x, la_cal)\n",
    "plt.plot(x, lb_cal)\n"
   ]
  },
  {
   "cell_type": "code",
   "execution_count": null,
   "metadata": {},
   "outputs": [
    {
     "data": {
      "text/plain": [
       "[<matplotlib.lines.Line2D at 0x1b3489a9e50>]"
      ]
     },
     "execution_count": 39,
     "metadata": {},
     "output_type": "execute_result"
    },
    {
     "data": {
      "image/png": "[encoded data removed]",
      "text/plain": [
       "<Figure size 432x288 with 1 Axes>"
      ]
     },
     "metadata": {
      "needs_background": "light"
     },
     "output_type": "display_data"
    }
   ],
   "source": [
    "plt.yscale(\"log\")\n",
    "plt.plot(x, q)\n",
    "plt.plot(x, la_cal)\n",
    "plt.plot(x, lb_cal)\n"
   ]
  },
  {
   "cell_type": "code",
   "execution_count": 470,
   "metadata": {},
   "outputs": [
    {
     "name": "stdout",
     "output_type": "stream",
     "text": [
      "[11.685333333333332, 11.7845, 11.691333333333333, 11.6005, 11.6385, 11.653666666666666, 11.670833333333333, 11.747]\n",
      "[1590.9701666666667, 2554.762833333333, 5092.323833333333, 10117.352333333334, 19581.130833333333, 39173.74183333333, 78251.91666666667, 155948.6765]\n",
      "[776.8085, 1114.7641666666666, 2243.455, 4508.888333333333, 8661.123833333333, 17436.305166666665, 35445.19616666667, 70327.07516666666]\n"
     ]
    }
   ],
   "source": [
    "print(q)\n",
    "print(la_cal)\n",
    "print(lb_cal)"
   ]
  },
  {
   "cell_type": "code",
   "execution_count": 467,
   "metadata": {},
   "outputs": [
    {
     "name": "stdout",
     "output_type": "stream",
     "text": [
      "10 0\n",
      "300\n",
      "100 1\n",
      "300\n",
      "1000 2\n",
      "300\n",
      "10000 3\n",
      "300\n",
      "100000 4\n",
      "300\n",
      "1000000 5\n",
      "300\n",
      "[4.133333333333334, 7.506666666666667, 11.273333333333333, 13.716666666666667, 19.02, 21.816666666666666]\n"
     ]
    },
    {
     "data": {
      "text/plain": [
       "[<matplotlib.lines.Line2D at 0x1b345793f70>]"
      ]
     },
     "execution_count": 467,
     "metadata": {},
     "output_type": "execute_result"
    },
    {
     "data": {
      "image/png": "[encoded data removed]",
      "text/plain": [
       "<Figure size 432x288 with 1 Axes>"
      ]
     },
     "metadata": {
      "needs_background": "light"
     },
     "output_type": "display_data"
    }
   ],
   "source": [
    "x = [1, 2, 3, 4, 5, 6]\n",
    "q = [0] * len(x)\n",
    "la_cal = [0] * len(x)\n",
    "lb_cal = [0] * len(x)\n",
    "l = 0\n",
    "\n",
    "for i in range(len(x)):\n",
    "        print(10**x[i],i)\n",
    "        taskset = get_taskset(300, 30,t_max=10**x[i])\n",
    "        total_count =0\n",
    "        for j in range(len(taskset)):\n",
    "            task = np.array(taskset[j])\n",
    "            wcet = task[:, 0]\n",
    "            deadlines = task[:, 1]\n",
    "            periods = task[:, 2]\n",
    "            \n",
    "            utilizations = np.sum(wcet/np.minimum(periods, deadlines))\n",
    "            if(utilizations<=1):\n",
    "                ht_calculated = True\n",
    "                total_count+=1\n",
    "            else:\n",
    "                #print(\"utilization is greater than 1\")\n",
    "                continue\n",
    "\n",
    "            #print(\"utilization : \" + str(utilizations))\n",
    "\n",
    "            q[l] += qpa(task)\n",
    "            #print(qpa(task))\n",
    "            la_cal[l] += La_boudcalculations(task)\n",
    "            lb_cal[l] += Lb_boudcalculations(task)\n",
    "\n",
    "        q[l]= q[l]/total_count\n",
    "        la_cal[l] = la_cal[l]/total_count\n",
    "        lb_cal[l] = lb_cal[l]/total_count\n",
    "        print(total_count)\n",
    "        l += 1\n",
    "\n",
    "print(q)\n",
    "plt.yscale(\"log\")\n",
    "plt.plot(x, q)\n",
    "plt.plot(x, la_cal)\n",
    "plt.plot(x, lb_cal)\n"
   ]
  },
  {
   "cell_type": "code",
   "execution_count": 468,
   "metadata": {},
   "outputs": [
    {
     "data": {
      "text/plain": [
       "[<matplotlib.lines.Line2D at 0x1b30435f0a0>]"
      ]
     },
     "execution_count": 468,
     "metadata": {},
     "output_type": "execute_result"
    },
    {
     "data": {
      "image/png": "[encoded data removed]",
      "text/plain": [
       "<Figure size 432x288 with 1 Axes>"
      ]
     },
     "metadata": {
      "needs_background": "light"
     },
     "output_type": "display_data"
    }
   ],
   "source": [
    "plt.yscale(\"log\")\n",
    "plt.plot(x, q)\n",
    "plt.plot(x, la_cal)\n",
    "plt.plot(x, lb_cal)\n"
   ]
  },
  {
   "cell_type": "code",
   "execution_count": null,
   "metadata": {},
   "outputs": [
    {
     "name": "stdout",
     "output_type": "stream",
     "text": [
      "0.66 0\n",
      "6000\n",
      "0.69 1\n",
      "6000\n",
      "0.72 2\n",
      "6000\n",
      "0.75 3\n",
      "6000\n",
      "0.78 4\n",
      "6000\n",
      "0.81 5\n",
      "6000\n",
      "0.84 6\n",
      "6000\n",
      "0.87 7\n",
      "6000\n",
      "0.9 8\n",
      "6000\n",
      "0.93 9\n",
      "6000\n",
      "0.96 10\n",
      "6000\n",
      "0.99 11\n",
      "5561\n",
      "[5.461666666666667, 5.758166666666667, 6.050333333333334, 6.3785, 6.706666666666667, 7.105, 7.511333333333333, 7.9975, 8.540166666666666, 9.1955, 9.948, 10.736198525445063]\n"
     ]
    },
    {
     "data": {
      "text/plain": [
       "[<matplotlib.lines.Line2D at 0x1b301cc4e80>]"
      ]
     },
     "execution_count": 197,
     "metadata": {},
     "output_type": "execute_result"
    },
    {
     "data": {
      "image/png": "[encoded data removed]",
      "text/plain": [
       "<Figure size 432x288 with 1 Axes>"
      ]
     },
     "metadata": {
      "needs_background": "light"
     },
     "output_type": "display_data"
    }
   ],
   "source": [
    "x = [0.66,0.69,0.72,0.75,0.78,0.81,0.84,0.87,0.9,0.93,0.96,0.99]\n",
    "q = [0] * len(x)\n",
    "la_cal = [0] * len(x)\n",
    "lb_cal = [0] * len(x)\n",
    "l = 0\n",
    "\n",
    "for i in range(len(x)):\n",
    "        print(x[i],i)\n",
    "        taskset = get_taskset(6000, 30,util = x[i])\n",
    "        total_count =0\n",
    "        for j in range(len(taskset)):\n",
    "            task = np.array(taskset[j])\n",
    "            wcet = task[:, 0]\n",
    "            deadlines = task[:, 1]\n",
    "            periods = task[:, 2]\n",
    "            \n",
    "            utilizations = np.sum(wcet/np.minimum(periods, deadlines))\n",
    "            if(utilizations<=1):\n",
    "                ht_calculated = True\n",
    "                total_count+=1\n",
    "            else:\n",
    "                #print(\"utilization is greater than 1\")\n",
    "                continue\n",
    "\n",
    "            #print(\"utilization : \" + str(utilizations))\n",
    "\n",
    "            q[l] += qpa(task)\n",
    "            la_cal[l] += La_boudcalculations(task)\n",
    "            lb_cal[l] += Lb_boudcalculations(task)\n",
    "\n",
    "        q[l]= q[l]/total_count\n",
    "        la_cal[l] = la_cal[l]/total_count\n",
    "        lb_cal[l] = lb_cal[l]/total_count\n",
    "        print(total_count)\n",
    "        l += 1\n",
    "\n",
    "print(q)\n",
    "plt.yscale(\"log\")\n",
    "plt.plot(x, q)\n",
    "plt.plot(x, la_cal)\n",
    "plt.plot(x, lb_cal)"
   ]
  },
  {
   "cell_type": "markdown",
   "metadata": {},
   "source": [
    "## Max of Di/Ti"
   ]
  },
  {
   "cell_type": "code",
   "execution_count": null,
   "metadata": {},
   "outputs": [],
   "source": []
  }
 ],
 "metadata": {
  "kernelspec": {
   "display_name": "Python 3.8.10 64-bit (microsoft store)",
   "language": "python",
   "name": "python3"
  },
  "language_info": {
   "codemirror_mode": {
    "name": "ipython",
    "version": 3
   },
   "file_extension": ".py",
   "mimetype": "text/x-python",
   "name": "python",
   "nbconvert_exporter": "python",
   "pygments_lexer": "ipython3",
   "version": "3.8.10"
  },
  "orig_nbformat": 4,
  "vscode": {
   "interpreter": {
    "hash": "246f0eae839979196b7d9baf64863811d7b9b6e56671f5ac94a2d5989b2eea4d"
   }
  }
 },
 "nbformat": 4,
 "nbformat_minor": 2
}
