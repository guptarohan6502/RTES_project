{
 "cells": [
  {
   "cell_type": "code",
   "execution_count": 876,
   "metadata": {},
   "outputs": [],
   "source": [
    "import numpy as np\n",
    "import random\n",
    "import math\n",
    "from matplotlib import pyplot as plt\n",
    "import warnings\n",
    "\n",
    "warnings.filterwarnings('ignore')\n"
   ]
  },
  {
   "cell_type": "code",
   "execution_count": 877,
   "metadata": {},
   "outputs": [],
   "source": [
    "# la bound\n",
    "# lb bound\n",
    "# ht bound\n"
   ]
  },
  {
   "cell_type": "code",
   "execution_count": 878,
   "metadata": {},
   "outputs": [],
   "source": [
    "def gen_deadline(exec_time, period):\n",
    "    # [a,b]\n",
    "    b = 1.2 * period\n",
    "    if(exec_time < 10):\n",
    "        a = exec_time\n",
    "    elif(exec_time < 100 and exec_time >= 10):\n",
    "        a = 2*exec_time\n",
    "    elif(exec_time < 1000 and exec_time >= 100):\n",
    "        a = 3*exec_time\n",
    "    else:\n",
    "        a = 4*exec_time\n",
    "\n",
    "    a = 0.7*period\n",
    "    return a+random.random()*(b-a)\n",
    "\n",
    "\n",
    "def gen_tasksets(utilizations, periods):\n",
    "\n",
    "    def trunc(x, p):\n",
    "        return int(x * 10 ** p) / float(10 ** p)\n",
    "    # [[print(ui) for ui, pi in zip(us, ps)]\n",
    "    #         for us, ps in zip(utilizations, periods)]\n",
    "    return np.array([[[trunc(ui * pi, 6), trunc(pi, 6), trunc(gen_deadline(trunc(ui * pi, 6), trunc(pi, 6)), 6)] for ui, pi in zip(us, ps)]\n",
    "            for us, ps in zip(utilizations, periods)])\n"
   ]
  },
  {
   "cell_type": "code",
   "execution_count": 879,
   "metadata": {},
   "outputs": [],
   "source": [
    "def custom_period(n, nsets,max_,min_=0):\n",
    "\tmax_power = np.log(max_)\n",
    "\n",
    "\n",
    "\tintervals = np.arange(0,np.floor(max_power)+1)\n",
    "\tintervals = np.append(intervals, max_power)\n",
    "\t#print(intervals)\n",
    "\ttask_pp = ((n-1)//(len(intervals)-1))\n",
    "\t\n",
    "\ttask_lf = np.mod(n-1, len(intervals)-1).astype(int)\n",
    "\t#print(task_lf,task_pp)\n",
    "\tperiods = np.zeros((nsets, n))\n",
    "\tfor i in range(nsets):\n",
    "\t\tfor j in range(len(intervals)-1):\n",
    "\t\t\tif(j<task_lf):\n",
    "\t\t\t\tperiods[i][j*task_pp+j:(j+1)*task_pp+j+1] = np.random.uniform(low=np.exp(intervals[j]), high=np.exp(intervals[j+1]), size=task_pp+1)\n",
    "\t\t\telse:\n",
    "\t\t\t\tperiods[i][j*task_pp+task_lf:(j+1)*task_pp+task_lf] = np.random.uniform(low=np.exp(intervals[j]), high=np.exp(intervals[j+1]), size=task_pp)\n",
    "\tperiods[0:nsets,-1] =max_ \n",
    "\treturn periods\n"
   ]
  },
  {
   "cell_type": "code",
   "execution_count": 880,
   "metadata": {},
   "outputs": [
    {
     "data": {
      "text/plain": [
       "array([[  2.6908714 ,   2.04666139,   2.41464161,   4.09273611,\n",
       "          6.49915487,   3.23987577,  14.88413258,   7.67560064,\n",
       "         12.79932038,  46.65191824,  48.68747663,  73.89237685,\n",
       "         71.82634644, 100.        ],\n",
       "       [  1.27459968,   1.59074723,   1.51420573,   6.37476289,\n",
       "          5.67396282,   2.96761992,  17.07611681,  15.49457168,\n",
       "          9.42209619,  21.43877699,  34.78055865,  84.91608362,\n",
       "         62.20966596, 100.        ]])"
      ]
     },
     "execution_count": 880,
     "metadata": {},
     "output_type": "execute_result"
    }
   ],
   "source": [
    "custom_period(14,2,100)"
   ]
  },
  {
   "cell_type": "code",
   "execution_count": 881,
   "metadata": {},
   "outputs": [],
   "source": [
    "def UUniFastDiscard(n, u, nsets):\n",
    "    sets = []\n",
    "    while len(sets) < nsets:\n",
    "        # Classic UUniFast algorithm:\n",
    "        utilizations = []\n",
    "        sumU = u\n",
    "        for i in range(1, n):\n",
    "            nextSumU = sumU * random.random() ** (1.0 / (n - i))\n",
    "            utilizations.append(sumU - nextSumU)\n",
    "            sumU = nextSumU\n",
    "        utilizations.append(sumU)\n",
    "\n",
    "        # If no task utilization exceeds 1:\n",
    "        if all(ut <= 1 for ut in utilizations):\n",
    "            sets.append(utilizations)\n",
    "\n",
    "    return sets\n",
    "\n",
    "    \n",
    "def gen_uunifastdiscard(nsets, u, n):\n",
    "    return UUniFastDiscard(n, u, nsets)"
   ]
  },
  {
   "cell_type": "code",
   "execution_count": 882,
   "metadata": {},
   "outputs": [],
   "source": [
    "def get_taskset(nsets, n):\n",
    "\tu = 0.9\n",
    "\t#n = 1000\n",
    "\tutilizations = gen_uunifastdiscard(nsets, u, n)\n",
    "\tperiods = custom_period(n, nsets, 1000, 10)\n",
    "\treturn gen_tasksets(utilizations, periods)\n",
    "\n",
    "\t"
   ]
  },
  {
   "cell_type": "code",
   "execution_count": 883,
   "metadata": {},
   "outputs": [
    {
     "data": {
      "text/plain": [
       "array([[[2.68898000e-01, 2.19575500e+00, 2.22140500e+00],\n",
       "        [5.57180000e-02, 4.92453400e+00, 4.70885700e+00],\n",
       "        [6.78404000e-01, 1.70416270e+01, 1.32300340e+01],\n",
       "        [2.59223300e+00, 2.13113600e+01, 2.23233690e+01],\n",
       "        [9.89611100e+00, 9.22343830e+01, 8.39917680e+01],\n",
       "        [8.99614110e+01, 3.69098406e+02, 4.14098721e+02],\n",
       "        [1.33842659e+02, 9.02449676e+02, 8.94372247e+02],\n",
       "        [1.05441656e+02, 1.00000000e+03, 1.04660643e+03]]])"
      ]
     },
     "execution_count": 883,
     "metadata": {},
     "output_type": "execute_result"
    }
   ],
   "source": [
    "taskset = get_taskset(1, 8)\n",
    "taskset"
   ]
  },
  {
   "cell_type": "code",
   "execution_count": 884,
   "metadata": {},
   "outputs": [
    {
     "data": {
      "text/plain": [
       "array([[2.68898000e-01, 2.19575500e+00, 2.22140500e+00],\n",
       "       [5.57180000e-02, 4.92453400e+00, 4.70885700e+00],\n",
       "       [6.78404000e-01, 1.70416270e+01, 1.32300340e+01],\n",
       "       [2.59223300e+00, 2.13113600e+01, 2.23233690e+01],\n",
       "       [9.89611100e+00, 9.22343830e+01, 8.39917680e+01],\n",
       "       [8.99614110e+01, 3.69098406e+02, 4.14098721e+02],\n",
       "       [1.33842659e+02, 9.02449676e+02, 8.94372247e+02],\n",
       "       [1.05441656e+02, 1.00000000e+03, 1.04660643e+03]])"
      ]
     },
     "execution_count": 884,
     "metadata": {},
     "output_type": "execute_result"
    }
   ],
   "source": [
    "taskset[0]"
   ]
  },
  {
   "cell_type": "markdown",
   "metadata": {},
   "source": []
  },
  {
   "cell_type": "code",
   "execution_count": 885,
   "metadata": {},
   "outputs": [],
   "source": [
    "taskset_paper = np.array([[6000, 18000, 31000], [2000, 9000, 9800], [1000, 12000, 17000], [\n",
    "                         90, 3000, 4200], [8, 78, 96], [2, 16, 12], [10, 120, 280], [26, 160, 660]])\n"
   ]
  },
  {
   "cell_type": "code",
   "execution_count": 886,
   "metadata": {},
   "outputs": [],
   "source": [
    "def procDemand_func(taskset,t):\n",
    "    deadlines = taskset[:,1]\n",
    "    periods = taskset[:,2]\n",
    "    wcet = taskset[:,0]\n",
    "\n",
    "    h_t = np.sum(np.maximum(0, 1 + np.floor((t-deadlines)/(periods)))*wcet)\n",
    "\n",
    "    return h_t"
   ]
  },
  {
   "cell_type": "code",
   "execution_count": 887,
   "metadata": {},
   "outputs": [
    {
     "name": "stdout",
     "output_type": "stream",
     "text": [
      "8890.0\n"
     ]
    }
   ],
   "source": [
    "t = 16974\n",
    "ht = procDemand_func(taskset_paper, t)\n",
    "print(ht)"
   ]
  },
  {
   "cell_type": "code",
   "execution_count": 888,
   "metadata": {},
   "outputs": [
    {
     "name": "stdout",
     "output_type": "stream",
     "text": [
      "[[[2.68898000e-01 2.19575500e+00 2.22140500e+00]\n",
      "  [5.57180000e-02 4.92453400e+00 4.70885700e+00]\n",
      "  [6.78404000e-01 1.70416270e+01 1.32300340e+01]\n",
      "  [2.59223300e+00 2.13113600e+01 2.23233690e+01]\n",
      "  [9.89611100e+00 9.22343830e+01 8.39917680e+01]\n",
      "  [8.99614110e+01 3.69098406e+02 4.14098721e+02]\n",
      "  [1.33842659e+02 9.02449676e+02 8.94372247e+02]\n",
      "  [1.05441656e+02 1.00000000e+03 1.04660643e+03]]]\n"
     ]
    }
   ],
   "source": [
    "print(taskset)"
   ]
  },
  {
   "cell_type": "code",
   "execution_count": 889,
   "metadata": {},
   "outputs": [],
   "source": [
    "taskset_paper = np.array([[6000, 18000, 31000], [2000, 9000, 9800], [1000, 12000, 17000], [90, 3000, 4200], [8, 78, 96], [2, 16, 12], [10, 120, 280], [26, 160, 660]])"
   ]
  },
  {
   "cell_type": "code",
   "execution_count": 890,
   "metadata": {},
   "outputs": [],
   "source": [
    "def La_bound(taskset):\n",
    "\t\"\"\"\n",
    "\tCompute La calculations for the La bound\n",
    "\t\n",
    "\t\"\"\"\n",
    "\twcet = taskset[:,0]\n",
    "\tdeadlines = taskset[:,1]\n",
    "\tperiods = taskset[:,2]\n",
    "\tutilizations = wcet/periods\n",
    "\ttotal_utilization = np.sum(utilizations)\n",
    "\tLa = np.maximum(np.max(deadlines),np.sum((periods-deadlines)*utilizations)/(1-total_utilization))\n",
    "\treturn La\n"
   ]
  },
  {
   "cell_type": "code",
   "execution_count": 891,
   "metadata": {},
   "outputs": [
    {
     "name": "stdout",
     "output_type": "stream",
     "text": [
      "1.610523\n"
     ]
    }
   ],
   "source": [
    "taskset = get_taskset(1, 25)\n",
    "la = La_bound(taskset)\n",
    "print(la)"
   ]
  },
  {
   "cell_type": "code",
   "execution_count": 892,
   "metadata": {},
   "outputs": [
    {
     "name": "stdout",
     "output_type": "stream",
     "text": [
      "18000.0\n"
     ]
    }
   ],
   "source": [
    "La = La_bound(taskset_paper)\n",
    "taskset_paper[:,0]/taskset_paper[:,1]\n",
    "print(La)"
   ]
  },
  {
   "cell_type": "code",
   "execution_count": 893,
   "metadata": {},
   "outputs": [],
   "source": [
    "def Lb_bound(taskset):\n",
    "    wcet = taskset[:,0]\n",
    "    deadlines = taskset[:,1]\n",
    "    periods = taskset[:,2]\n",
    "    w0 = np.sum(wcet)\n",
    "    a = w0\n",
    "    b = np.sum(np.ceil(np.round((a/periods), 1)*wcet))\n",
    "    while a != b and (((a**2 - b**2) > 0.0000001 or (b**2 - a**2) > 0.0000001)):\n",
    "        #if (a**2 - b**2 > 0 and (np.sqrt(a**2 - b**2) > 0.0001)) or (a**2 - b**2 < 0 and (np.sqrt(b**2 - a**2) > 0.0001)):\n",
    "        a = b\n",
    "        b = np.round(np.sum(np.ceil(a/periods)*wcet), 1)\n",
    "        \n",
    "    Lb = b\n",
    "    \n",
    "    return Lb"
   ]
  },
  {
   "cell_type": "code",
   "execution_count": 894,
   "metadata": {},
   "outputs": [
    {
     "name": "stdout",
     "output_type": "stream",
     "text": [
      "16984.0\n"
     ]
    }
   ],
   "source": [
    "Lb = Lb_bound(taskset_paper)\n",
    "print(Lb)"
   ]
  },
  {
   "cell_type": "code",
   "execution_count": 895,
   "metadata": {},
   "outputs": [
    {
     "name": "stdout",
     "output_type": "stream",
     "text": [
      "16\n"
     ]
    }
   ],
   "source": [
    "deadlines = taskset_paper[:, 1]\n",
    "d_min = np.min(deadlines)\n",
    "print(d_min)"
   ]
  },
  {
   "cell_type": "code",
   "execution_count": 896,
   "metadata": {},
   "outputs": [],
   "source": [
    "def get_dmin(deadliness, L):\n",
    "    return np.min(deadliness)\n",
    "    \n",
    "    "
   ]
  },
  {
   "cell_type": "code",
   "execution_count": 897,
   "metadata": {},
   "outputs": [
    {
     "name": "stdout",
     "output_type": "stream",
     "text": [
      "16\n"
     ]
    }
   ],
   "source": [
    "deadlines = taskset_paper[:, 1]\n",
    "L = np.minimum(La, Lb)\n",
    "d_min = get_dmin(deadlines, L)\n",
    "print(d_min)\n"
   ]
  },
  {
   "cell_type": "code",
   "execution_count": 898,
   "metadata": {},
   "outputs": [
    {
     "data": {
      "text/plain": [
       "(8, 3)"
      ]
     },
     "execution_count": 898,
     "metadata": {},
     "output_type": "execute_result"
    }
   ],
   "source": [
    "taskset_paper.shape"
   ]
  },
  {
   "cell_type": "code",
   "execution_count": 899,
   "metadata": {},
   "outputs": [],
   "source": [
    "def get_max_abs_deadline(taskset, L):\n",
    "    n = taskset.shape[0]\n",
    "    abs_deadlines = []\n",
    "    \n",
    "    for i in range(n):\n",
    "        p = 0\n",
    "        j = 0\n",
    "        Ti = taskset[i][2]\n",
    "        Di = taskset[i][1]\n",
    "        while p < L:\n",
    "            j += 1\n",
    "            q = p\n",
    "            p = j*Ti + Di\n",
    "            \n",
    "        abs_deadlines.append(q)\n",
    "    return np.max(abs_deadlines)\n",
    "    "
   ]
  },
  {
   "cell_type": "code",
   "execution_count": 900,
   "metadata": {},
   "outputs": [
    {
     "name": "stdout",
     "output_type": "stream",
     "text": [
      "16974\n"
     ]
    }
   ],
   "source": [
    "L = 16984\n",
    "t = get_max_abs_deadline(taskset_paper, L)\n",
    "\n",
    "print(t)"
   ]
  },
  {
   "cell_type": "code",
   "execution_count": 901,
   "metadata": {},
   "outputs": [],
   "source": [
    "def get_max_di(taskset, t):\n",
    "    n = taskset.shape[0]\n",
    "    d_max = 0\n",
    "    \n",
    "    for j in range(n):\n",
    "        if taskset[j][1] < t:\n",
    "            d = np.floor((t - taskset[j][1])/taskset[j][2])*taskset[j][2] + taskset[j][1]\n",
    "            if d == t:\n",
    "                d = d - taskset[j][2]\n",
    "            if d > d_max:\n",
    "                d_max = d\n",
    "                \n",
    "    return d_max\n",
    "    \n",
    "    "
   ]
  },
  {
   "cell_type": "code",
   "execution_count": 914,
   "metadata": {},
   "outputs": [],
   "source": [
    "def La_starbound(taskset):\n",
    "\t\"\"\"\n",
    "\tCompute La calculations for the La bound\n",
    "\t\n",
    "\t\"\"\"\n",
    "\twcet = taskset[:, 0]\n",
    "\tdeadlines = taskset[:, 1]\n",
    "\tperiods = taskset[:, 2]\n",
    "\tutilizations = wcet/periods\n",
    "\t#print(\"deadlines\", deadlines, \"periods\", periods, \"utilizations\", utilizations)\n",
    "\t#print(deadlines, periods, utilizations)\n",
    "\ttotal_utilization = np.sum(utilizations)\n",
    "\t#print(\"total utilization : \" + str(total_utilization))\n",
    "\t# print(np.sum((periods-deadlines)*utilizations)/(1-total_utilization))\n",
    "\t#La = np.maximum(np.max(deadlines),np.max((periods-deadlines))*(total_utilization/(1-total_utilization)))\n",
    "\tprint(np.max(deadlines))\n",
    "\tLa = np.maximum(np.max(deadlines-periods),\n",
    "\t                np.sum((periods-deadlines)*utilizations)/(1-total_utilization))\n",
    "\treturn La\n"
   ]
  },
  {
   "cell_type": "code",
   "execution_count": 915,
   "metadata": {},
   "outputs": [],
   "source": [
    "def La_starcalculations(taskset):\n",
    "\tLa_star = La_starbound(taskset)\n",
    "\twcet = taskset[:, 0]\n",
    "\tdeadlines = taskset[:, 1]\n",
    "\tperiods = taskset[:, 2]\n",
    "\ttot_abs_deadlines = 0\n",
    "\tfor job in taskset:\n",
    "\t\tjob_abs_deadline = 0\n",
    "\t\tif (job[1] <= job[2]):\n",
    "\t\t\tjob_abs_deadline = np.floor((La_star)/job[2])\n",
    "\t\t\tif (job_abs_deadline*job[2]+job[1] <= La):\n",
    "\t\t\t\tjob_abs_deadline = job_abs_deadline+1\n",
    "\t\telse:\n",
    "\t\t\tjob_abs_deadline = np.floor((La_star)/job[2])\n",
    "\t\ttot_abs_deadlines += job_abs_deadline\n",
    "\t\tprint(job_abs_deadline, job[1], job[2])\n",
    "\treturn tot_abs_deadlines\n"
   ]
  },
  {
   "cell_type": "code",
   "execution_count": 902,
   "metadata": {},
   "outputs": [],
   "source": [
    "def La_boudcalculations(taskset):\n",
    "\tLa = La_bound(taskset)\n",
    "\t#print(\"La : \" + str(La))\n",
    "\twcet = taskset[:, 0]\n",
    "\tdeadlines = taskset[:, 1]\n",
    "\tperiods = taskset[:, 2]\n",
    "\ttot_abs_deadlines = 0\n",
    "\tfor job in taskset:\n",
    "\t\tjob_abs_deadline = 0\n",
    "\t\tif (job[1] <= job[2]):\n",
    "\t\t\tjob_abs_deadline = np.floor((La)/job[2])\n",
    "\t\t\tif (job_abs_deadline*job[2]+job[1] <= La):\n",
    "\t\t\t\tjob_abs_deadline = job_abs_deadline+1\n",
    "\t\telse:\n",
    "\t\t\tjob_abs_deadline = np.floor((La)/job[1])\n",
    "\t\ttot_abs_deadlines += job_abs_deadline\n",
    "\t\t#print(job_abs_deadline, job[1], job[2])\n",
    "\treturn tot_abs_deadlines\n"
   ]
  },
  {
   "cell_type": "code",
   "execution_count": 903,
   "metadata": {},
   "outputs": [],
   "source": [
    "def Lb_boudcalculations(taskset):\n",
    "\tLb = Lb_bound(taskset)\n",
    "\twcet = taskset[:, 0]\n",
    "\tdeadlines = taskset[:, 1]\n",
    "\tperiods = taskset[:, 2]\n",
    "\ttot_abs_deadlines = 0\n",
    "\t#print(Lb)\n",
    "\tfor job in taskset:\n",
    "\t\tjob_abs_deadline = 0\n",
    "\t\tif (job[1] <= job[2]):\n",
    "\t\t\tjob_abs_deadline = np.floor((Lb)/job[2])\n",
    "\t\t\tif (job_abs_deadline*job[2]+job[1] <= La):\n",
    "\t\t\t\tjob_abs_deadline = job_abs_deadline+1\n",
    "\t\telse:\n",
    "\t\t\tjob_abs_deadline = np.floor((Lb)/job[2])\n",
    "\t\ttot_abs_deadlines += job_abs_deadline\n",
    "\t\t#print(job_abs_deadline, job[1], job[2])\n",
    "\treturn tot_abs_deadlines\n"
   ]
  },
  {
   "cell_type": "code",
   "execution_count": 904,
   "metadata": {},
   "outputs": [],
   "source": [
    "def qpa(taskset):\n",
    "    \n",
    "    La = La_bound(taskset)\n",
    "    print(\"La : \" + str(La))\n",
    "    Lb = Lb_bound(taskset)\n",
    "    print(\"Lb : \" + str(Lb))\n",
    "    L = np.minimum(La, Lb)\n",
    "    print(\"L : \" + str(L))\n",
    "    \n",
    "    t = get_max_abs_deadline(taskset, L)\n",
    "    #print(\"t : \" + str(t))\n",
    "    h_t = procDemand_func(taskset, t)\n",
    "    #print(\"h(t) : \" + str(h_t))\n",
    "\n",
    "    total_cal = 0\n",
    "    \n",
    "    while h_t <= t and h_t > d_min:\n",
    "        h_t = procDemand_func(taskset, t)\n",
    "        total_cal += 1\n",
    "\n",
    "        print(\"t : \" + str(t))\n",
    "        print(\"h(t) : \" + str(h_t))\n",
    "        if h_t < t:\n",
    "            t = h_t\n",
    "        else:\n",
    "            d_max = get_max_di(taskset, t)\n",
    "            t = d_max\n",
    "    \n",
    "    if h_t <= d_min:\n",
    "        print(\"Task set is schedulable\")\n",
    "        print(\"total calculations : \" + str(total_cal))\n",
    "        return total_cal\n",
    "    else:\n",
    "        print(\"Task set is not schedulable\")\n",
    "        \n",
    "\n",
    "    "
   ]
  },
  {
   "cell_type": "code",
   "execution_count": 905,
   "metadata": {},
   "outputs": [
    {
     "name": "stdout",
     "output_type": "stream",
     "text": [
      "La : 18000.0\n",
      "Lb : 16984.0\n",
      "L : 16984.0\n",
      "t : 16974\n",
      "h(t) : 8890.0\n",
      "t : 8890.0\n",
      "h(t) : 3080.0\n",
      "t : 3080.0\n",
      "h(t) : 1098.0\n",
      "t : 1098.0\n",
      "h(t) : 362.0\n",
      "t : 362.0\n",
      "h(t) : 118.0\n",
      "t : 118.0\n",
      "h(t) : 26.0\n",
      "t : 26.0\n",
      "h(t) : 2.0\n",
      "Task set is schedulable\n",
      "total calculations : 7\n"
     ]
    },
    {
     "data": {
      "text/plain": [
       "7"
      ]
     },
     "execution_count": 905,
     "metadata": {},
     "output_type": "execute_result"
    }
   ],
   "source": [
    "qpa(taskset_paper)"
   ]
  },
  {
   "cell_type": "code",
   "execution_count": 906,
   "metadata": {},
   "outputs": [],
   "source": [
    "taskset_paper = np.array([[6000,18000,31000],[2000,9000,9800],[1000,12000,17000],[90,3000,4200],[8,78,96],[2,16,12],[10,120,280],[26,160,660]])"
   ]
  },
  {
   "cell_type": "code",
   "execution_count": 907,
   "metadata": {},
   "outputs": [
    {
     "name": "stdout",
     "output_type": "stream",
     "text": [
      "La : 1000.0\n",
      "Lb : 409.1\n",
      "L : 409.1\n",
      "t : 408.460933\n",
      "h(t) : 330.60862000000003\n",
      "t : 330.60862000000003\n",
      "h(t) : 264.937403\n",
      "t : 264.937403\n",
      "h(t) : 212.91638899999998\n",
      "t : 212.91638899999998\n",
      "h(t) : 168.690935\n",
      "t : 168.690935\n",
      "h(t) : 129.697189\n",
      "t : 129.697189\n",
      "h(t) : 101.079102\n",
      "t : 101.079102\n",
      "h(t) : 77.364557\n",
      "t : 77.364557\n",
      "h(t) : 56.542030000000004\n",
      "t : 56.542030000000004\n",
      "h(t) : 44.684607\n",
      "t : 44.684607\n",
      "h(t) : 31.510105\n",
      "t : 31.510105\n",
      "h(t) : 23.550462\n",
      "t : 23.550462\n",
      "h(t) : 12.169041\n",
      "Task set is schedulable\n",
      "total calculations : 12\n"
     ]
    },
    {
     "data": {
      "text/plain": [
       "12"
      ]
     },
     "execution_count": 907,
     "metadata": {},
     "output_type": "execute_result"
    }
   ],
   "source": [
    "taskset = get_taskset(1, 5)\n",
    "#taskset\n",
    "taskset = np.array(taskset[0])\n",
    "qpa(taskset)\n"
   ]
  },
  {
   "cell_type": "code",
   "execution_count": 908,
   "metadata": {},
   "outputs": [
    {
     "name": "stdout",
     "output_type": "stream",
     "text": [
      "2\n",
      "La : 1000.0\n",
      "Lb : 767.3\n",
      "L : 767.3\n",
      "t : 765.4944449999999\n",
      "h(t) : 441.50152799999995\n",
      "t : 441.50152799999995\n",
      "h(t) : 253.297351\n",
      "t : 253.297351\n",
      "h(t) : 145.752107\n",
      "t : 145.752107\n",
      "h(t) : 83.489071\n",
      "t : 83.489071\n",
      "h(t) : 48.112345999999995\n",
      "t : 48.112345999999995\n",
      "h(t) : 26.886311\n",
      "t : 26.886311\n",
      "h(t) : 14.150689999999999\n",
      "Task set is schedulable\n",
      "total calculations : 7\n",
      "9\n",
      "La : 1000.0\n",
      "Lb : 565.5\n",
      "L : 565.5\n",
      "t : 565.251942\n",
      "h(t) : 349.783814\n",
      "t : 349.783814\n",
      "h(t) : 221.82924699999998\n",
      "t : 221.82924699999998\n",
      "h(t) : 125.621674\n",
      "t : 125.621674\n",
      "h(t) : 66.394369\n",
      "t : 66.394369\n",
      "h(t) : 37.018529\n",
      "t : 37.018529\n",
      "h(t) : 11.120434\n",
      "Task set is schedulable\n",
      "total calculations : 6\n"
     ]
    }
   ],
   "source": [
    "x = [2, 9]\n",
    "# x.append(np.random.randint(1, 100))\n",
    "# print(x)\n",
    "\n",
    "qpa_y = []\n",
    "for i in x:\n",
    "\tprint(i)\n",
    "\ttaskset = get_taskset(1, int(i))\n",
    "\tqpa_y.append(qpa(taskset[0]))\n"
   ]
  },
  {
   "cell_type": "code",
   "execution_count": 909,
   "metadata": {},
   "outputs": [],
   "source": [
    "def qpa(taskset):\n",
    "\n",
    "    La = La_bound(taskset)\n",
    "    #print(\"La : \" + str(La))\n",
    "    #Lb = Lb_bound(taskset)\n",
    "    #print(\"Lb : \" + str(Lb))\n",
    "    L = La#np.minimum(La, Lb)\n",
    "    #print(\"L : \" + str(L))\n",
    "\n",
    "    t = get_max_abs_deadline(taskset, L)\n",
    "    #print(\"t : \" + str(t))\n",
    "    h_t = procDemand_func(taskset, t)\n",
    "    #print(\"h(t) : \" + str(h_t))\n",
    "\n",
    "    total_cal = 0\n",
    "\n",
    "    while h_t <= t and h_t > d_min:\n",
    "        h_t = procDemand_func(taskset, t)\n",
    "        total_cal += 1\n",
    "\n",
    "        #print(\"t : \" + str(t))\n",
    "        #print(\"h(t) : \" + str(h_t))\n",
    "        if h_t < t:\n",
    "            t = h_t\n",
    "        else:\n",
    "            d_max = get_max_di(taskset, t)\n",
    "            t = d_max\n",
    "\n",
    "    if h_t <= d_min:\n",
    "        #print(\"Task set is schedulable\")\n",
    "        #print(\"total calculations : \" + str(total_cal))\n",
    "        return total_cal\n",
    "    else:\n",
    "        #print(\"Task set is not schedulable\")\n",
    "        #print(\"total calculations : \" + str(total_cal))\n",
    "        return total_cal\n"
   ]
  },
  {
   "cell_type": "code",
   "execution_count": 910,
   "metadata": {},
   "outputs": [
    {
     "name": "stdout",
     "output_type": "stream",
     "text": [
      "10 0\n",
      "513\n",
      "20 1\n",
      "521\n",
      "40 2\n",
      "494\n",
      "80 3\n",
      "459\n",
      "160 4\n",
      "456\n",
      "320 5\n",
      "413\n",
      "640 6\n",
      "377\n",
      "1280 7\n",
      "346\n",
      "[10.590643274853802, 11.614203454894433, 11.923076923076923, 11.583877995642702, 11.831140350877194, 11.961259079903147, 12.037135278514588, 12.127167630057803]\n"
     ]
    },
    {
     "data": {
      "text/plain": [
       "[<matplotlib.lines.Line2D at 0x21fbb3db220>]"
      ]
     },
     "execution_count": 910,
     "metadata": {},
     "output_type": "execute_result"
    },
    {
     "data": {
      "image/png": "[encoded data removed]",
      "text/plain": [
       "<Figure size 640x480 with 1 Axes>"
      ]
     },
     "metadata": {},
     "output_type": "display_data"
    }
   ],
   "source": [
    "x = [10, 20, 40, 80, 160, 320, 640, 1280]\n",
    "q = [0] * len(x)\n",
    "la_cal = [0] * len(x)\n",
    "lb_cal = [0] * len(x)\n",
    "l = 0\n",
    "\n",
    "for i in range(len(x)):\n",
    "        print(x[i],i)\n",
    "        taskset = get_taskset(1000, int(x[i]))\n",
    "        total_count =0\n",
    "        for j in range(len(taskset)):\n",
    "            task = np.array(taskset[j])\n",
    "            wcet = task[:, 0]\n",
    "            deadlines = task[:, 1]\n",
    "            periods = task[:, 2]\n",
    "            \n",
    "            utilizations = np.sum(wcet/np.minimum(periods, deadlines))\n",
    "            if(utilizations<=1):\n",
    "                ht_calculated = True\n",
    "                total_count+=1\n",
    "            else:\n",
    "                #print(\"utilization is greater than 1\")\n",
    "                continue\n",
    "\n",
    "            #print(\"utilization : \" + str(utilizations))\n",
    "\n",
    "            q[l] += qpa(task)\n",
    "            la_cal[l] += La_boudcalculations(task)\n",
    "            lb_cal[l] += Lb_boudcalculations(task)\n",
    "\n",
    "        q[l]= q[l]/total_count\n",
    "        la_cal[l] = la_cal[l]/total_count\n",
    "        lb_cal[l] = lb_cal[l]/total_count\n",
    "        print(total_count)\n",
    "        l += 1\n",
    "\n",
    "print(q)\n",
    "plt.plot(x, q)\n",
    "plt.plot(x, la_cal)\n",
    "plt.plot(x, lb_cal)\n"
   ]
  },
  {
   "cell_type": "code",
   "execution_count": 913,
   "metadata": {},
   "outputs": [
    {
     "data": {
      "text/plain": [
       "[<matplotlib.lines.Line2D at 0x21fceb7d820>]"
      ]
     },
     "execution_count": 913,
     "metadata": {},
     "output_type": "execute_result"
    },
    {
     "data": {
      "image/png": "[encoded data removed]",
      "text/plain": [
       "<Figure size 640x480 with 1 Axes>"
      ]
     },
     "metadata": {},
     "output_type": "display_data"
    }
   ],
   "source": [
    "plt.yscale(\"log\")\n",
    "plt.plot(x, q)\n",
    "plt.plot(x, la_cal)\n",
    "plt.plot(x, lb_cal)\n"
   ]
  },
  {
   "cell_type": "markdown",
   "metadata": {},
   "source": [
    "## Number of calculations req while doing with La bound"
   ]
  },
  {
   "cell_type": "code",
   "execution_count": 911,
   "metadata": {},
   "outputs": [
    {
     "name": "stdout",
     "output_type": "stream",
     "text": [
      "La 785.0\n",
      "t 784\n",
      "1411.0\n"
     ]
    }
   ],
   "source": [
    "n = 8\n",
    "taskset = get_taskset(1, n)\n",
    "taskset = np.array(taskset[0])\n",
    "La = La_boudcalculations(taskset)\n",
    "t = int(La) - 1\n",
    "print(\"La\", La)\n",
    "print(\"t\", t)\n",
    "ht_count = 0\n",
    "\n",
    "while t < La:\n",
    "    h_t = procDemand_func(taskset, t)\n",
    "    if h_t > t:\n",
    "        break\n",
    "    t -= 1\n",
    "    ht_count += 1\n",
    "\n",
    "print(La_boudcalculations(taskset_paper))"
   ]
  },
  {
   "cell_type": "markdown",
   "metadata": {},
   "source": [
    "## Calculating number of h_t operations for Lb bound"
   ]
  },
  {
   "cell_type": "code",
   "execution_count": 912,
   "metadata": {},
   "outputs": [
    {
     "name": "stdout",
     "output_type": "stream",
     "text": [
      "Lb 1722.7\n",
      "t 1721\n",
      "1722\n"
     ]
    }
   ],
   "source": [
    "n = 8\n",
    "taskset = get_taskset(1, n)\n",
    "taskset = np.array(taskset[0])\n",
    "Lb = Lb_bound(taskset)\n",
    "t = int(Lb) - 1\n",
    "print(\"Lb\", Lb)\n",
    "print(\"t\", t)\n",
    "ht_count = 0\n",
    "\n",
    "while t < Lb:\n",
    "    h_t = procDemand_func(taskset, t)\n",
    "    if h_t > t:\n",
    "        break\n",
    "    t -= 1\n",
    "    ht_count += 1\n",
    "\n",
    "print(ht_count)\n"
   ]
  }
 ],
 "metadata": {
  "kernelspec": {
   "display_name": "Python 3.9.13 ('base')",
   "language": "python",
   "name": "python3"
  },
  "language_info": {
   "codemirror_mode": {
    "name": "ipython",
    "version": 3
   },
   "file_extension": ".py",
   "mimetype": "text/x-python",
   "name": "python",
   "nbconvert_exporter": "python",
   "pygments_lexer": "ipython3",
   "version": "3.9.13"
  },
  "orig_nbformat": 4,
  "vscode": {
   "interpreter": {
    "hash": "7c97a674548a7d5c16f88f314b46eb496b5ca9877ea580f0d75798cdeb497c30"
   }
  }
 },
 "nbformat": 4,
 "nbformat_minor": 2
}
